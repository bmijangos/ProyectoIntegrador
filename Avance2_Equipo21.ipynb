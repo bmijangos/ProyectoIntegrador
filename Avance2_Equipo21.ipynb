{
  "nbformat": 4,
  "nbformat_minor": 0,
  "metadata": {
    "colab": {
      "provenance": [],
      "gpuType": "T4",
      "include_colab_link": true
    },
    "kernelspec": {
      "name": "python3",
      "display_name": "Python 3"
    },
    "language_info": {
      "name": "python"
    },
    "accelerator": "GPU"
  },
  "cells": [
    {
      "cell_type": "markdown",
      "metadata": {
        "id": "view-in-github",
        "colab_type": "text"
      },
      "source": [
        "<a href=\"https://colab.research.google.com/github/bmijangos/ProyectoIntegrador/blob/main/Avance2_Equipo21.ipynb\" target=\"_parent\"><img src=\"https://colab.research.google.com/assets/colab-badge.svg\" alt=\"Open In Colab\"/></a>"
      ]
    },
    {
      "cell_type": "markdown",
      "source": [
        "#**Tecnológico de Monterrey**\n",
        "\n",
        "# **Proyecto Integrador**\n",
        "## Avance 2\n",
        "## Ingeniería de características\n",
        "###Dra. Grettel Barceló Alonso\n",
        "###EQUIPO 21\n",
        "###Bernardo Mijango Flores - A01793654\n",
        "###Dalia Isabel López Tapia - A01245026\n",
        "###David Valles Canedo - A01191310\n",
        "12 de mayo de 2024"
      ],
      "metadata": {
        "id": "QrCr0JiVIrHc"
      }
    },
    {
      "cell_type": "markdown",
      "source": [
        "### Importaciones, Dependencias y Pasos Iniciales"
      ],
      "metadata": {
        "id": "Kt_MYO-kSpx3"
      }
    },
    {
      "cell_type": "code",
      "source": [
        "# conectamos al drive de google para la lectura de los archivos csv\n",
        "from google.colab import drive\n",
        "drive.mount('/content/drive')"
      ],
      "metadata": {
        "colab": {
          "base_uri": "https://localhost:8080/"
        },
        "id": "EfSJoeGsI_Er",
        "outputId": "98d40d09-bfa4-4c48-f9d3-422634ea0de5"
      },
      "execution_count": 1,
      "outputs": [
        {
          "output_type": "stream",
          "name": "stdout",
          "text": [
            "Mounted at /content/drive\n"
          ]
        }
      ]
    },
    {
      "cell_type": "code",
      "source": [
        "import os\n",
        "import pandas as pd\n",
        "import matplotlib.pyplot as plt\n",
        "import numpy as np\n",
        "import seaborn as sns   # para un mejor despliegue de los gráficos\n",
        "\n",
        "from sklearn.pipeline import Pipeline\n",
        "from sklearn.preprocessing import StandardScaler, LabelEncoder, OneHotEncoder\n",
        "from sklearn.decomposition import PCA\n",
        "from sklearn.feature_selection import VarianceThreshold\n",
        "from sklearn.compose import ColumnTransformer\n",
        "from sklearn.feature_selection import SelectKBest\n",
        "from sklearn.feature_selection import f_regression\n",
        "\n",
        "from sklearn.model_selection import train_test_split\n",
        "from sklearn.impute import SimpleImputer\n",
        "from feature_engine.imputation import CategoricalImputer\n",
        "from feature_engine.outliers import OutlierTrimmer\n"
      ],
      "metadata": {
        "id": "CqsusnODJGEE"
      },
      "execution_count": 5,
      "outputs": []
    },
    {
      "cell_type": "markdown",
      "source": [
        "Se realizo una corrección en la consulta de la base de datos para obtener la edad del cliente al momento del desembolso del crédito, en el avance 1 nos dimos cuenta de este error, además se agregaron los castigos en el mismo archivo dando un total de 4,382,214 registros resultado de los 4,254,537 del archivo de pagos mas 127,677 del archivo de castigos"
      ],
      "metadata": {
        "id": "ZdCRuqnJW1vW"
      }
    },
    {
      "cell_type": "code",
      "source": [
        "# Lectura de los archivos csv\n",
        "file_path = '/content/drive/MyDrive/DataSetProyecto/GrupalTodoCorregido.csv'\n",
        "\n",
        "label = [\"IdCliente\",\"FechaAltaCliente\",\"CodigoGrupo\",\"EdadCliente\",\"Genero\",\"EstadoCivil\",\"Escolaridad\",\"CapacidadPago\",\"Localidad\",\"CodigoSucursal\",\"CodigoASesor\",\"NumeroCredito\",\"CicloCliente\",\"FechaDesembolso\",\"FechaVencimiento\",\"FechaCancelacion\",\"Plazo\",\"PeriodoPago\",\"EstatusCredito\",\"MontoCredito\",\"CuotaNumero\",\"CuotaFechaVencimiento\",\"CuotaFechaCancelacion\",\"MontoCuota\",\"MontoCapital\",\"SaldoCapital\",\"EstatusCuota\",\"DiasAtraso\"]\n",
        "\n",
        "# Obtenemos el dataframe\n",
        "grupal_df = pd.read_csv(file_path, names=label)\n",
        "\n",
        "grupal_df.shape"
      ],
      "metadata": {
        "colab": {
          "base_uri": "https://localhost:8080/"
        },
        "id": "eBsDSw1bKzhK",
        "outputId": "8ed6e1c1-f1d9-4f61-d6b7-8cc00e4c7a74"
      },
      "execution_count": 6,
      "outputs": [
        {
          "output_type": "execute_result",
          "data": {
            "text/plain": [
              "(4382214, 28)"
            ]
          },
          "metadata": {},
          "execution_count": 6
        }
      ]
    },
    {
      "cell_type": "code",
      "source": [
        "grupal_df.isnull().sum()"
      ],
      "metadata": {
        "colab": {
          "base_uri": "https://localhost:8080/"
        },
        "id": "mO1ea5OBNyYj",
        "outputId": "4a062999-d292-4e79-a747-aa490e2d9652"
      },
      "execution_count": 7,
      "outputs": [
        {
          "output_type": "execute_result",
          "data": {
            "text/plain": [
              "IdCliente                   0\n",
              "FechaAltaCliente            0\n",
              "CodigoGrupo                 0\n",
              "EdadCliente                 0\n",
              "Genero                      0\n",
              "EstadoCivil                 0\n",
              "Escolaridad              1243\n",
              "CapacidadPago               0\n",
              "Localidad                   0\n",
              "CodigoSucursal              0\n",
              "CodigoASesor                0\n",
              "NumeroCredito               0\n",
              "CicloCliente                0\n",
              "FechaDesembolso             0\n",
              "FechaVencimiento            0\n",
              "FechaCancelacion            0\n",
              "Plazo                       0\n",
              "PeriodoPago                 0\n",
              "EstatusCredito              0\n",
              "MontoCredito                0\n",
              "CuotaNumero                 0\n",
              "CuotaFechaVencimiento       0\n",
              "CuotaFechaCancelacion     128\n",
              "MontoCuota                  0\n",
              "MontoCapital                0\n",
              "SaldoCapital                0\n",
              "EstatusCuota                0\n",
              "DiasAtraso                128\n",
              "dtype: int64"
            ]
          },
          "metadata": {},
          "execution_count": 7
        }
      ]
    },
    {
      "cell_type": "code",
      "source": [
        "# visualizamos la proporcion de los datos faltantes\n",
        "\n",
        "with plt.style.context(\"seaborn\"):\n",
        "  grupal_df.isnull().mean().sort_values(ascending=False).plot.bar(rot=90)\n",
        "\n",
        "plt.ylabel(\"Proporcion de datos faltantes\")\n",
        "plt.title(\"Proporcion de datos faltantes por variable\")\n",
        "\n"
      ],
      "metadata": {
        "id": "T0bRo9D2a8i7",
        "outputId": "34f37bde-c7bb-4fc1-b7b6-938803e53586",
        "colab": {
          "base_uri": "https://localhost:8080/",
          "height": 677
        }
      },
      "execution_count": 8,
      "outputs": [
        {
          "output_type": "execute_result",
          "data": {
            "text/plain": [
              "Text(0.5, 1.0, 'Proporcion de datos faltantes por variable')"
            ]
          },
          "metadata": {},
          "execution_count": 8
        },
        {
          "output_type": "display_data",
          "data": {
            "text/plain": [
              "<Figure size 800x550 with 1 Axes>"
            ],
            "image/png": "[encoded data removed]"
          },
          "metadata": {}
        }
      ]
    },
    {
      "cell_type": "markdown",
      "source": [
        "Al ser un procentaje menor al 0.028 % se decide eliminarlos de la muestra"
      ],
      "metadata": {
        "id": "pGtQc6iSetVJ"
      }
    },
    {
      "cell_type": "code",
      "source": [
        "# eliminamos los valores nulos\n",
        "gpdf = grupal_df.dropna()"
      ],
      "metadata": {
        "id": "CDUVh80uN18N"
      },
      "execution_count": 10,
      "outputs": []
    },
    {
      "cell_type": "code",
      "source": [
        "gpdf.isnull().values.any()"
      ],
      "metadata": {
        "id": "XXIqYlpbfkLO",
        "outputId": "65d4568a-c84a-4ba6-d626-57cb4671e55f",
        "colab": {
          "base_uri": "https://localhost:8080/"
        }
      },
      "execution_count": 11,
      "outputs": [
        {
          "output_type": "execute_result",
          "data": {
            "text/plain": [
              "False"
            ]
          },
          "metadata": {},
          "execution_count": 11
        }
      ]
    },
    {
      "cell_type": "code",
      "source": [
        "gpdf.info()"
      ],
      "metadata": {
        "id": "xXNdl2M0h4hA",
        "outputId": "143a4b38-46aa-48ad-8832-b489a07ee720",
        "colab": {
          "base_uri": "https://localhost:8080/"
        }
      },
      "execution_count": 30,
      "outputs": [
        {
          "output_type": "stream",
          "name": "stdout",
          "text": [
            "<class 'pandas.core.frame.DataFrame'>\n",
            "Index: 4380844 entries, 0 to 4382213\n",
            "Data columns (total 28 columns):\n",
            " #   Column                 Dtype  \n",
            "---  ------                 -----  \n",
            " 0   IdCliente              int64  \n",
            " 1   FechaAltaCliente       object \n",
            " 2   CodigoGrupo            int64  \n",
            " 3   EdadCliente            int64  \n",
            " 4   Genero                 object \n",
            " 5   EstadoCivil            int64  \n",
            " 6   Escolaridad            object \n",
            " 7   CapacidadPago          float64\n",
            " 8   Localidad              int64  \n",
            " 9   CodigoSucursal         int64  \n",
            " 10  CodigoASesor           object \n",
            " 11  NumeroCredito          int64  \n",
            " 12  CicloCliente           int64  \n",
            " 13  FechaDesembolso        object \n",
            " 14  FechaVencimiento       object \n",
            " 15  FechaCancelacion       object \n",
            " 16  Plazo                  int64  \n",
            " 17  PeriodoPago            object \n",
            " 18  EstatusCredito         object \n",
            " 19  MontoCredito           float64\n",
            " 20  CuotaNumero            int64  \n",
            " 21  CuotaFechaVencimiento  object \n",
            " 22  CuotaFechaCancelacion  object \n",
            " 23  MontoCuota             float64\n",
            " 24  MontoCapital           float64\n",
            " 25  SaldoCapital           float64\n",
            " 26  EstatusCuota           object \n",
            " 27  DiasAtraso             float64\n",
            "dtypes: float64(6), int64(10), object(12)\n",
            "memory usage: 969.3+ MB\n"
          ]
        }
      ]
    },
    {
      "cell_type": "code",
      "source": [
        "gpdf.shape"
      ],
      "metadata": {
        "id": "HJRyqbEhi4kR",
        "outputId": "4ee8b290-29d0-4f5d-fc32-95b5ce284653",
        "colab": {
          "base_uri": "https://localhost:8080/"
        }
      },
      "execution_count": 31,
      "outputs": [
        {
          "output_type": "execute_result",
          "data": {
            "text/plain": [
              "(4380844, 28)"
            ]
          },
          "metadata": {},
          "execution_count": 31
        }
      ]
    },
    {
      "cell_type": "code",
      "source": [
        "print(gpdf.describe(exclude=[object]))"
      ],
      "metadata": {
        "id": "Peeop_uPg9UB",
        "outputId": "3dcf0cff-621c-413f-bb57-2cc6d3946fef",
        "colab": {
          "base_uri": "https://localhost:8080/"
        }
      },
      "execution_count": 34,
      "outputs": [
        {
          "output_type": "stream",
          "name": "stdout",
          "text": [
            "          IdCliente   CodigoGrupo   EdadCliente   EstadoCivil  CapacidadPago  \\\n",
            "count  4.380844e+06  4.380844e+06  4.380844e+06  4.380844e+06   4.380844e+06   \n",
            "mean   5.902005e+04  8.415457e+02  3.944503e+01  3.268472e+00   7.633413e+03   \n",
            "std    3.836093e+04  5.770191e+02  1.305678e+01  1.669057e+00   3.069242e+04   \n",
            "min    4.000000e+00  0.000000e+00  1.500000e+01  1.000000e+00  -6.391200e+06   \n",
            "25%    2.367200e+04  3.130000e+02  2.900000e+01  2.000000e+00   2.400000e+03   \n",
            "50%    5.530600e+04  8.230000e+02  3.800000e+01  3.000000e+00   6.000000e+03   \n",
            "75%    9.229100e+04  1.244000e+03  4.800000e+01  5.000000e+00   1.017600e+04   \n",
            "max    1.376940e+05  2.594000e+03  1.010000e+02  7.000000e+00   8.000400e+06   \n",
            "\n",
            "          Localidad  CodigoSucursal  NumeroCredito  CicloCliente  \\\n",
            "count  4.380844e+06    4.380844e+06   4.380844e+06  4.380844e+06   \n",
            "mean   7.607020e+03    6.142390e+00   6.143053e+09  5.265920e+00   \n",
            "std    3.124029e+03    4.096959e+00   4.096748e+09  4.991101e+00   \n",
            "min    1.878000e+03    0.000000e+00   7.000000e+02  1.000000e+00   \n",
            "25%    7.065000e+03    3.000000e+00   3.000495e+09  2.000000e+00   \n",
            "50%    7.089000e+03    6.000000e+00   6.000648e+09  3.000000e+00   \n",
            "75%    7.131000e+03    9.000000e+00   9.000350e+09  7.000000e+00   \n",
            "max    3.068000e+04    2.100000e+01   2.100005e+10  4.300000e+01   \n",
            "\n",
            "              Plazo  MontoCredito   CuotaNumero    MontoCuota  MontoCapital  \\\n",
            "count  4.380844e+06  4.380844e+06  4.380844e+06  4.380844e+06  4.380844e+06   \n",
            "mean   1.210345e+01  7.982243e+03  6.551549e+00  8.140315e+02  6.644447e+02   \n",
            "std    2.916643e+00  7.905486e+03  3.867682e+00  8.199406e+02  6.668485e+02   \n",
            "min    3.000000e+00  5.000000e+02  1.000000e+00  7.880000e+00  7.010000e+00   \n",
            "25%    1.200000e+01  3.000000e+03  3.000000e+00  3.705500e+02  2.929900e+02   \n",
            "50%    1.200000e+01  5.000000e+03  6.000000e+00  5.652800e+02  4.638900e+02   \n",
            "75%    1.200000e+01  1.000000e+04  9.000000e+00  9.685500e+02  7.769400e+02   \n",
            "max    3.600000e+01  1.200000e+05  3.600000e+01  2.678669e+04  2.580999e+04   \n",
            "\n",
            "       SaldoCapital    DiasAtraso  \n",
            "count  4.380844e+06  4.380844e+06  \n",
            "mean   7.455159e+00  2.969777e+00  \n",
            "std    1.043779e+02  1.974099e+01  \n",
            "min    0.000000e+00 -4.660000e+02  \n",
            "25%    0.000000e+00  0.000000e+00  \n",
            "50%    0.000000e+00  0.000000e+00  \n",
            "75%    0.000000e+00  1.000000e+00  \n",
            "max    1.086918e+04  1.977000e+03  \n"
          ]
        }
      ]
    },
    {
      "cell_type": "code",
      "source": [
        "print(gpdf.describe(include=[object]))"
      ],
      "metadata": {
        "colab": {
          "base_uri": "https://localhost:8080/"
        },
        "id": "ZK_9w9yW8-M3",
        "outputId": "583aaf82-1347-4401-bcd5-6e34b8a00071"
      },
      "execution_count": 35,
      "outputs": [
        {
          "output_type": "stream",
          "name": "stdout",
          "text": [
            "               FechaAltaCliente   Genero Escolaridad CodigoASesor  \\\n",
            "count                   4380844  4380844     4380844      4380844   \n",
            "unique                    15962        2          14          528   \n",
            "top     2004-02-05 00:00:00.000        F          1A       ACORZO   \n",
            "freq                       7669  4378507     1302653        98613   \n",
            "\n",
            "                FechaDesembolso         FechaVencimiento  \\\n",
            "count                   4380844                  4380844   \n",
            "unique                     3268                     2816   \n",
            "top     2013-04-30 00:00:00.000  2019-06-04 00:00:00.000   \n",
            "freq                       6944                     4869   \n",
            "\n",
            "               FechaCancelacion   PeriodoPago EstatusCredito  \\\n",
            "count                   4380844       4380844        4380844   \n",
            "unique                     3303             3              2   \n",
            "top     2015-12-08 00:00:00.000  CATORCENA(S)            CAN   \n",
            "freq                       7115       3816897        4253254   \n",
            "\n",
            "          CuotaFechaVencimiento    CuotaFechaCancelacion EstatusCuota  \n",
            "count                   4380844                  4380844      4380844  \n",
            "unique                     3162                    74635            2  \n",
            "top     2019-01-01 00:00:00.000  2015-12-08 00:00:00.000            C  \n",
            "freq                       3284                     6000      4380837  \n"
          ]
        }
      ]
    },
    {
      "cell_type": "code",
      "source": [
        "# función para mostrar un diagrama de caja encima de un histograma\n",
        "def plot_boxplot_hist(data, variable):\n",
        "  f,(ax_box, ax_hist) = plt.subplots(2,\n",
        "                                     sharex=True,\n",
        "                                     gridspec_kw={\"height_ratios\":(0.50,0.85)})\n",
        "  sns.boxplot(x=data[variable],ax=ax_box)\n",
        "  sns.histplot(data=data, x=variable, ax=ax_hist)\n",
        "  ax_box.set(xlabel=\"\")\n",
        "  plt.title(variable)\n",
        "  plt.show()\n"
      ],
      "metadata": {
        "id": "W_Lh-ZYK-1zf"
      },
      "execution_count": 12,
      "outputs": []
    },
    {
      "cell_type": "code",
      "source": [
        "# función para encontrar los límites de una distribución variable usando la regla de proximidad del rango intercuartil:\n",
        "\n",
        "def find_limits(df,variable,fold):\n",
        "  IQR = df[variable].quantile(0.75)-df[variable].quantile(0.25)\n",
        "  lower_limit = df[variable].quantile(0.25)-(IQR * fold)\n",
        "  upper_limit = df[variable].quantile(0.75)+(IQR * fold)\n",
        "  return lower_limit, upper_limit"
      ],
      "metadata": {
        "id": "1cK8_eS4C1Y2"
      },
      "execution_count": 13,
      "outputs": []
    },
    {
      "cell_type": "code",
      "source": [
        "# Determinamos los limintes de la variable EdadCliente\n",
        "\n",
        "lower_limit, upper_limit = find_limits(gpdf,\"EdadCliente\",3)"
      ],
      "metadata": {
        "id": "O0R3n14RFYez"
      },
      "execution_count": 14,
      "outputs": []
    },
    {
      "cell_type": "code",
      "source": [
        "# Conservemos las observaciones cuyo valor sea mayor o igual a (ge) el límite inferior:\n",
        "inliner = gpdf[\"EdadCliente\"].ge(lower_limit)\n",
        "gpdf = gpdf.loc[inliner]"
      ],
      "metadata": {
        "id": "UBH7pkhDF3vS"
      },
      "execution_count": 15,
      "outputs": []
    },
    {
      "cell_type": "code",
      "source": [
        "# Retenemos las observaciones cuyo valor sea menor o igual a (le) el límite superior:\n",
        "inliner = gpdf[\"EdadCliente\"].le(upper_limit)\n",
        "\n",
        "gpdf = gpdf.loc[inliner]"
      ],
      "metadata": {
        "id": "wC4g6XKHF3sH"
      },
      "execution_count": 16,
      "outputs": []
    },
    {
      "cell_type": "code",
      "source": [
        "\n",
        "!pip install feature_engine\n"
      ],
      "metadata": {
        "colab": {
          "base_uri": "https://localhost:8080/"
        },
        "id": "QXQwsrAQII1A",
        "outputId": "85d269ce-6445-4676-b082-35e6eea83750"
      },
      "execution_count": 1,
      "outputs": [
        {
          "output_type": "stream",
          "name": "stdout",
          "text": [
            "Requirement already satisfied: feature_engine in /usr/local/lib/python3.10/dist-packages (1.7.0)\n",
            "Requirement already satisfied: numpy>=1.18.2 in /usr/local/lib/python3.10/dist-packages (from feature_engine) (1.25.2)\n",
            "Requirement already satisfied: pandas>=2.2.0 in /usr/local/lib/python3.10/dist-packages (from feature_engine) (2.2.2)\n",
            "Requirement already satisfied: scikit-learn>=1.4.0 in /usr/local/lib/python3.10/dist-packages (from feature_engine) (1.4.2)\n",
            "Requirement already satisfied: scipy>=1.4.1 in /usr/local/lib/python3.10/dist-packages (from feature_engine) (1.11.4)\n",
            "Requirement already satisfied: statsmodels>=0.11.1 in /usr/local/lib/python3.10/dist-packages (from feature_engine) (0.14.2)\n",
            "Requirement already satisfied: python-dateutil>=2.8.2 in /usr/local/lib/python3.10/dist-packages (from pandas>=2.2.0->feature_engine) (2.8.2)\n",
            "Requirement already satisfied: pytz>=2020.1 in /usr/local/lib/python3.10/dist-packages (from pandas>=2.2.0->feature_engine) (2023.4)\n",
            "Requirement already satisfied: tzdata>=2022.7 in /usr/local/lib/python3.10/dist-packages (from pandas>=2.2.0->feature_engine) (2024.1)\n",
            "Requirement already satisfied: joblib>=1.2.0 in /usr/local/lib/python3.10/dist-packages (from scikit-learn>=1.4.0->feature_engine) (1.4.2)\n",
            "Requirement already satisfied: threadpoolctl>=2.0.0 in /usr/local/lib/python3.10/dist-packages (from scikit-learn>=1.4.0->feature_engine) (3.5.0)\n",
            "Requirement already satisfied: patsy>=0.5.6 in /usr/local/lib/python3.10/dist-packages (from statsmodels>=0.11.1->feature_engine) (0.5.6)\n",
            "Requirement already satisfied: packaging>=21.3 in /usr/local/lib/python3.10/dist-packages (from statsmodels>=0.11.1->feature_engine) (24.0)\n",
            "Requirement already satisfied: six in /usr/local/lib/python3.10/dist-packages (from patsy>=0.5.6->statsmodels>=0.11.1->feature_engine) (1.16.0)\n"
          ]
        }
      ]
    },
    {
      "cell_type": "code",
      "source": [
        "\n"
      ],
      "metadata": {
        "id": "MhoGl7EcKESp"
      },
      "execution_count": 2,
      "outputs": []
    },
    {
      "cell_type": "code",
      "source": [
        "trimmer = OutlierTrimmer(variables=[\"EdadCliente\",\"CicloCliente\",\"DiasAtraso\"],\n",
        "                         capping_method=\"iqr\",\n",
        "                         tail=\"both\",\n",
        "                         fold=1.5,)"
      ],
      "metadata": {
        "id": "Fhm0ymiZII5-"
      },
      "execution_count": 17,
      "outputs": []
    },
    {
      "cell_type": "code",
      "source": [
        "trimmer.fit(gpdf)"
      ],
      "metadata": {
        "colab": {
          "base_uri": "https://localhost:8080/",
          "height": 97
        },
        "id": "pszIrwZgKEOv",
        "outputId": "24431606-525b-4504-c458-33a0585992fb"
      },
      "execution_count": 18,
      "outputs": [
        {
          "output_type": "execute_result",
          "data": {
            "text/plain": [
              "OutlierTrimmer(capping_method='iqr', fold=1.5, tail='both',\n",
              "               variables=['EdadCliente', 'CicloCliente', 'DiasAtraso'])"
            ],
            "text/html": [
              "<style>#sk-container-id-1 {\n",
              "  /* Definition of color scheme common for light and dark mode */\n",
              "  --sklearn-color-text: black;\n",
              "  --sklearn-color-line: gray;\n",
              "  /* Definition of color scheme for unfitted estimators */\n",
              "  --sklearn-color-unfitted-level-0: #fff5e6;\n",
              "  --sklearn-color-unfitted-level-1: #f6e4d2;\n",
              "  --sklearn-color-unfitted-level-2: #ffe0b3;\n",
              "  --sklearn-color-unfitted-level-3: chocolate;\n",
              "  /* Definition of color scheme for fitted estimators */\n",
              "  --sklearn-color-fitted-level-0: #f0f8ff;\n",
              "  --sklearn-color-fitted-level-1: #d4ebff;\n",
              "  --sklearn-color-fitted-level-2: #b3dbfd;\n",
              "  --sklearn-color-fitted-level-3: cornflowerblue;\n",
              "\n",
              "  /* Specific color for light theme */\n",
              "  --sklearn-color-text-on-default-background: var(--sg-text-color, var(--theme-code-foreground, var(--jp-content-font-color1, black)));\n",
              "  --sklearn-color-background: var(--sg-background-color, var(--theme-background, var(--jp-layout-color0, white)));\n",
              "  --sklearn-color-border-box: var(--sg-text-color, var(--theme-code-foreground, var(--jp-content-font-color1, black)));\n",
              "  --sklearn-color-icon: #696969;\n",
              "\n",
              "  @media (prefers-color-scheme: dark) {\n",
              "    /* Redefinition of color scheme for dark theme */\n",
              "    --sklearn-color-text-on-default-background: var(--sg-text-color, var(--theme-code-foreground, var(--jp-content-font-color1, white)));\n",
              "    --sklearn-color-background: var(--sg-background-color, var(--theme-background, var(--jp-layout-color0, #111)));\n",
              "    --sklearn-color-border-box: var(--sg-text-color, var(--theme-code-foreground, var(--jp-content-font-color1, white)));\n",
              "    --sklearn-color-icon: #878787;\n",
              "  }\n",
              "}\n",
              "\n",
              "#sk-container-id-1 {\n",
              "  color: var(--sklearn-color-text);\n",
              "}\n",
              "\n",
              "#sk-container-id-1 pre {\n",
              "  padding: 0;\n",
              "}\n",
              "\n",
              "#sk-container-id-1 input.sk-hidden--visually {\n",
              "  border: 0;\n",
              "  clip: rect(1px 1px 1px 1px);\n",
              "  clip: rect(1px, 1px, 1px, 1px);\n",
              "  height: 1px;\n",
              "  margin: -1px;\n",
              "  overflow: hidden;\n",
              "  padding: 0;\n",
              "  position: absolute;\n",
              "  width: 1px;\n",
              "}\n",
              "\n",
              "#sk-container-id-1 div.sk-dashed-wrapped {\n",
              "  border: 1px dashed var(--sklearn-color-line);\n",
              "  margin: 0 0.4em 0.5em 0.4em;\n",
              "  box-sizing: border-box;\n",
              "  padding-bottom: 0.4em;\n",
              "  background-color: var(--sklearn-color-background);\n",
              "}\n",
              "\n",
              "#sk-container-id-1 div.sk-container {\n",
              "  /* jupyter's `normalize.less` sets `[hidden] { display: none; }`\n",
              "     but bootstrap.min.css set `[hidden] { display: none !important; }`\n",
              "     so we also need the `!important` here to be able to override the\n",
              "     default hidden behavior on the sphinx rendered scikit-learn.org.\n",
              "     See: https://github.com/scikit-learn/scikit-learn/issues/21755 */\n",
              "  display: inline-block !important;\n",
              "  position: relative;\n",
              "}\n",
              "\n",
              "#sk-container-id-1 div.sk-text-repr-fallback {\n",
              "  display: none;\n",
              "}\n",
              "\n",
              "div.sk-parallel-item,\n",
              "div.sk-serial,\n",
              "div.sk-item {\n",
              "  /* draw centered vertical line to link estimators */\n",
              "  background-image: linear-gradient(var(--sklearn-color-text-on-default-background), var(--sklearn-color-text-on-default-background));\n",
              "  background-size: 2px 100%;\n",
              "  background-repeat: no-repeat;\n",
              "  background-position: center center;\n",
              "}\n",
              "\n",
              "/* Parallel-specific style estimator block */\n",
              "\n",
              "#sk-container-id-1 div.sk-parallel-item::after {\n",
              "  content: \"\";\n",
              "  width: 100%;\n",
              "  border-bottom: 2px solid var(--sklearn-color-text-on-default-background);\n",
              "  flex-grow: 1;\n",
              "}\n",
              "\n",
              "#sk-container-id-1 div.sk-parallel {\n",
              "  display: flex;\n",
              "  align-items: stretch;\n",
              "  justify-content: center;\n",
              "  background-color: var(--sklearn-color-background);\n",
              "  position: relative;\n",
              "}\n",
              "\n",
              "#sk-container-id-1 div.sk-parallel-item {\n",
              "  display: flex;\n",
              "  flex-direction: column;\n",
              "}\n",
              "\n",
              "#sk-container-id-1 div.sk-parallel-item:first-child::after {\n",
              "  align-self: flex-end;\n",
              "  width: 50%;\n",
              "}\n",
              "\n",
              "#sk-container-id-1 div.sk-parallel-item:last-child::after {\n",
              "  align-self: flex-start;\n",
              "  width: 50%;\n",
              "}\n",
              "\n",
              "#sk-container-id-1 div.sk-parallel-item:only-child::after {\n",
              "  width: 0;\n",
              "}\n",
              "\n",
              "/* Serial-specific style estimator block */\n",
              "\n",
              "#sk-container-id-1 div.sk-serial {\n",
              "  display: flex;\n",
              "  flex-direction: column;\n",
              "  align-items: center;\n",
              "  background-color: var(--sklearn-color-background);\n",
              "  padding-right: 1em;\n",
              "  padding-left: 1em;\n",
              "}\n",
              "\n",
              "\n",
              "/* Toggleable style: style used for estimator/Pipeline/ColumnTransformer box that is\n",
              "clickable and can be expanded/collapsed.\n",
              "- Pipeline and ColumnTransformer use this feature and define the default style\n",
              "- Estimators will overwrite some part of the style using the `sk-estimator` class\n",
              "*/\n",
              "\n",
              "/* Pipeline and ColumnTransformer style (default) */\n",
              "\n",
              "#sk-container-id-1 div.sk-toggleable {\n",
              "  /* Default theme specific background. It is overwritten whether we have a\n",
              "  specific estimator or a Pipeline/ColumnTransformer */\n",
              "  background-color: var(--sklearn-color-background);\n",
              "}\n",
              "\n",
              "/* Toggleable label */\n",
              "#sk-container-id-1 label.sk-toggleable__label {\n",
              "  cursor: pointer;\n",
              "  display: block;\n",
              "  width: 100%;\n",
              "  margin-bottom: 0;\n",
              "  padding: 0.5em;\n",
              "  box-sizing: border-box;\n",
              "  text-align: center;\n",
              "}\n",
              "\n",
              "#sk-container-id-1 label.sk-toggleable__label-arrow:before {\n",
              "  /* Arrow on the left of the label */\n",
              "  content: \"▸\";\n",
              "  float: left;\n",
              "  margin-right: 0.25em;\n",
              "  color: var(--sklearn-color-icon);\n",
              "}\n",
              "\n",
              "#sk-container-id-1 label.sk-toggleable__label-arrow:hover:before {\n",
              "  color: var(--sklearn-color-text);\n",
              "}\n",
              "\n",
              "/* Toggleable content - dropdown */\n",
              "\n",
              "#sk-container-id-1 div.sk-toggleable__content {\n",
              "  max-height: 0;\n",
              "  max-width: 0;\n",
              "  overflow: hidden;\n",
              "  text-align: left;\n",
              "  /* unfitted */\n",
              "  background-color: var(--sklearn-color-unfitted-level-0);\n",
              "}\n",
              "\n",
              "#sk-container-id-1 div.sk-toggleable__content.fitted {\n",
              "  /* fitted */\n",
              "  background-color: var(--sklearn-color-fitted-level-0);\n",
              "}\n",
              "\n",
              "#sk-container-id-1 div.sk-toggleable__content pre {\n",
              "  margin: 0.2em;\n",
              "  border-radius: 0.25em;\n",
              "  color: var(--sklearn-color-text);\n",
              "  /* unfitted */\n",
              "  background-color: var(--sklearn-color-unfitted-level-0);\n",
              "}\n",
              "\n",
              "#sk-container-id-1 div.sk-toggleable__content.fitted pre {\n",
              "  /* unfitted */\n",
              "  background-color: var(--sklearn-color-fitted-level-0);\n",
              "}\n",
              "\n",
              "#sk-container-id-1 input.sk-toggleable__control:checked~div.sk-toggleable__content {\n",
              "  /* Expand drop-down */\n",
              "  max-height: 200px;\n",
              "  max-width: 100%;\n",
              "  overflow: auto;\n",
              "}\n",
              "\n",
              "#sk-container-id-1 input.sk-toggleable__control:checked~label.sk-toggleable__label-arrow:before {\n",
              "  content: \"▾\";\n",
              "}\n",
              "\n",
              "/* Pipeline/ColumnTransformer-specific style */\n",
              "\n",
              "#sk-container-id-1 div.sk-label input.sk-toggleable__control:checked~label.sk-toggleable__label {\n",
              "  color: var(--sklearn-color-text);\n",
              "  background-color: var(--sklearn-color-unfitted-level-2);\n",
              "}\n",
              "\n",
              "#sk-container-id-1 div.sk-label.fitted input.sk-toggleable__control:checked~label.sk-toggleable__label {\n",
              "  background-color: var(--sklearn-color-fitted-level-2);\n",
              "}\n",
              "\n",
              "/* Estimator-specific style */\n",
              "\n",
              "/* Colorize estimator box */\n",
              "#sk-container-id-1 div.sk-estimator input.sk-toggleable__control:checked~label.sk-toggleable__label {\n",
              "  /* unfitted */\n",
              "  background-color: var(--sklearn-color-unfitted-level-2);\n",
              "}\n",
              "\n",
              "#sk-container-id-1 div.sk-estimator.fitted input.sk-toggleable__control:checked~label.sk-toggleable__label {\n",
              "  /* fitted */\n",
              "  background-color: var(--sklearn-color-fitted-level-2);\n",
              "}\n",
              "\n",
              "#sk-container-id-1 div.sk-label label.sk-toggleable__label,\n",
              "#sk-container-id-1 div.sk-label label {\n",
              "  /* The background is the default theme color */\n",
              "  color: var(--sklearn-color-text-on-default-background);\n",
              "}\n",
              "\n",
              "/* On hover, darken the color of the background */\n",
              "#sk-container-id-1 div.sk-label:hover label.sk-toggleable__label {\n",
              "  color: var(--sklearn-color-text);\n",
              "  background-color: var(--sklearn-color-unfitted-level-2);\n",
              "}\n",
              "\n",
              "/* Label box, darken color on hover, fitted */\n",
              "#sk-container-id-1 div.sk-label.fitted:hover label.sk-toggleable__label.fitted {\n",
              "  color: var(--sklearn-color-text);\n",
              "  background-color: var(--sklearn-color-fitted-level-2);\n",
              "}\n",
              "\n",
              "/* Estimator label */\n",
              "\n",
              "#sk-container-id-1 div.sk-label label {\n",
              "  font-family: monospace;\n",
              "  font-weight: bold;\n",
              "  display: inline-block;\n",
              "  line-height: 1.2em;\n",
              "}\n",
              "\n",
              "#sk-container-id-1 div.sk-label-container {\n",
              "  text-align: center;\n",
              "}\n",
              "\n",
              "/* Estimator-specific */\n",
              "#sk-container-id-1 div.sk-estimator {\n",
              "  font-family: monospace;\n",
              "  border: 1px dotted var(--sklearn-color-border-box);\n",
              "  border-radius: 0.25em;\n",
              "  box-sizing: border-box;\n",
              "  margin-bottom: 0.5em;\n",
              "  /* unfitted */\n",
              "  background-color: var(--sklearn-color-unfitted-level-0);\n",
              "}\n",
              "\n",
              "#sk-container-id-1 div.sk-estimator.fitted {\n",
              "  /* fitted */\n",
              "  background-color: var(--sklearn-color-fitted-level-0);\n",
              "}\n",
              "\n",
              "/* on hover */\n",
              "#sk-container-id-1 div.sk-estimator:hover {\n",
              "  /* unfitted */\n",
              "  background-color: var(--sklearn-color-unfitted-level-2);\n",
              "}\n",
              "\n",
              "#sk-container-id-1 div.sk-estimator.fitted:hover {\n",
              "  /* fitted */\n",
              "  background-color: var(--sklearn-color-fitted-level-2);\n",
              "}\n",
              "\n",
              "/* Specification for estimator info (e.g. \"i\" and \"?\") */\n",
              "\n",
              "/* Common style for \"i\" and \"?\" */\n",
              "\n",
              ".sk-estimator-doc-link,\n",
              "a:link.sk-estimator-doc-link,\n",
              "a:visited.sk-estimator-doc-link {\n",
              "  float: right;\n",
              "  font-size: smaller;\n",
              "  line-height: 1em;\n",
              "  font-family: monospace;\n",
              "  background-color: var(--sklearn-color-background);\n",
              "  border-radius: 1em;\n",
              "  height: 1em;\n",
              "  width: 1em;\n",
              "  text-decoration: none !important;\n",
              "  margin-left: 1ex;\n",
              "  /* unfitted */\n",
              "  border: var(--sklearn-color-unfitted-level-1) 1pt solid;\n",
              "  color: var(--sklearn-color-unfitted-level-1);\n",
              "}\n",
              "\n",
              ".sk-estimator-doc-link.fitted,\n",
              "a:link.sk-estimator-doc-link.fitted,\n",
              "a:visited.sk-estimator-doc-link.fitted {\n",
              "  /* fitted */\n",
              "  border: var(--sklearn-color-fitted-level-1) 1pt solid;\n",
              "  color: var(--sklearn-color-fitted-level-1);\n",
              "}\n",
              "\n",
              "/* On hover */\n",
              "div.sk-estimator:hover .sk-estimator-doc-link:hover,\n",
              ".sk-estimator-doc-link:hover,\n",
              "div.sk-label-container:hover .sk-estimator-doc-link:hover,\n",
              ".sk-estimator-doc-link:hover {\n",
              "  /* unfitted */\n",
              "  background-color: var(--sklearn-color-unfitted-level-3);\n",
              "  color: var(--sklearn-color-background);\n",
              "  text-decoration: none;\n",
              "}\n",
              "\n",
              "div.sk-estimator.fitted:hover .sk-estimator-doc-link.fitted:hover,\n",
              ".sk-estimator-doc-link.fitted:hover,\n",
              "div.sk-label-container:hover .sk-estimator-doc-link.fitted:hover,\n",
              ".sk-estimator-doc-link.fitted:hover {\n",
              "  /* fitted */\n",
              "  background-color: var(--sklearn-color-fitted-level-3);\n",
              "  color: var(--sklearn-color-background);\n",
              "  text-decoration: none;\n",
              "}\n",
              "\n",
              "/* Span, style for the box shown on hovering the info icon */\n",
              ".sk-estimator-doc-link span {\n",
              "  display: none;\n",
              "  z-index: 9999;\n",
              "  position: relative;\n",
              "  font-weight: normal;\n",
              "  right: .2ex;\n",
              "  padding: .5ex;\n",
              "  margin: .5ex;\n",
              "  width: min-content;\n",
              "  min-width: 20ex;\n",
              "  max-width: 50ex;\n",
              "  color: var(--sklearn-color-text);\n",
              "  box-shadow: 2pt 2pt 4pt #999;\n",
              "  /* unfitted */\n",
              "  background: var(--sklearn-color-unfitted-level-0);\n",
              "  border: .5pt solid var(--sklearn-color-unfitted-level-3);\n",
              "}\n",
              "\n",
              ".sk-estimator-doc-link.fitted span {\n",
              "  /* fitted */\n",
              "  background: var(--sklearn-color-fitted-level-0);\n",
              "  border: var(--sklearn-color-fitted-level-3);\n",
              "}\n",
              "\n",
              ".sk-estimator-doc-link:hover span {\n",
              "  display: block;\n",
              "}\n",
              "\n",
              "/* \"?\"-specific style due to the `<a>` HTML tag */\n",
              "\n",
              "#sk-container-id-1 a.estimator_doc_link {\n",
              "  float: right;\n",
              "  font-size: 1rem;\n",
              "  line-height: 1em;\n",
              "  font-family: monospace;\n",
              "  background-color: var(--sklearn-color-background);\n",
              "  border-radius: 1rem;\n",
              "  height: 1rem;\n",
              "  width: 1rem;\n",
              "  text-decoration: none;\n",
              "  /* unfitted */\n",
              "  color: var(--sklearn-color-unfitted-level-1);\n",
              "  border: var(--sklearn-color-unfitted-level-1) 1pt solid;\n",
              "}\n",
              "\n",
              "#sk-container-id-1 a.estimator_doc_link.fitted {\n",
              "  /* fitted */\n",
              "  border: var(--sklearn-color-fitted-level-1) 1pt solid;\n",
              "  color: var(--sklearn-color-fitted-level-1);\n",
              "}\n",
              "\n",
              "/* On hover */\n",
              "#sk-container-id-1 a.estimator_doc_link:hover {\n",
              "  /* unfitted */\n",
              "  background-color: var(--sklearn-color-unfitted-level-3);\n",
              "  color: var(--sklearn-color-background);\n",
              "  text-decoration: none;\n",
              "}\n",
              "\n",
              "#sk-container-id-1 a.estimator_doc_link.fitted:hover {\n",
              "  /* fitted */\n",
              "  background-color: var(--sklearn-color-fitted-level-3);\n",
              "}\n",
              "</style><div id=\"sk-container-id-1\" class=\"sk-top-container\"><div class=\"sk-text-repr-fallback\"><pre>OutlierTrimmer(capping_method=&#x27;iqr&#x27;, fold=1.5, tail=&#x27;both&#x27;,\n",
              "               variables=[&#x27;EdadCliente&#x27;, &#x27;CicloCliente&#x27;, &#x27;DiasAtraso&#x27;])</pre><b>In a Jupyter environment, please rerun this cell to show the HTML representation or trust the notebook. <br />On GitHub, the HTML representation is unable to render, please try loading this page with nbviewer.org.</b></div><div class=\"sk-container\" hidden><div class=\"sk-item\"><div class=\"sk-estimator fitted sk-toggleable\"><input class=\"sk-toggleable__control sk-hidden--visually\" id=\"sk-estimator-id-1\" type=\"checkbox\" checked><label for=\"sk-estimator-id-1\" class=\"sk-toggleable__label fitted sk-toggleable__label-arrow fitted\">&nbsp;OutlierTrimmer<span class=\"sk-estimator-doc-link fitted\">i<span>Fitted</span></span></label><div class=\"sk-toggleable__content fitted\"><pre>OutlierTrimmer(capping_method=&#x27;iqr&#x27;, fold=1.5, tail=&#x27;both&#x27;,\n",
              "               variables=[&#x27;EdadCliente&#x27;, &#x27;CicloCliente&#x27;, &#x27;DiasAtraso&#x27;])</pre></div> </div></div></div></div>"
            ]
          },
          "metadata": {},
          "execution_count": 18
        }
      ]
    },
    {
      "cell_type": "markdown",
      "source": [],
      "metadata": {
        "id": "qD2C6lkUITiA"
      }
    },
    {
      "cell_type": "code",
      "source": [],
      "metadata": {
        "id": "KrkZwa0TIIyA"
      },
      "execution_count": null,
      "outputs": []
    },
    {
      "cell_type": "code",
      "source": [
        "# Se muestra la distribucion de la variable EdadCliente\n",
        "plot_boxplot_hist(gpdf,\"EdadCliente\")"
      ],
      "metadata": {
        "colab": {
          "base_uri": "https://localhost:8080/",
          "height": 484
        },
        "id": "Fsy2dgGP-1xP",
        "outputId": "9a161c3b-422e-4320-ab2a-5d500710d0ae"
      },
      "execution_count": 20,
      "outputs": [
        {
          "output_type": "stream",
          "name": "stderr",
          "text": [
            "/usr/local/lib/python3.10/dist-packages/seaborn/categorical.py:640: FutureWarning: SeriesGroupBy.grouper is deprecated and will be removed in a future version of pandas.\n",
            "  positions = grouped.grouper.result_index.to_numpy(dtype=float)\n"
          ]
        },
        {
          "output_type": "display_data",
          "data": {
            "text/plain": [
              "<Figure size 640x480 with 2 Axes>"
            ],
            "image/png": "[encoded data removed]"
          },
          "metadata": {}
        }
      ]
    },
    {
      "cell_type": "code",
      "source": [
        "gpdftr = trimmer.transform(gpdf)"
      ],
      "metadata": {
        "id": "GHPtIJdA-1uQ"
      },
      "execution_count": 21,
      "outputs": []
    },
    {
      "cell_type": "code",
      "source": [
        "# Se muestra la distribucion de la variable EdadCliente\n",
        "plot_boxplot_hist(gpdftr,\"EdadCliente\")"
      ],
      "metadata": {
        "colab": {
          "base_uri": "https://localhost:8080/",
          "height": 484
        },
        "id": "6vJantEH-1n4",
        "outputId": "864727f3-1252-49ef-d498-59bd473f5d6b"
      },
      "execution_count": 22,
      "outputs": [
        {
          "output_type": "stream",
          "name": "stderr",
          "text": [
            "/usr/local/lib/python3.10/dist-packages/seaborn/categorical.py:640: FutureWarning: SeriesGroupBy.grouper is deprecated and will be removed in a future version of pandas.\n",
            "  positions = grouped.grouper.result_index.to_numpy(dtype=float)\n"
          ]
        },
        {
          "output_type": "display_data",
          "data": {
            "text/plain": [
              "<Figure size 640x480 with 2 Axes>"
            ],
            "image/png": "[encoded data removed]"
          },
          "metadata": {}
        }
      ]
    },
    {
      "cell_type": "code",
      "source": [
        "# graficamos para revisar valores atipicos\n",
        "df = pd.DataFrame(gpdf[['EdadCliente','CicloCliente','Plazo','MontoCuota','DiasAtraso','EstadoCivil','EstatusCredito']])\n",
        "\n",
        "fig, axes = plt.subplots(2, 3, figsize=(10, 10))  # Definimos una ventana de 3x3 nichos para incluir en cada uno de ellos un gráfico.\n",
        "\n",
        "# Iterar sobre las columnas y generar un gráfico de caja para cada una\n",
        "for k, ax in zip(range(0, 6), axes.flatten()):  # Usamos zip para iterar sobre los ejes y los índices\n",
        "    df.boxplot(column=df.columns[k], ax=ax)  # Generar el gráfico de caja para la columna actual\n",
        "    ax.set_title(df.columns[k])  # Establecer el título del gráfico\n",
        "    ax.set_xticks([])  # Eliminar las etiquetas del eje x para mayor claridad\n",
        "\n",
        "plt.tight_layout()  # Ajustar el diseño para evitar superposiciones\n",
        "plt.show()\n"
      ],
      "metadata": {
        "id": "PZh9hZXfhM0p",
        "outputId": "2ce4f313-d130-4a4b-b5c1-7eedc752f074",
        "colab": {
          "base_uri": "https://localhost:8080/",
          "height": 1000
        }
      },
      "execution_count": 17,
      "outputs": [
        {
          "output_type": "display_data",
          "data": {
            "text/plain": [
              "<Figure size 1000x1000 with 6 Axes>"
            ],
            "image/png": "[encoded data removed]"
          },
          "metadata": {}
        }
      ]
    },
    {
      "cell_type": "markdown",
      "source": [
        "Después de la corrección del código origen para obtener los datos se puede observar que aún existen datos atípicos en la variable edad por lo que se procede a eliminar dichos datos para las clientas con edad mayores a 90 años"
      ],
      "metadata": {
        "id": "yzxO_LNylVj7"
      }
    },
    {
      "cell_type": "code",
      "source": [
        "# se eliminar los registros de clientes con mas de 80 años\n",
        "\n",
        "gpdf.drop( gpdf[gpdf['EdadCliente'] > 90].index, axis=0, inplace=True)"
      ],
      "metadata": {
        "colab": {
          "base_uri": "https://localhost:8080/"
        },
        "id": "46joDg7GOMOn",
        "outputId": "20abe396-78ee-4024-8842-09b389038e40"
      },
      "execution_count": 13,
      "outputs": [
        {
          "output_type": "stream",
          "name": "stderr",
          "text": [
            "<ipython-input-13-eeae7c044de3>:3: SettingWithCopyWarning: \n",
            "A value is trying to be set on a copy of a slice from a DataFrame\n",
            "\n",
            "See the caveats in the documentation: https://pandas.pydata.org/pandas-docs/stable/user_guide/indexing.html#returning-a-view-versus-a-copy\n",
            "  gpdf.drop( gpdf[gpdf['EdadCliente'] > 90].index, axis=0, inplace=True)\n"
          ]
        }
      ]
    },
    {
      "cell_type": "code",
      "source": [
        "gpdf.shape"
      ],
      "metadata": {
        "id": "2oNbFEotmS2u",
        "outputId": "74b52123-5291-4fc9-ef73-ee4307f7c1a4",
        "colab": {
          "base_uri": "https://localhost:8080/"
        }
      },
      "execution_count": 14,
      "outputs": [
        {
          "output_type": "execute_result",
          "data": {
            "text/plain": [
              "(4380605, 28)"
            ]
          },
          "metadata": {},
          "execution_count": 14
        }
      ]
    },
    {
      "cell_type": "markdown",
      "source": [
        "### Avance 2"
      ],
      "metadata": {
        "id": "R6rdBseSOmoS"
      }
    },
    {
      "cell_type": "markdown",
      "source": [
        "Para la generación de nuevas características en este contexto de análisis de comportamiento de clientes de créditos grupales, se puede considerar varias estrategias para crear variables adicionales que capturen aspectos relevantes del comportamiento de pago de los clientes.\n"
      ],
      "metadata": {
        "id": "6DZnB7rzNuYR"
      }
    },
    {
      "cell_type": "markdown",
      "source": [
        "Este siguiente código creará una nueva columna llamada 'HistorialPagos' que contiene la cantidad total de pagos realizados por cada cliente. Esto dará una visión general del historial de pagos de cada cliente, lo que podría ser útil para el análisis de comportamiento de pago y la gestión de cobranza"
      ],
      "metadata": {
        "id": "jozCHnNHOiyH"
      }
    },
    {
      "cell_type": "code",
      "source": [
        "# Suponiendo que tu DataFrame se llama 'data' y contiene las columnas 'FechaDesembolso' y 'FechaCancelacion'\n",
        "# Además, supongamos que tienes una columna 'EstatusCuota' que indica si la cuota fue pagada o no\n",
        "\n",
        "# Convertimos las columnas de fechas a tipo datetime\n",
        "gpdf['FechaVencimiento'] = pd.to_datetime(gpdf['FechaVencimiento'])\n",
        "gpdf['FechaCancelacion'] = pd.to_datetime(gpdf['FechaCancelacion'])\n",
        "\n",
        "# Filtramos las cuotas que han sido pagadas (asumiendo que 'PAGADA' es el estado de una cuota pagada)\n",
        "cuotas_pagadas = gpdf[gpdf['EstatusCredito'] == 'CAN']\n",
        "\n",
        "# Calculamos el historial de pagos contando el número de cuotas pagadas por cliente\n",
        "historial_pagos = cuotas_pagadas.groupby('IdCliente').size().reset_index(name='HistorialPagos')\n",
        "\n",
        "# Unimos el historial de pagos con el DataFrame original\n",
        "gpdf = pd.merge(gpdf, historial_pagos, on='IdCliente', how='left')\n",
        "\n",
        "# Mostramos el DataFrame con la nueva variable 'HistorialPagos'\n",
        "print(gpdf[['IdCliente', 'HistorialPagos']].head())"
      ],
      "metadata": {
        "colab": {
          "base_uri": "https://localhost:8080/"
        },
        "id": "23TNBtrGA-8i",
        "outputId": "de712a6d-21a2-44c0-8d18-324bdd82d3fa"
      },
      "execution_count": 15,
      "outputs": [
        {
          "output_type": "stream",
          "name": "stderr",
          "text": [
            "<ipython-input-15-ba06c2554e9b>:5: SettingWithCopyWarning: \n",
            "A value is trying to be set on a copy of a slice from a DataFrame.\n",
            "Try using .loc[row_indexer,col_indexer] = value instead\n",
            "\n",
            "See the caveats in the documentation: https://pandas.pydata.org/pandas-docs/stable/user_guide/indexing.html#returning-a-view-versus-a-copy\n",
            "  gpdf['FechaVencimiento'] = pd.to_datetime(gpdf['FechaVencimiento'])\n",
            "<ipython-input-15-ba06c2554e9b>:6: SettingWithCopyWarning: \n",
            "A value is trying to be set on a copy of a slice from a DataFrame.\n",
            "Try using .loc[row_indexer,col_indexer] = value instead\n",
            "\n",
            "See the caveats in the documentation: https://pandas.pydata.org/pandas-docs/stable/user_guide/indexing.html#returning-a-view-versus-a-copy\n",
            "  gpdf['FechaCancelacion'] = pd.to_datetime(gpdf['FechaCancelacion'])\n"
          ]
        },
        {
          "output_type": "stream",
          "name": "stdout",
          "text": [
            "   IdCliente  HistorialPagos\n",
            "0        261            50.0\n",
            "1      30654            50.0\n",
            "2        262            50.0\n",
            "3       4587            70.0\n",
            "4        261            50.0\n"
          ]
        }
      ]
    },
    {
      "cell_type": "code",
      "source": [
        "gpdf.head()"
      ],
      "metadata": {
        "colab": {
          "base_uri": "https://localhost:8080/",
          "height": 342
        },
        "id": "Ozp59_fpIW8f",
        "outputId": "ab67c9d0-ecb0-439b-a73e-52a5cbfe3cf1"
      },
      "execution_count": 18,
      "outputs": [
        {
          "output_type": "execute_result",
          "data": {
            "text/plain": [
              "   IdCliente         FechaAltaCliente  CodigoGrupo  EdadCliente Genero  \\\n",
              "0        261  2004-02-16 00:00:00.000           56           28      F   \n",
              "1      30654  2004-02-01 00:00:00.000           15           53      F   \n",
              "2        262  2004-02-16 00:00:00.000           56           30      F   \n",
              "3       4587  2008-01-16 00:00:00.000          582           29      F   \n",
              "4        261  2004-02-16 00:00:00.000           56           28      F   \n",
              "\n",
              "   EstadoCivil Escolaridad  CapacidadPago  Localidad  CodigoSucursal  ...  \\\n",
              "0            2          1A            0.0       7181               1  ...   \n",
              "1            3          7A            0.0       7086              10  ...   \n",
              "2            5          7A            0.0       7181               1  ...   \n",
              "3            5          1A            0.0       7169               1  ...   \n",
              "4            2          1A            0.0       7181               1  ...   \n",
              "\n",
              "  MontoCredito  CuotaNumero    CuotaFechaVencimiento    CuotaFechaCancelacion  \\\n",
              "0      20000.0            1  2012-01-16 00:00:00.000  2012-01-16 10:04:10.000   \n",
              "1       7000.0            1  2012-01-16 00:00:00.000  2012-01-16 11:33:11.000   \n",
              "2      10000.0            1  2012-01-16 00:00:00.000  2012-01-16 10:04:10.000   \n",
              "3       6000.0            1  2012-01-16 00:00:00.000  2012-01-30 09:34:37.000   \n",
              "4      20000.0            2  2012-01-30 00:00:00.000  2012-01-30 10:56:22.000   \n",
              "\n",
              "  MontoCuota MontoCapital  SaldoCapital EstatusCuota DiasAtraso  \\\n",
              "0    1075.86        800.0           0.0            C        0.0   \n",
              "1     400.69        280.0           0.0            C        0.0   \n",
              "2     537.93        400.0           0.0            C        0.0   \n",
              "3     322.76        240.0           0.0            C       14.0   \n",
              "4    1075.86        800.0           0.0            C        0.0   \n",
              "\n",
              "   HistorialPagos  \n",
              "0            50.0  \n",
              "1            50.0  \n",
              "2            50.0  \n",
              "3            70.0  \n",
              "4            50.0  \n",
              "\n",
              "[5 rows x 29 columns]"
            ],
            "text/html": [
              "\n",
              "  <div id=\"df-c67aeccd-2148-4253-bd85-9b4cc31beb16\" class=\"colab-df-container\">\n",
              "    <div>\n",
              "<style scoped>\n",
              "    .dataframe tbody tr th:only-of-type {\n",
              "        vertical-align: middle;\n",
              "    }\n",
              "\n",
              "    .dataframe tbody tr th {\n",
              "        vertical-align: top;\n",
              "    }\n",
              "\n",
              "    .dataframe thead th {\n",
              "        text-align: right;\n",
              "    }\n",
              "</style>\n",
              "<table border=\"1\" class=\"dataframe\">\n",
              "  <thead>\n",
              "    <tr style=\"text-align: right;\">\n",
              "      <th></th>\n",
              "      <th>IdCliente</th>\n",
              "      <th>FechaAltaCliente</th>\n",
              "      <th>CodigoGrupo</th>\n",
              "      <th>EdadCliente</th>\n",
              "      <th>Genero</th>\n",
              "      <th>EstadoCivil</th>\n",
              "      <th>Escolaridad</th>\n",
              "      <th>CapacidadPago</th>\n",
              "      <th>Localidad</th>\n",
              "      <th>CodigoSucursal</th>\n",
              "      <th>...</th>\n",
              "      <th>MontoCredito</th>\n",
              "      <th>CuotaNumero</th>\n",
              "      <th>CuotaFechaVencimiento</th>\n",
              "      <th>CuotaFechaCancelacion</th>\n",
              "      <th>MontoCuota</th>\n",
              "      <th>MontoCapital</th>\n",
              "      <th>SaldoCapital</th>\n",
              "      <th>EstatusCuota</th>\n",
              "      <th>DiasAtraso</th>\n",
              "      <th>HistorialPagos</th>\n",
              "    </tr>\n",
              "  </thead>\n",
              "  <tbody>\n",
              "    <tr>\n",
              "      <th>0</th>\n",
              "      <td>261</td>\n",
              "      <td>2004-02-16 00:00:00.000</td>\n",
              "      <td>56</td>\n",
              "      <td>28</td>\n",
              "      <td>F</td>\n",
              "      <td>2</td>\n",
              "      <td>1A</td>\n",
              "      <td>0.0</td>\n",
              "      <td>7181</td>\n",
              "      <td>1</td>\n",
              "      <td>...</td>\n",
              "      <td>20000.0</td>\n",
              "      <td>1</td>\n",
              "      <td>2012-01-16 00:00:00.000</td>\n",
              "      <td>2012-01-16 10:04:10.000</td>\n",
              "      <td>1075.86</td>\n",
              "      <td>800.0</td>\n",
              "      <td>0.0</td>\n",
              "      <td>C</td>\n",
              "      <td>0.0</td>\n",
              "      <td>50.0</td>\n",
              "    </tr>\n",
              "    <tr>\n",
              "      <th>1</th>\n",
              "      <td>30654</td>\n",
              "      <td>2004-02-01 00:00:00.000</td>\n",
              "      <td>15</td>\n",
              "      <td>53</td>\n",
              "      <td>F</td>\n",
              "      <td>3</td>\n",
              "      <td>7A</td>\n",
              "      <td>0.0</td>\n",
              "      <td>7086</td>\n",
              "      <td>10</td>\n",
              "      <td>...</td>\n",
              "      <td>7000.0</td>\n",
              "      <td>1</td>\n",
              "      <td>2012-01-16 00:00:00.000</td>\n",
              "      <td>2012-01-16 11:33:11.000</td>\n",
              "      <td>400.69</td>\n",
              "      <td>280.0</td>\n",
              "      <td>0.0</td>\n",
              "      <td>C</td>\n",
              "      <td>0.0</td>\n",
              "      <td>50.0</td>\n",
              "    </tr>\n",
              "    <tr>\n",
              "      <th>2</th>\n",
              "      <td>262</td>\n",
              "      <td>2004-02-16 00:00:00.000</td>\n",
              "      <td>56</td>\n",
              "      <td>30</td>\n",
              "      <td>F</td>\n",
              "      <td>5</td>\n",
              "      <td>7A</td>\n",
              "      <td>0.0</td>\n",
              "      <td>7181</td>\n",
              "      <td>1</td>\n",
              "      <td>...</td>\n",
              "      <td>10000.0</td>\n",
              "      <td>1</td>\n",
              "      <td>2012-01-16 00:00:00.000</td>\n",
              "      <td>2012-01-16 10:04:10.000</td>\n",
              "      <td>537.93</td>\n",
              "      <td>400.0</td>\n",
              "      <td>0.0</td>\n",
              "      <td>C</td>\n",
              "      <td>0.0</td>\n",
              "      <td>50.0</td>\n",
              "    </tr>\n",
              "    <tr>\n",
              "      <th>3</th>\n",
              "      <td>4587</td>\n",
              "      <td>2008-01-16 00:00:00.000</td>\n",
              "      <td>582</td>\n",
              "      <td>29</td>\n",
              "      <td>F</td>\n",
              "      <td>5</td>\n",
              "      <td>1A</td>\n",
              "      <td>0.0</td>\n",
              "      <td>7169</td>\n",
              "      <td>1</td>\n",
              "      <td>...</td>\n",
              "      <td>6000.0</td>\n",
              "      <td>1</td>\n",
              "      <td>2012-01-16 00:00:00.000</td>\n",
              "      <td>2012-01-30 09:34:37.000</td>\n",
              "      <td>322.76</td>\n",
              "      <td>240.0</td>\n",
              "      <td>0.0</td>\n",
              "      <td>C</td>\n",
              "      <td>14.0</td>\n",
              "      <td>70.0</td>\n",
              "    </tr>\n",
              "    <tr>\n",
              "      <th>4</th>\n",
              "      <td>261</td>\n",
              "      <td>2004-02-16 00:00:00.000</td>\n",
              "      <td>56</td>\n",
              "      <td>28</td>\n",
              "      <td>F</td>\n",
              "      <td>2</td>\n",
              "      <td>1A</td>\n",
              "      <td>0.0</td>\n",
              "      <td>7181</td>\n",
              "      <td>1</td>\n",
              "      <td>...</td>\n",
              "      <td>20000.0</td>\n",
              "      <td>2</td>\n",
              "      <td>2012-01-30 00:00:00.000</td>\n",
              "      <td>2012-01-30 10:56:22.000</td>\n",
              "      <td>1075.86</td>\n",
              "      <td>800.0</td>\n",
              "      <td>0.0</td>\n",
              "      <td>C</td>\n",
              "      <td>0.0</td>\n",
              "      <td>50.0</td>\n",
              "    </tr>\n",
              "  </tbody>\n",
              "</table>\n",
              "<p>5 rows × 29 columns</p>\n",
              "</div>\n",
              "    <div class=\"colab-df-buttons\">\n",
              "\n",
              "  <div class=\"colab-df-container\">\n",
              "    <button class=\"colab-df-convert\" onclick=\"convertToInteractive('df-c67aeccd-2148-4253-bd85-9b4cc31beb16')\"\n",
              "            title=\"Convert this dataframe to an interactive table.\"\n",
              "            style=\"display:none;\">\n",
              "\n",
              "  <svg xmlns=\"http://www.w3.org/2000/svg\" height=\"24px\" viewBox=\"0 -960 960 960\">\n",
              "    <path d=\"M120-120v-720h720v720H120Zm60-500h600v-160H180v160Zm220 220h160v-160H400v160Zm0 220h160v-160H400v160ZM180-400h160v-160H180v160Zm440 0h160v-160H620v160ZM180-180h160v-160H180v160Zm440 0h160v-160H620v160Z\"/>\n",
              "  </svg>\n",
              "    </button>\n",
              "\n",
              "  <style>\n",
              "    .colab-df-container {\n",
              "      display:flex;\n",
              "      gap: 12px;\n",
              "    }\n",
              "\n",
              "    .colab-df-convert {\n",
              "      background-color: #E8F0FE;\n",
              "      border: none;\n",
              "      border-radius: 50%;\n",
              "      cursor: pointer;\n",
              "      display: none;\n",
              "      fill: #1967D2;\n",
              "      height: 32px;\n",
              "      padding: 0 0 0 0;\n",
              "      width: 32px;\n",
              "    }\n",
              "\n",
              "    .colab-df-convert:hover {\n",
              "      background-color: #E2EBFA;\n",
              "      box-shadow: 0px 1px 2px rgba(60, 64, 67, 0.3), 0px 1px 3px 1px rgba(60, 64, 67, 0.15);\n",
              "      fill: #174EA6;\n",
              "    }\n",
              "\n",
              "    .colab-df-buttons div {\n",
              "      margin-bottom: 4px;\n",
              "    }\n",
              "\n",
              "    [theme=dark] .colab-df-convert {\n",
              "      background-color: #3B4455;\n",
              "      fill: #D2E3FC;\n",
              "    }\n",
              "\n",
              "    [theme=dark] .colab-df-convert:hover {\n",
              "      background-color: #434B5C;\n",
              "      box-shadow: 0px 1px 3px 1px rgba(0, 0, 0, 0.15);\n",
              "      filter: drop-shadow(0px 1px 2px rgba(0, 0, 0, 0.3));\n",
              "      fill: #FFFFFF;\n",
              "    }\n",
              "  </style>\n",
              "\n",
              "    <script>\n",
              "      const buttonEl =\n",
              "        document.querySelector('#df-c67aeccd-2148-4253-bd85-9b4cc31beb16 button.colab-df-convert');\n",
              "      buttonEl.style.display =\n",
              "        google.colab.kernel.accessAllowed ? 'block' : 'none';\n",
              "\n",
              "      async function convertToInteractive(key) {\n",
              "        const element = document.querySelector('#df-c67aeccd-2148-4253-bd85-9b4cc31beb16');\n",
              "        const dataTable =\n",
              "          await google.colab.kernel.invokeFunction('convertToInteractive',\n",
              "                                                    [key], {});\n",
              "        if (!dataTable) return;\n",
              "\n",
              "        const docLinkHtml = 'Like what you see? Visit the ' +\n",
              "          '<a target=\"_blank\" href=https://colab.research.google.com/notebooks/data_table.ipynb>data table notebook</a>'\n",
              "          + ' to learn more about interactive tables.';\n",
              "        element.innerHTML = '';\n",
              "        dataTable['output_type'] = 'display_data';\n",
              "        await google.colab.output.renderOutput(dataTable, element);\n",
              "        const docLink = document.createElement('div');\n",
              "        docLink.innerHTML = docLinkHtml;\n",
              "        element.appendChild(docLink);\n",
              "      }\n",
              "    </script>\n",
              "  </div>\n",
              "\n",
              "\n",
              "<div id=\"df-96e4a8c3-6938-4985-a46a-b2bab16e88f9\">\n",
              "  <button class=\"colab-df-quickchart\" onclick=\"quickchart('df-96e4a8c3-6938-4985-a46a-b2bab16e88f9')\"\n",
              "            title=\"Suggest charts\"\n",
              "            style=\"display:none;\">\n",
              "\n",
              "<svg xmlns=\"http://www.w3.org/2000/svg\" height=\"24px\"viewBox=\"0 0 24 24\"\n",
              "     width=\"24px\">\n",
              "    <g>\n",
              "        <path d=\"M19 3H5c-1.1 0-2 .9-2 2v14c0 1.1.9 2 2 2h14c1.1 0 2-.9 2-2V5c0-1.1-.9-2-2-2zM9 17H7v-7h2v7zm4 0h-2V7h2v10zm4 0h-2v-4h2v4z\"/>\n",
              "    </g>\n",
              "</svg>\n",
              "  </button>\n",
              "\n",
              "<style>\n",
              "  .colab-df-quickchart {\n",
              "      --bg-color: #E8F0FE;\n",
              "      --fill-color: #1967D2;\n",
              "      --hover-bg-color: #E2EBFA;\n",
              "      --hover-fill-color: #174EA6;\n",
              "      --disabled-fill-color: #AAA;\n",
              "      --disabled-bg-color: #DDD;\n",
              "  }\n",
              "\n",
              "  [theme=dark] .colab-df-quickchart {\n",
              "      --bg-color: #3B4455;\n",
              "      --fill-color: #D2E3FC;\n",
              "      --hover-bg-color: #434B5C;\n",
              "      --hover-fill-color: #FFFFFF;\n",
              "      --disabled-bg-color: #3B4455;\n",
              "      --disabled-fill-color: #666;\n",
              "  }\n",
              "\n",
              "  .colab-df-quickchart {\n",
              "    background-color: var(--bg-color);\n",
              "    border: none;\n",
              "    border-radius: 50%;\n",
              "    cursor: pointer;\n",
              "    display: none;\n",
              "    fill: var(--fill-color);\n",
              "    height: 32px;\n",
              "    padding: 0;\n",
              "    width: 32px;\n",
              "  }\n",
              "\n",
              "  .colab-df-quickchart:hover {\n",
              "    background-color: var(--hover-bg-color);\n",
              "    box-shadow: 0 1px 2px rgba(60, 64, 67, 0.3), 0 1px 3px 1px rgba(60, 64, 67, 0.15);\n",
              "    fill: var(--button-hover-fill-color);\n",
              "  }\n",
              "\n",
              "  .colab-df-quickchart-complete:disabled,\n",
              "  .colab-df-quickchart-complete:disabled:hover {\n",
              "    background-color: var(--disabled-bg-color);\n",
              "    fill: var(--disabled-fill-color);\n",
              "    box-shadow: none;\n",
              "  }\n",
              "\n",
              "  .colab-df-spinner {\n",
              "    border: 2px solid var(--fill-color);\n",
              "    border-color: transparent;\n",
              "    border-bottom-color: var(--fill-color);\n",
              "    animation:\n",
              "      spin 1s steps(1) infinite;\n",
              "  }\n",
              "\n",
              "  @keyframes spin {\n",
              "    0% {\n",
              "      border-color: transparent;\n",
              "      border-bottom-color: var(--fill-color);\n",
              "      border-left-color: var(--fill-color);\n",
              "    }\n",
              "    20% {\n",
              "      border-color: transparent;\n",
              "      border-left-color: var(--fill-color);\n",
              "      border-top-color: var(--fill-color);\n",
              "    }\n",
              "    30% {\n",
              "      border-color: transparent;\n",
              "      border-left-color: var(--fill-color);\n",
              "      border-top-color: var(--fill-color);\n",
              "      border-right-color: var(--fill-color);\n",
              "    }\n",
              "    40% {\n",
              "      border-color: transparent;\n",
              "      border-right-color: var(--fill-color);\n",
              "      border-top-color: var(--fill-color);\n",
              "    }\n",
              "    60% {\n",
              "      border-color: transparent;\n",
              "      border-right-color: var(--fill-color);\n",
              "    }\n",
              "    80% {\n",
              "      border-color: transparent;\n",
              "      border-right-color: var(--fill-color);\n",
              "      border-bottom-color: var(--fill-color);\n",
              "    }\n",
              "    90% {\n",
              "      border-color: transparent;\n",
              "      border-bottom-color: var(--fill-color);\n",
              "    }\n",
              "  }\n",
              "</style>\n",
              "\n",
              "  <script>\n",
              "    async function quickchart(key) {\n",
              "      const quickchartButtonEl =\n",
              "        document.querySelector('#' + key + ' button');\n",
              "      quickchartButtonEl.disabled = true;  // To prevent multiple clicks.\n",
              "      quickchartButtonEl.classList.add('colab-df-spinner');\n",
              "      try {\n",
              "        const charts = await google.colab.kernel.invokeFunction(\n",
              "            'suggestCharts', [key], {});\n",
              "      } catch (error) {\n",
              "        console.error('Error during call to suggestCharts:', error);\n",
              "      }\n",
              "      quickchartButtonEl.classList.remove('colab-df-spinner');\n",
              "      quickchartButtonEl.classList.add('colab-df-quickchart-complete');\n",
              "    }\n",
              "    (() => {\n",
              "      let quickchartButtonEl =\n",
              "        document.querySelector('#df-96e4a8c3-6938-4985-a46a-b2bab16e88f9 button');\n",
              "      quickchartButtonEl.style.display =\n",
              "        google.colab.kernel.accessAllowed ? 'block' : 'none';\n",
              "    })();\n",
              "  </script>\n",
              "</div>\n",
              "    </div>\n",
              "  </div>\n"
            ],
            "application/vnd.google.colaboratory.intrinsic+json": {
              "type": "dataframe",
              "variable_name": "gpdf"
            }
          },
          "metadata": {},
          "execution_count": 18
        }
      ]
    },
    {
      "cell_type": "code",
      "source": [
        "# Seleccion de caracteristicas\n",
        "features = ['EdadCliente', 'Genero', 'CicloCliente','Plazo', 'MontoCredito', 'MontoCapital', 'SaldoCapital', 'MontoCuota','DiasAtraso','EstadoCivil','EstatusCredito', 'Escolaridad']\n"
      ],
      "metadata": {
        "id": "kOjsHBiUOZnj"
      },
      "execution_count": null,
      "outputs": []
    },
    {
      "cell_type": "code",
      "source": [
        "newgpdf = gpdf[features]\n",
        "newgpdf.info()"
      ],
      "metadata": {
        "colab": {
          "base_uri": "https://localhost:8080/"
        },
        "id": "cYolIS58QVXb",
        "outputId": "f03fc38f-4195-4786-dfa1-56b20527ab67"
      },
      "execution_count": null,
      "outputs": [
        {
          "output_type": "stream",
          "name": "stdout",
          "text": [
            "<class 'pandas.core.frame.DataFrame'>\n",
            "Index: 4334903 entries, 13 to 127676\n",
            "Data columns (total 12 columns):\n",
            " #   Column          Dtype  \n",
            "---  ------          -----  \n",
            " 0   EdadCliente     int64  \n",
            " 1   Genero          object \n",
            " 2   CicloCliente    int64  \n",
            " 3   Plazo           int64  \n",
            " 4   MontoCredito    float64\n",
            " 5   MontoCapital    float64\n",
            " 6   SaldoCapital    float64\n",
            " 7   MontoCuota      float64\n",
            " 8   DiasAtraso      float64\n",
            " 9   EstadoCivil     int64  \n",
            " 10  EstatusCredito  object \n",
            " 11  Escolaridad     object \n",
            "dtypes: float64(5), int64(4), object(3)\n",
            "memory usage: 429.9+ MB\n"
          ]
        }
      ]
    },
    {
      "cell_type": "code",
      "source": [
        " num_variables = ['EdadCliente', 'MontoCredito', 'Plazo', 'MontoCuota', 'MontoCapital', 'SaldoCapital', 'DiasAtraso']\n",
        " cat_variables = ['Genero', 'EstatusCredito', 'Escolaridad']"
      ],
      "metadata": {
        "id": "6uPJHNyEPv_b"
      },
      "execution_count": null,
      "outputs": []
    },
    {
      "cell_type": "code",
      "source": [
        "# solo variables numerica\n",
        "x_num = newgpdf[num_variables]"
      ],
      "metadata": {
        "id": "8cklWP_VYmOj"
      },
      "execution_count": null,
      "outputs": []
    },
    {
      "cell_type": "markdown",
      "source": [
        "#### Preprocesamiento y creacion de pipeline"
      ],
      "metadata": {
        "id": "_f2GxT13cEd7"
      }
    },
    {
      "cell_type": "code",
      "source": [
        "# fase de Escalamiento y normalizacion\n",
        "num_pipeline = Pipeline([\n",
        "    ('scaler', StandardScaler())\n",
        "])\n"
      ],
      "metadata": {
        "id": "XKgvcMlmNLZh"
      },
      "execution_count": null,
      "outputs": []
    },
    {
      "cell_type": "code",
      "source": [
        "# fase de Codificacion de categorias\n",
        "cat_pipeline = Pipeline([\n",
        "    ('encoder', OneHotEncoder())\n",
        "])"
      ],
      "metadata": {
        "id": "-21DR9icPN5L"
      },
      "execution_count": null,
      "outputs": []
    },
    {
      "cell_type": "code",
      "source": [
        "# pipeline con metodos de preprocesamiento\n",
        "preprocessor = ColumnTransformer(\n",
        "    transformers=[\n",
        "        ('num', num_pipeline, num_variables),\n",
        "        ('cat', cat_pipeline, cat_variables)\n",
        "    ])"
      ],
      "metadata": {
        "id": "FWOPXjCjSX32"
      },
      "execution_count": null,
      "outputs": []
    },
    {
      "cell_type": "markdown",
      "source": [
        "#### Correlación"
      ],
      "metadata": {
        "id": "E4ihWKWOcuCv"
      }
    },
    {
      "cell_type": "code",
      "source": [
        "# Calcular la matriz de correlación\n",
        "correlation_matrix = x_num.corr()\n",
        "\n",
        "# visualizar la matriz de correlación\n",
        "print(\"Matriz de correlación en var numericas:\")\n",
        "print(correlation_matrix)\n",
        "\n",
        "# características más correlacionadas con umbral del .5\n",
        "threshold = 0.5\n",
        "highly_correlated_features = set()\n",
        "for i in range(len(correlation_matrix.columns)):\n",
        "    for j in range(i):\n",
        "        if abs(correlation_matrix.iloc[i, j]) > threshold:\n",
        "            colname = correlation_matrix.columns[i]\n",
        "            highly_correlated_features.add(colname)\n",
        "\n",
        "print(\"\\nCaracterísticas correlacionadas:\")\n",
        "print(highly_correlated_features)"
      ],
      "metadata": {
        "colab": {
          "base_uri": "https://localhost:8080/"
        },
        "id": "-GvlD8lmc9oN",
        "outputId": "c64533dc-32b3-4532-8e9f-90aa04c66d04"
      },
      "execution_count": null,
      "outputs": [
        {
          "output_type": "stream",
          "name": "stdout",
          "text": [
            "Matriz de correlación en var numericas:\n",
            "              EdadCliente  MontoCredito     Plazo  MontoCuota  MontoCapital  \\\n",
            "EdadCliente      1.000000      0.076541  0.131713    0.041916      0.041870   \n",
            "MontoCredito     0.076541      1.000000  0.210279    0.955643      0.930933   \n",
            "Plazo            0.131713      0.210279  1.000000   -0.000233     -0.030958   \n",
            "MontoCuota       0.041916      0.955643 -0.000233    1.000000      0.985013   \n",
            "MontoCapital     0.041870      0.930933 -0.030958    0.985013      1.000000   \n",
            "SaldoCapital    -0.013478      0.067307 -0.029394    0.076448      0.090903   \n",
            "DiasAtraso      -0.011307     -0.021255 -0.037901   -0.013932     -0.008767   \n",
            "\n",
            "              SaldoCapital  DiasAtraso  \n",
            "EdadCliente      -0.013478   -0.011307  \n",
            "MontoCredito      0.067307   -0.021255  \n",
            "Plazo            -0.029394   -0.037901  \n",
            "MontoCuota        0.076448   -0.013932  \n",
            "MontoCapital      0.090903   -0.008767  \n",
            "SaldoCapital      1.000000    0.378782  \n",
            "DiasAtraso        0.378782    1.000000  \n",
            "\n",
            "Características correlacionadas:\n",
            "{'MontoCapital', 'MontoCuota'}\n"
          ]
        }
      ]
    },
    {
      "cell_type": "markdown",
      "source": [
        "#### Umbral de Varianza"
      ],
      "metadata": {
        "id": "Um6YI1tIY97R"
      }
    },
    {
      "cell_type": "code",
      "source": [
        "\n",
        "# Aplicar umbral de varianza con threshold de .1\n",
        "threshold = 0.1\n",
        "selector = VarianceThreshold(threshold=threshold)\n",
        "X_selected = selector.fit_transform(x_num)\n",
        "\n",
        "# Obtener los nombres de las características seleccionadas\n",
        "selected_features = x_num.columns[selector.get_support()]\n",
        "\n",
        "# Mostrar las características seleccionadas\n",
        "print(\"Características seleccionadas con varianza superior al umbral:\")\n",
        "print(selected_features)"
      ],
      "metadata": {
        "colab": {
          "base_uri": "https://localhost:8080/"
        },
        "id": "lHH8ABrvZR2W",
        "outputId": "895b3cdd-259a-4c90-bb83-26d191f9939d"
      },
      "execution_count": null,
      "outputs": [
        {
          "output_type": "stream",
          "name": "stdout",
          "text": [
            "Características seleccionadas con varianza superior al umbral:\n",
            "Index(['EdadCliente', 'MontoCredito', 'Plazo', 'MontoCuota', 'MontoCapital',\n",
            "       'SaldoCapital', 'DiasAtraso'],\n",
            "      dtype='object')\n"
          ]
        }
      ]
    },
    {
      "cell_type": "markdown",
      "source": [
        "#### PCA"
      ],
      "metadata": {
        "id": "Af4D2LuCSj6Z"
      }
    },
    {
      "cell_type": "code",
      "source": [
        "pca_pipeline = Pipeline([\n",
        "    ('preprocessor', preprocessor),\n",
        "    ('pca', PCA(n_components=2))\n",
        "])\n"
      ],
      "metadata": {
        "id": "LIZR3zMHS9z-"
      },
      "execution_count": null,
      "outputs": []
    },
    {
      "cell_type": "code",
      "source": [
        "principal_components = pca_pipeline.fit_transform(newgpdf)"
      ],
      "metadata": {
        "id": "3rpFR_ltTC9-"
      },
      "execution_count": null,
      "outputs": []
    },
    {
      "cell_type": "code",
      "source": [
        "principal_df = pd.DataFrame(data=principal_components, columns=['PC1', 'PC2'])"
      ],
      "metadata": {
        "id": "IAK0Xx9HTvFe"
      },
      "execution_count": null,
      "outputs": []
    },
    {
      "cell_type": "code",
      "source": [
        "# Exploración de la varianza\n",
        "print(\"Varianza explicada por cada componente principal:\")\n",
        "print(pca_pipeline.named_steps['pca'].explained_variance_ratio_)\n",
        "\n"
      ],
      "metadata": {
        "colab": {
          "base_uri": "https://localhost:8080/"
        },
        "id": "bXd1EipbUW3M",
        "outputId": "d47f6bf9-9c83-4047-937c-dbc7f4d1fdfc"
      },
      "execution_count": null,
      "outputs": [
        {
          "output_type": "stream",
          "name": "stdout",
          "text": [
            "Varianza explicada por cada componente principal:\n",
            "[0.37219044 0.17848539]\n"
          ]
        }
      ]
    },
    {
      "cell_type": "code",
      "source": [
        "# plot\n",
        "plt.figure(figsize=(10, 6))\n",
        "plt.scatter(principal_df['PC1'], principal_df['PC2'], alpha=0.5)\n",
        "plt.title('PCA de los Datos')\n",
        "plt.xlabel('Componente Principal 1')\n",
        "plt.ylabel('Componente Principal 2')\n",
        "plt.grid(True)\n",
        "plt.show()"
      ],
      "metadata": {
        "colab": {
          "base_uri": "https://localhost:8080/",
          "height": 462
        },
        "id": "AcytnJNtTyZ1",
        "outputId": "73722fb6-60ec-4373-9b4a-32af33bfdaa7"
      },
      "execution_count": null,
      "outputs": [
        {
          "output_type": "display_data",
          "data": {
            "text/plain": [
              "<Figure size 1000x600 with 1 Axes>"
            ],
            "image/png": "[encoded data removed]"
          },
          "metadata": {}
        }
      ]
    },
    {
      "cell_type": "code",
      "source": [],
      "metadata": {
        "id": "Mj6LwT1CTzK0"
      },
      "execution_count": null,
      "outputs": []
    },
    {
      "cell_type": "markdown",
      "source": [
        "#### Generacion de nuevas caracteristicas con LLama3"
      ],
      "metadata": {
        "id": "CujjX03TfFIv"
      }
    },
    {
      "cell_type": "markdown",
      "source": [
        "La idea detras de generar conversaciones y acciones, es poder entrenar el modelo llama3 con un fine tune especifico a nuestras situacciones y acciones. Los datos se generan sintenticamente por un modelo LLM y los resultados son evaluados por expertos en el area."
      ],
      "metadata": {
        "id": "LHjs2ErEfSf2"
      }
    },
    {
      "cell_type": "code",
      "source": [
        "!pip install transformers"
      ],
      "metadata": {
        "colab": {
          "base_uri": "https://localhost:8080/"
        },
        "id": "ahSb6i4Kgmcp",
        "outputId": "a4f22cc2-e517-4c64-c190-9e8fea7255f6"
      },
      "execution_count": null,
      "outputs": [
        {
          "output_type": "stream",
          "name": "stdout",
          "text": [
            "Requirement already satisfied: transformers in /usr/local/lib/python3.10/dist-packages (4.40.1)\n",
            "Requirement already satisfied: filelock in /usr/local/lib/python3.10/dist-packages (from transformers) (3.14.0)\n",
            "Requirement already satisfied: huggingface-hub<1.0,>=0.19.3 in /usr/local/lib/python3.10/dist-packages (from transformers) (0.20.3)\n",
            "Requirement already satisfied: numpy>=1.17 in /usr/local/lib/python3.10/dist-packages (from transformers) (1.25.2)\n",
            "Requirement already satisfied: packaging>=20.0 in /usr/local/lib/python3.10/dist-packages (from transformers) (24.0)\n",
            "Requirement already satisfied: pyyaml>=5.1 in /usr/local/lib/python3.10/dist-packages (from transformers) (6.0.1)\n",
            "Requirement already satisfied: regex!=2019.12.17 in /usr/local/lib/python3.10/dist-packages (from transformers) (2023.12.25)\n",
            "Requirement already satisfied: requests in /usr/local/lib/python3.10/dist-packages (from transformers) (2.31.0)\n",
            "Requirement already satisfied: tokenizers<0.20,>=0.19 in /usr/local/lib/python3.10/dist-packages (from transformers) (0.19.1)\n",
            "Requirement already satisfied: safetensors>=0.4.1 in /usr/local/lib/python3.10/dist-packages (from transformers) (0.4.3)\n",
            "Requirement already satisfied: tqdm>=4.27 in /usr/local/lib/python3.10/dist-packages (from transformers) (4.66.4)\n",
            "Requirement already satisfied: fsspec>=2023.5.0 in /usr/local/lib/python3.10/dist-packages (from huggingface-hub<1.0,>=0.19.3->transformers) (2023.6.0)\n",
            "Requirement already satisfied: typing-extensions>=3.7.4.3 in /usr/local/lib/python3.10/dist-packages (from huggingface-hub<1.0,>=0.19.3->transformers) (4.11.0)\n",
            "Requirement already satisfied: charset-normalizer<4,>=2 in /usr/local/lib/python3.10/dist-packages (from requests->transformers) (3.3.2)\n",
            "Requirement already satisfied: idna<4,>=2.5 in /usr/local/lib/python3.10/dist-packages (from requests->transformers) (3.7)\n",
            "Requirement already satisfied: urllib3<3,>=1.21.1 in /usr/local/lib/python3.10/dist-packages (from requests->transformers) (2.0.7)\n",
            "Requirement already satisfied: certifi>=2017.4.17 in /usr/local/lib/python3.10/dist-packages (from requests->transformers) (2024.2.2)\n"
          ]
        }
      ]
    },
    {
      "cell_type": "code",
      "source": [
        "!pip install accelerate"
      ],
      "metadata": {
        "colab": {
          "base_uri": "https://localhost:8080/"
        },
        "id": "fHOpd88BmF2T",
        "outputId": "2cfddbea-8bf2-415d-c374-2032fcbb9d69"
      },
      "execution_count": null,
      "outputs": [
        {
          "output_type": "stream",
          "name": "stdout",
          "text": [
            "Requirement already satisfied: accelerate in /usr/local/lib/python3.10/dist-packages (0.30.0)\n",
            "Requirement already satisfied: numpy>=1.17 in /usr/local/lib/python3.10/dist-packages (from accelerate) (1.25.2)\n",
            "Requirement already satisfied: packaging>=20.0 in /usr/local/lib/python3.10/dist-packages (from accelerate) (24.0)\n",
            "Requirement already satisfied: psutil in /usr/local/lib/python3.10/dist-packages (from accelerate) (5.9.5)\n",
            "Requirement already satisfied: pyyaml in /usr/local/lib/python3.10/dist-packages (from accelerate) (6.0.1)\n",
            "Requirement already satisfied: torch>=1.10.0 in /usr/local/lib/python3.10/dist-packages (from accelerate) (2.2.1+cu121)\n",
            "Requirement already satisfied: huggingface-hub in /usr/local/lib/python3.10/dist-packages (from accelerate) (0.20.3)\n",
            "Requirement already satisfied: safetensors>=0.3.1 in /usr/local/lib/python3.10/dist-packages (from accelerate) (0.4.3)\n",
            "Requirement already satisfied: filelock in /usr/local/lib/python3.10/dist-packages (from torch>=1.10.0->accelerate) (3.14.0)\n",
            "Requirement already satisfied: typing-extensions>=4.8.0 in /usr/local/lib/python3.10/dist-packages (from torch>=1.10.0->accelerate) (4.11.0)\n",
            "Requirement already satisfied: sympy in /usr/local/lib/python3.10/dist-packages (from torch>=1.10.0->accelerate) (1.12)\n",
            "Requirement already satisfied: networkx in /usr/local/lib/python3.10/dist-packages (from torch>=1.10.0->accelerate) (3.3)\n",
            "Requirement already satisfied: jinja2 in /usr/local/lib/python3.10/dist-packages (from torch>=1.10.0->accelerate) (3.1.3)\n",
            "Requirement already satisfied: fsspec in /usr/local/lib/python3.10/dist-packages (from torch>=1.10.0->accelerate) (2023.6.0)\n",
            "Requirement already satisfied: nvidia-cuda-nvrtc-cu12==12.1.105 in /usr/local/lib/python3.10/dist-packages (from torch>=1.10.0->accelerate) (12.1.105)\n",
            "Requirement already satisfied: nvidia-cuda-runtime-cu12==12.1.105 in /usr/local/lib/python3.10/dist-packages (from torch>=1.10.0->accelerate) (12.1.105)\n",
            "Requirement already satisfied: nvidia-cuda-cupti-cu12==12.1.105 in /usr/local/lib/python3.10/dist-packages (from torch>=1.10.0->accelerate) (12.1.105)\n",
            "Requirement already satisfied: nvidia-cudnn-cu12==8.9.2.26 in /usr/local/lib/python3.10/dist-packages (from torch>=1.10.0->accelerate) (8.9.2.26)\n",
            "Requirement already satisfied: nvidia-cublas-cu12==12.1.3.1 in /usr/local/lib/python3.10/dist-packages (from torch>=1.10.0->accelerate) (12.1.3.1)\n",
            "Requirement already satisfied: nvidia-cufft-cu12==11.0.2.54 in /usr/local/lib/python3.10/dist-packages (from torch>=1.10.0->accelerate) (11.0.2.54)\n",
            "Requirement already satisfied: nvidia-curand-cu12==10.3.2.106 in /usr/local/lib/python3.10/dist-packages (from torch>=1.10.0->accelerate) (10.3.2.106)\n",
            "Requirement already satisfied: nvidia-cusolver-cu12==11.4.5.107 in /usr/local/lib/python3.10/dist-packages (from torch>=1.10.0->accelerate) (11.4.5.107)\n",
            "Requirement already satisfied: nvidia-cusparse-cu12==12.1.0.106 in /usr/local/lib/python3.10/dist-packages (from torch>=1.10.0->accelerate) (12.1.0.106)\n",
            "Requirement already satisfied: nvidia-nccl-cu12==2.19.3 in /usr/local/lib/python3.10/dist-packages (from torch>=1.10.0->accelerate) (2.19.3)\n",
            "Requirement already satisfied: nvidia-nvtx-cu12==12.1.105 in /usr/local/lib/python3.10/dist-packages (from torch>=1.10.0->accelerate) (12.1.105)\n",
            "Requirement already satisfied: triton==2.2.0 in /usr/local/lib/python3.10/dist-packages (from torch>=1.10.0->accelerate) (2.2.0)\n",
            "Requirement already satisfied: nvidia-nvjitlink-cu12 in /usr/local/lib/python3.10/dist-packages (from nvidia-cusolver-cu12==11.4.5.107->torch>=1.10.0->accelerate) (12.4.127)\n",
            "Requirement already satisfied: requests in /usr/local/lib/python3.10/dist-packages (from huggingface-hub->accelerate) (2.31.0)\n",
            "Requirement already satisfied: tqdm>=4.42.1 in /usr/local/lib/python3.10/dist-packages (from huggingface-hub->accelerate) (4.66.4)\n",
            "Requirement already satisfied: MarkupSafe>=2.0 in /usr/local/lib/python3.10/dist-packages (from jinja2->torch>=1.10.0->accelerate) (2.1.5)\n",
            "Requirement already satisfied: charset-normalizer<4,>=2 in /usr/local/lib/python3.10/dist-packages (from requests->huggingface-hub->accelerate) (3.3.2)\n",
            "Requirement already satisfied: idna<4,>=2.5 in /usr/local/lib/python3.10/dist-packages (from requests->huggingface-hub->accelerate) (3.7)\n",
            "Requirement already satisfied: urllib3<3,>=1.21.1 in /usr/local/lib/python3.10/dist-packages (from requests->huggingface-hub->accelerate) (2.0.7)\n",
            "Requirement already satisfied: certifi>=2017.4.17 in /usr/local/lib/python3.10/dist-packages (from requests->huggingface-hub->accelerate) (2024.2.2)\n",
            "Requirement already satisfied: mpmath>=0.19 in /usr/local/lib/python3.10/dist-packages (from sympy->torch>=1.10.0->accelerate) (1.3.0)\n"
          ]
        }
      ]
    },
    {
      "cell_type": "code",
      "source": [
        "!huggingface-cli login"
      ],
      "metadata": {
        "colab": {
          "base_uri": "https://localhost:8080/"
        },
        "id": "8TDjPIHrhnT7",
        "outputId": "49ed9c90-4232-428c-aa7a-75fbd1c91b28"
      },
      "execution_count": null,
      "outputs": [
        {
          "output_type": "stream",
          "name": "stdout",
          "text": [
            "\n",
            "    _|    _|  _|    _|    _|_|_|    _|_|_|  _|_|_|  _|      _|    _|_|_|      _|_|_|_|    _|_|      _|_|_|  _|_|_|_|\n",
            "    _|    _|  _|    _|  _|        _|          _|    _|_|    _|  _|            _|        _|    _|  _|        _|\n",
            "    _|_|_|_|  _|    _|  _|  _|_|  _|  _|_|    _|    _|  _|  _|  _|  _|_|      _|_|_|    _|_|_|_|  _|        _|_|_|\n",
            "    _|    _|  _|    _|  _|    _|  _|    _|    _|    _|    _|_|  _|    _|      _|        _|    _|  _|        _|\n",
            "    _|    _|    _|_|      _|_|_|    _|_|_|  _|_|_|  _|      _|    _|_|_|      _|        _|    _|    _|_|_|  _|_|_|_|\n",
            "\n",
            "    To login, `huggingface_hub` requires a token generated from https://huggingface.co/settings/tokens .\n",
            "Token: \n",
            "Add token as git credential? (Y/n) n\n",
            "Token is valid (permission: write).\n",
            "Your token has been saved to /root/.cache/huggingface/token\n",
            "Login successful\n"
          ]
        }
      ]
    },
    {
      "cell_type": "code",
      "source": [
        "import transformers\n",
        "import torch\n",
        "\n",
        "model_id = \"meta-llama/Meta-Llama-3-8B\"\n",
        "\n",
        "text_generator = transformers.pipeline(\n",
        "    \"text-generation\", model=model_id, model_kwargs={\"torch_dtype\": torch.bfloat16}, device_map=\"auto\"\n",
        ")\n",
        "template = \"context: genera json con las posibles acciones:cobrar pago, resolver dudas, reportar pago. \\nconversacion: {conversation}\\n Accion: {action}\\n\"\n",
        "\n",
        "generated_data = text_generator(template, max_length=50, do_sample=True, temperature=0.7, top_k=50)\n",
        "\n",
        "# Print the generated data\n",
        "print(generated_data[0]['generated_text'])"
      ],
      "metadata": {
        "colab": {
          "base_uri": "https://localhost:8080/",
          "height": 634
        },
        "id": "T7A79Xork4NC",
        "outputId": "c44794c4-fd58-4876-b15b-10e788a96ea6"
      },
      "execution_count": null,
      "outputs": [
        {
          "output_type": "error",
          "ename": "ImportError",
          "evalue": "Using `low_cpu_mem_usage=True` or a `device_map` requires Accelerate: `pip install accelerate`",
          "traceback": [
            "\u001b[0;31m---------------------------------------------------------------------------\u001b[0m",
            "\u001b[0;31mImportError\u001b[0m                               Traceback (most recent call last)",
            "\u001b[0;32m<ipython-input-10-7eeb10cb8939>\u001b[0m in \u001b[0;36m<cell line: 6>\u001b[0;34m()\u001b[0m\n\u001b[1;32m      4\u001b[0m \u001b[0mmodel_id\u001b[0m \u001b[0;34m=\u001b[0m \u001b[0;34m\"meta-llama/Meta-Llama-3-8B\"\u001b[0m\u001b[0;34m\u001b[0m\u001b[0;34m\u001b[0m\u001b[0m\n\u001b[1;32m      5\u001b[0m \u001b[0;34m\u001b[0m\u001b[0m\n\u001b[0;32m----> 6\u001b[0;31m text_generator = transformers.pipeline(\n\u001b[0m\u001b[1;32m      7\u001b[0m     \u001b[0;34m\"text-generation\"\u001b[0m\u001b[0;34m,\u001b[0m \u001b[0mmodel\u001b[0m\u001b[0;34m=\u001b[0m\u001b[0mmodel_id\u001b[0m\u001b[0;34m,\u001b[0m \u001b[0mmodel_kwargs\u001b[0m\u001b[0;34m=\u001b[0m\u001b[0;34m{\u001b[0m\u001b[0;34m\"torch_dtype\"\u001b[0m\u001b[0;34m:\u001b[0m \u001b[0mtorch\u001b[0m\u001b[0;34m.\u001b[0m\u001b[0mbfloat16\u001b[0m\u001b[0;34m}\u001b[0m\u001b[0;34m,\u001b[0m \u001b[0mdevice_map\u001b[0m\u001b[0;34m=\u001b[0m\u001b[0;34m\"auto\"\u001b[0m\u001b[0;34m\u001b[0m\u001b[0;34m\u001b[0m\u001b[0m\n\u001b[1;32m      8\u001b[0m )\n",
            "\u001b[0;32m/usr/local/lib/python3.10/dist-packages/transformers/pipelines/__init__.py\u001b[0m in \u001b[0;36mpipeline\u001b[0;34m(task, model, config, tokenizer, feature_extractor, image_processor, framework, revision, use_fast, token, device, device_map, torch_dtype, trust_remote_code, model_kwargs, pipeline_class, **kwargs)\u001b[0m\n\u001b[1;32m    904\u001b[0m     \u001b[0;32mif\u001b[0m \u001b[0misinstance\u001b[0m\u001b[0;34m(\u001b[0m\u001b[0mmodel\u001b[0m\u001b[0;34m,\u001b[0m \u001b[0mstr\u001b[0m\u001b[0;34m)\u001b[0m \u001b[0;32mor\u001b[0m \u001b[0mframework\u001b[0m \u001b[0;32mis\u001b[0m \u001b[0;32mNone\u001b[0m\u001b[0;34m:\u001b[0m\u001b[0;34m\u001b[0m\u001b[0;34m\u001b[0m\u001b[0m\n\u001b[1;32m    905\u001b[0m         \u001b[0mmodel_classes\u001b[0m \u001b[0;34m=\u001b[0m \u001b[0;34m{\u001b[0m\u001b[0;34m\"tf\"\u001b[0m\u001b[0;34m:\u001b[0m \u001b[0mtargeted_task\u001b[0m\u001b[0;34m[\u001b[0m\u001b[0;34m\"tf\"\u001b[0m\u001b[0;34m]\u001b[0m\u001b[0;34m,\u001b[0m \u001b[0;34m\"pt\"\u001b[0m\u001b[0;34m:\u001b[0m \u001b[0mtargeted_task\u001b[0m\u001b[0;34m[\u001b[0m\u001b[0;34m\"pt\"\u001b[0m\u001b[0;34m]\u001b[0m\u001b[0;34m}\u001b[0m\u001b[0;34m\u001b[0m\u001b[0;34m\u001b[0m\u001b[0m\n\u001b[0;32m--> 906\u001b[0;31m         framework, model = infer_framework_load_model(\n\u001b[0m\u001b[1;32m    907\u001b[0m             \u001b[0mmodel\u001b[0m\u001b[0;34m,\u001b[0m\u001b[0;34m\u001b[0m\u001b[0;34m\u001b[0m\u001b[0m\n\u001b[1;32m    908\u001b[0m             \u001b[0mmodel_classes\u001b[0m\u001b[0;34m=\u001b[0m\u001b[0mmodel_classes\u001b[0m\u001b[0;34m,\u001b[0m\u001b[0;34m\u001b[0m\u001b[0;34m\u001b[0m\u001b[0m\n",
            "\u001b[0;32m/usr/local/lib/python3.10/dist-packages/transformers/pipelines/base.py\u001b[0m in \u001b[0;36minfer_framework_load_model\u001b[0;34m(model, config, model_classes, task, framework, **model_kwargs)\u001b[0m\n\u001b[1;32m    281\u001b[0m \u001b[0;34m\u001b[0m\u001b[0m\n\u001b[1;32m    282\u001b[0m             \u001b[0;32mtry\u001b[0m\u001b[0;34m:\u001b[0m\u001b[0;34m\u001b[0m\u001b[0;34m\u001b[0m\u001b[0m\n\u001b[0;32m--> 283\u001b[0;31m                 \u001b[0mmodel\u001b[0m \u001b[0;34m=\u001b[0m \u001b[0mmodel_class\u001b[0m\u001b[0;34m.\u001b[0m\u001b[0mfrom_pretrained\u001b[0m\u001b[0;34m(\u001b[0m\u001b[0mmodel\u001b[0m\u001b[0;34m,\u001b[0m \u001b[0;34m**\u001b[0m\u001b[0mkwargs\u001b[0m\u001b[0;34m)\u001b[0m\u001b[0;34m\u001b[0m\u001b[0;34m\u001b[0m\u001b[0m\n\u001b[0m\u001b[1;32m    284\u001b[0m                 \u001b[0;32mif\u001b[0m \u001b[0mhasattr\u001b[0m\u001b[0;34m(\u001b[0m\u001b[0mmodel\u001b[0m\u001b[0;34m,\u001b[0m \u001b[0;34m\"eval\"\u001b[0m\u001b[0;34m)\u001b[0m\u001b[0;34m:\u001b[0m\u001b[0;34m\u001b[0m\u001b[0;34m\u001b[0m\u001b[0m\n\u001b[1;32m    285\u001b[0m                     \u001b[0mmodel\u001b[0m \u001b[0;34m=\u001b[0m \u001b[0mmodel\u001b[0m\u001b[0;34m.\u001b[0m\u001b[0meval\u001b[0m\u001b[0;34m(\u001b[0m\u001b[0;34m)\u001b[0m\u001b[0;34m\u001b[0m\u001b[0;34m\u001b[0m\u001b[0m\n",
            "\u001b[0;32m/usr/local/lib/python3.10/dist-packages/transformers/models/auto/auto_factory.py\u001b[0m in \u001b[0;36mfrom_pretrained\u001b[0;34m(cls, pretrained_model_name_or_path, *model_args, **kwargs)\u001b[0m\n\u001b[1;32m    561\u001b[0m         \u001b[0;32melif\u001b[0m \u001b[0mtype\u001b[0m\u001b[0;34m(\u001b[0m\u001b[0mconfig\u001b[0m\u001b[0;34m)\u001b[0m \u001b[0;32min\u001b[0m \u001b[0mcls\u001b[0m\u001b[0;34m.\u001b[0m\u001b[0m_model_mapping\u001b[0m\u001b[0;34m.\u001b[0m\u001b[0mkeys\u001b[0m\u001b[0;34m(\u001b[0m\u001b[0;34m)\u001b[0m\u001b[0;34m:\u001b[0m\u001b[0;34m\u001b[0m\u001b[0;34m\u001b[0m\u001b[0m\n\u001b[1;32m    562\u001b[0m             \u001b[0mmodel_class\u001b[0m \u001b[0;34m=\u001b[0m \u001b[0m_get_model_class\u001b[0m\u001b[0;34m(\u001b[0m\u001b[0mconfig\u001b[0m\u001b[0;34m,\u001b[0m \u001b[0mcls\u001b[0m\u001b[0;34m.\u001b[0m\u001b[0m_model_mapping\u001b[0m\u001b[0;34m)\u001b[0m\u001b[0;34m\u001b[0m\u001b[0;34m\u001b[0m\u001b[0m\n\u001b[0;32m--> 563\u001b[0;31m             return model_class.from_pretrained(\n\u001b[0m\u001b[1;32m    564\u001b[0m                 \u001b[0mpretrained_model_name_or_path\u001b[0m\u001b[0;34m,\u001b[0m \u001b[0;34m*\u001b[0m\u001b[0mmodel_args\u001b[0m\u001b[0;34m,\u001b[0m \u001b[0mconfig\u001b[0m\u001b[0;34m=\u001b[0m\u001b[0mconfig\u001b[0m\u001b[0;34m,\u001b[0m \u001b[0;34m**\u001b[0m\u001b[0mhub_kwargs\u001b[0m\u001b[0;34m,\u001b[0m \u001b[0;34m**\u001b[0m\u001b[0mkwargs\u001b[0m\u001b[0;34m\u001b[0m\u001b[0;34m\u001b[0m\u001b[0m\n\u001b[1;32m    565\u001b[0m             )\n",
            "\u001b[0;32m/usr/local/lib/python3.10/dist-packages/transformers/modeling_utils.py\u001b[0m in \u001b[0;36mfrom_pretrained\u001b[0;34m(cls, pretrained_model_name_or_path, config, cache_dir, ignore_mismatched_sizes, force_download, local_files_only, token, revision, use_safetensors, *model_args, **kwargs)\u001b[0m\n\u001b[1;32m   3084\u001b[0m                 )\n\u001b[1;32m   3085\u001b[0m             \u001b[0;32melif\u001b[0m \u001b[0;32mnot\u001b[0m \u001b[0mis_accelerate_available\u001b[0m\u001b[0;34m(\u001b[0m\u001b[0;34m)\u001b[0m\u001b[0;34m:\u001b[0m\u001b[0;34m\u001b[0m\u001b[0;34m\u001b[0m\u001b[0m\n\u001b[0;32m-> 3086\u001b[0;31m                 raise ImportError(\n\u001b[0m\u001b[1;32m   3087\u001b[0m                     \u001b[0;34m\"Using `low_cpu_mem_usage=True` or a `device_map` requires Accelerate: `pip install accelerate`\"\u001b[0m\u001b[0;34m\u001b[0m\u001b[0;34m\u001b[0m\u001b[0m\n\u001b[1;32m   3088\u001b[0m                 )\n",
            "\u001b[0;31mImportError\u001b[0m: Using `low_cpu_mem_usage=True` or a `device_map` requires Accelerate: `pip install accelerate`",
            "",
            "\u001b[0;31m---------------------------------------------------------------------------\u001b[0;32m\nNOTE: If your import is failing due to a missing package, you can\nmanually install dependencies using either !pip or !apt.\n\nTo view examples of installing some common dependencies, click the\n\"Open Examples\" button below.\n\u001b[0;31m---------------------------------------------------------------------------\u001b[0m\n"
          ],
          "errorDetails": {
            "actions": [
              {
                "action": "open_url",
                "actionText": "Open Examples",
                "url": "/notebooks/snippets/importing_libraries.ipynb"
              }
            ]
          }
        }
      ]
    }
  ]
}