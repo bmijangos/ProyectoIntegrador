{
  "nbformat": 4,
  "nbformat_minor": 0,
  "metadata": {
    "colab": {
      "provenance": [],
      "mount_file_id": "1yMF_YmL_-qM0j9LDvF8X4-uG-jlPyavh",
      "authorship_tag": "ABX9TyPHdgm3zlBogzXVE6GrmVPu",
      "include_colab_link": true
    },
    "kernelspec": {
      "name": "python3",
      "display_name": "Python 3"
    },
    "language_info": {
      "name": "python"
    }
  },
  "cells": [
    {
      "cell_type": "markdown",
      "metadata": {
        "id": "view-in-github",
        "colab_type": "text"
      },
      "source": [
        "<a href=\"https://colab.research.google.com/github/bmijangos/ProyectoIntegrador/blob/main/Actividad1_equipo21.ipynb\" target=\"_parent\"><img src=\"https://colab.research.google.com/assets/colab-badge.svg\" alt=\"Open In Colab\"/></a>"
      ]
    },
    {
      "cell_type": "code",
      "execution_count": 1,
      "metadata": {
        "colab": {
          "base_uri": "https://localhost:8080/"
        },
        "id": "oQW9dqxBCoj5",
        "outputId": "f1d1c950-23ce-438c-9a29-ecd9da60337f"
      },
      "outputs": [
        {
          "output_type": "stream",
          "name": "stdout",
          "text": [
            "Drive already mounted at /content/drive; to attempt to forcibly remount, call drive.mount(\"/content/drive\", force_remount=True).\n"
          ]
        }
      ],
      "source": [
        "from google.colab import drive\n",
        "drive.mount('/content/drive')"
      ]
    },
    {
      "cell_type": "code",
      "source": [
        "import os\n",
        "import pandas as pd\n",
        "\n",
        "# Lectura de los archivos csv\n",
        "file_path = '/content/drive/MyDrive/DataSetProyecto/GrupalTodo.csv'\n",
        "\n",
        "label = [\"IdCliente\",\"FechaAltaCliente\",\"CodigoGrupo\",\"EdadCliente\",\"Genero\",\"EstadoCivil\",\"Escolaridad\",\"CapacidadPago\",\"Localidad\",\"CodigoSucursal\",\"CodigoASesor\",\"NumeroCredito\",\"CicloCliente\",\"FechaDesembolso\",\"FechaVencimiento\",\"FechaCancelacion\",\"Plazo\",\"PeriodoPago\",\"EstatusCredito\",\"MontoCredito\",\"CuotaNumero\",\"CuotaFechaVencimiento\",\"CuotaFechaCancelacion\",\"MontoCuota\",\"MontoCapital\",\"SaldoCapital\",\"EstatusCuota\",\"DiasAtraso\"]\n",
        "\n",
        "# Obtenemos el dataframe\n",
        "pagos_df = pd.read_csv(file_path, names=label)\n",
        "\n",
        "pagos_df.shape\n"
      ],
      "metadata": {
        "colab": {
          "base_uri": "https://localhost:8080/"
        },
        "id": "cryZp6GGEbmS",
        "outputId": "43c4fd28-8aa2-44e4-f860-21e62cd03587"
      },
      "execution_count": 19,
      "outputs": [
        {
          "output_type": "execute_result",
          "data": {
            "text/plain": [
              "(4254537, 28)"
            ]
          },
          "metadata": {},
          "execution_count": 19
        }
      ]
    },
    {
      "cell_type": "code",
      "source": [
        "file_path = '/content/drive/MyDrive/DataSetProyecto/GrupalTodoCastigos.csv'\n",
        "\n",
        "castigos_df = pd.read_csv(file_path)\n",
        "\n",
        "castigos_df.shape"
      ],
      "metadata": {
        "colab": {
          "base_uri": "https://localhost:8080/"
        },
        "id": "wSutp6k-czNC",
        "outputId": "e9357b6e-e050-4a93-9336-a2ceff9fe316"
      },
      "execution_count": 28,
      "outputs": [
        {
          "output_type": "execute_result",
          "data": {
            "text/plain": [
              "(127677, 28)"
            ]
          },
          "metadata": {},
          "execution_count": 28
        }
      ]
    },
    {
      "cell_type": "code",
      "source": [
        "grupal_df = pd.concat([pagos_df, castigos_df], axis=0)"
      ],
      "metadata": {
        "id": "biWyBf3adLOg"
      },
      "execution_count": 29,
      "outputs": []
    },
    {
      "cell_type": "code",
      "source": [
        "grupal_df.shape"
      ],
      "metadata": {
        "colab": {
          "base_uri": "https://localhost:8080/"
        },
        "id": "mhSCapJpdtSS",
        "outputId": "83dc1490-b89c-4728-9a93-06323b863338"
      },
      "execution_count": 31,
      "outputs": [
        {
          "output_type": "execute_result",
          "data": {
            "text/plain": [
              "(4382214, 28)"
            ]
          },
          "metadata": {},
          "execution_count": 31
        }
      ]
    },
    {
      "cell_type": "code",
      "source": [
        "\n",
        "print(grupal_df.describe())\n"
      ],
      "metadata": {
        "colab": {
          "base_uri": "https://localhost:8080/"
        },
        "id": "Du-SOhpEGQTR",
        "outputId": "20368084-86b0-4a82-9c12-7a9654005caf"
      },
      "execution_count": 30,
      "outputs": [
        {
          "output_type": "stream",
          "name": "stdout",
          "text": [
            "          IdCliente   CodigoGrupo   EdadCliente   EstadoCivil  CapacidadPago  \\\n",
            "count  4.382214e+06  4.382214e+06  4.382214e+06  4.382214e+06   4.382214e+06   \n",
            "mean   5.900655e+04  8.414065e+02  4.616009e+01  3.268550e+00   7.631076e+03   \n",
            "std    3.836323e+04  5.770047e+02  1.334739e+01  1.669050e+00   3.068794e+04   \n",
            "min    4.000000e+00  0.000000e+00  1.900000e+01  1.000000e+00  -6.391200e+06   \n",
            "25%    2.366700e+04  3.130000e+02  3.600000e+01  2.000000e+00   2.400000e+03   \n",
            "50%    5.528300e+04  8.230000e+02  4.500000e+01  3.000000e+00   6.000000e+03   \n",
            "75%    9.228700e+04  1.244000e+03  5.500000e+01  5.000000e+00   1.016000e+04   \n",
            "max    1.376940e+05  2.594000e+03  1.130000e+02  7.000000e+00   8.000400e+06   \n",
            "\n",
            "          Localidad  CodigoSucursal  NumeroCredito  CicloCliente  \\\n",
            "count  4.382214e+06    4.382214e+06   4.382214e+06  4.382214e+06   \n",
            "mean   7.606856e+03    6.141834e+00   6.142497e+09  5.264630e+00   \n",
            "std    3.123555e+03    4.097011e+00   4.096800e+09  4.990858e+00   \n",
            "min    1.878000e+03    0.000000e+00   7.000000e+02  1.000000e+00   \n",
            "25%    7.065000e+03    3.000000e+00   3.000494e+09  2.000000e+00   \n",
            "50%    7.089000e+03    6.000000e+00   6.000647e+09  3.000000e+00   \n",
            "75%    7.131000e+03    9.000000e+00   9.000350e+09  7.000000e+00   \n",
            "max    3.068000e+04    2.100000e+01   2.100005e+10  4.300000e+01   \n",
            "\n",
            "              Plazo  MontoCredito   CuotaNumero    MontoCuota  MontoCapital  \\\n",
            "count  4.382214e+06  4.382214e+06  4.382214e+06  4.382214e+06  4.382214e+06   \n",
            "mean   1.210500e+01  7.981739e+03  6.552446e+00  8.139269e+02  6.643596e+02   \n",
            "std    2.919232e+00  7.904431e+03  3.868837e+00  8.198415e+02  6.667682e+02   \n",
            "min    3.000000e+00  5.000000e+02  1.000000e+00  7.880000e+00  7.010000e+00   \n",
            "25%    1.200000e+01  3.000000e+03  3.000000e+00  3.705500e+02  2.929600e+02   \n",
            "50%    1.200000e+01  5.000000e+03  6.000000e+00  5.652800e+02  4.638300e+02   \n",
            "75%    1.200000e+01  1.000000e+04  9.000000e+00  9.683200e+02  7.765000e+02   \n",
            "max    3.600000e+01  1.200000e+05  3.600000e+01  2.678669e+04  2.580999e+04   \n",
            "\n",
            "       SaldoCapital    DiasAtraso  \n",
            "count  4.382214e+06  4.382086e+06  \n",
            "mean   7.452829e+00  2.973238e+00  \n",
            "std    1.043616e+02  1.975742e+01  \n",
            "min    0.000000e+00 -4.660000e+02  \n",
            "25%    0.000000e+00  0.000000e+00  \n",
            "50%    0.000000e+00  0.000000e+00  \n",
            "75%    0.000000e+00  1.000000e+00  \n",
            "max    1.086918e+04  1.977000e+03  \n"
          ]
        }
      ]
    },
    {
      "cell_type": "code",
      "source": [
        "\n",
        "print(grupal_df.head())\n"
      ],
      "metadata": {
        "colab": {
          "base_uri": "https://localhost:8080/"
        },
        "id": "PUwNBbcCJWLz",
        "outputId": "05386e53-173a-4171-813f-b4504aa0ac34"
      },
      "execution_count": 32,
      "outputs": [
        {
          "output_type": "stream",
          "name": "stdout",
          "text": [
            "   IdCliente         FechaAltaCliente  CodigoGrupo  EdadCliente Genero  \\\n",
            "0        261  2004-02-16 00:00:00.000           56           40      F   \n",
            "1      30654  2004-02-01 00:00:00.000         1223           65      F   \n",
            "2        264  2004-02-16 00:00:00.000           57           68      F   \n",
            "3        263  2004-02-16 00:00:00.000           56           71      F   \n",
            "4        261  2004-02-16 00:00:00.000           56           40      F   \n",
            "\n",
            "   EstadoCivil Escolaridad  CapacidadPago  Localidad  CodigoSucursal  ...  \\\n",
            "0            2          1A            0.0       7181               1  ...   \n",
            "1            3          7A            0.0       7086               1  ...   \n",
            "2            5          7A            0.0       7181               1  ...   \n",
            "3            5          7A            0.0       7181               1  ...   \n",
            "4            2          1A            0.0       7181               1  ...   \n",
            "\n",
            "  EstatusCredito  MontoCredito  CuotaNumero    CuotaFechaVencimiento  \\\n",
            "0            CAN       20000.0            1  2012-01-16 00:00:00.000   \n",
            "1            CAN        7000.0            1  2012-01-16 00:00:00.000   \n",
            "2            CAN       20000.0            1  2012-01-16 00:00:00.000   \n",
            "3            CAN       15000.0            1  2012-01-16 00:00:00.000   \n",
            "4            CAN       20000.0            2  2012-01-30 00:00:00.000   \n",
            "\n",
            "     CuotaFechaCancelacion MontoCuota  MontoCapital SaldoCapital EstatusCuota  \\\n",
            "0  2012-01-16 10:04:10.000    1075.86         800.0          0.0            C   \n",
            "1  2012-01-16 11:33:11.000     400.69         280.0          0.0            C   \n",
            "2  2012-01-16 10:04:41.000    1075.86         800.0          0.0            C   \n",
            "3  2012-01-16 10:04:10.000     806.90         600.0          0.0            C   \n",
            "4  2012-01-30 10:56:22.000    1075.86         800.0          0.0            C   \n",
            "\n",
            "   DiasAtraso  \n",
            "0         0.0  \n",
            "1         0.0  \n",
            "2         0.0  \n",
            "3         0.0  \n",
            "4         0.0  \n",
            "\n",
            "[5 rows x 28 columns]\n"
          ]
        }
      ]
    },
    {
      "cell_type": "code",
      "source": [
        "grupal_df.dtypes"
      ],
      "metadata": {
        "colab": {
          "base_uri": "https://localhost:8080/"
        },
        "id": "vVF-8APiJX4O",
        "outputId": "c5890b57-91d8-45b0-9e4d-09a398d8ac21"
      },
      "execution_count": 33,
      "outputs": [
        {
          "output_type": "execute_result",
          "data": {
            "text/plain": [
              "IdCliente                  int64\n",
              "FechaAltaCliente          object\n",
              "CodigoGrupo                int64\n",
              "EdadCliente                int64\n",
              "Genero                    object\n",
              "EstadoCivil                int64\n",
              "Escolaridad               object\n",
              "CapacidadPago            float64\n",
              "Localidad                  int64\n",
              "CodigoSucursal             int64\n",
              "CodigoASesor              object\n",
              "NumeroCredito              int64\n",
              "CicloCliente               int64\n",
              "FechaDesembolso           object\n",
              "FechaVencimiento          object\n",
              "FechaCancelacion          object\n",
              "Plazo                      int64\n",
              "PeriodoPago               object\n",
              "EstatusCredito            object\n",
              "MontoCredito             float64\n",
              "CuotaNumero                int64\n",
              "CuotaFechaVencimiento     object\n",
              "CuotaFechaCancelacion     object\n",
              "MontoCuota               float64\n",
              "MontoCapital             float64\n",
              "SaldoCapital             float64\n",
              "EstatusCuota              object\n",
              "DiasAtraso               float64\n",
              "dtype: object"
            ]
          },
          "metadata": {},
          "execution_count": 33
        }
      ]
    },
    {
      "cell_type": "code",
      "source": [
        "grupal_df.info()"
      ],
      "metadata": {
        "colab": {
          "base_uri": "https://localhost:8080/"
        },
        "id": "eSsFsgolKJlJ",
        "outputId": "b56f9b8c-ad7c-41ed-d1f2-bc3241dbc6c1"
      },
      "execution_count": 34,
      "outputs": [
        {
          "output_type": "stream",
          "name": "stdout",
          "text": [
            "<class 'pandas.core.frame.DataFrame'>\n",
            "Int64Index: 4382214 entries, 0 to 127676\n",
            "Data columns (total 28 columns):\n",
            " #   Column                 Dtype  \n",
            "---  ------                 -----  \n",
            " 0   IdCliente              int64  \n",
            " 1   FechaAltaCliente       object \n",
            " 2   CodigoGrupo            int64  \n",
            " 3   EdadCliente            int64  \n",
            " 4   Genero                 object \n",
            " 5   EstadoCivil            int64  \n",
            " 6   Escolaridad            object \n",
            " 7   CapacidadPago          float64\n",
            " 8   Localidad              int64  \n",
            " 9   CodigoSucursal         int64  \n",
            " 10  CodigoASesor           object \n",
            " 11  NumeroCredito          int64  \n",
            " 12  CicloCliente           int64  \n",
            " 13  FechaDesembolso        object \n",
            " 14  FechaVencimiento       object \n",
            " 15  FechaCancelacion       object \n",
            " 16  Plazo                  int64  \n",
            " 17  PeriodoPago            object \n",
            " 18  EstatusCredito         object \n",
            " 19  MontoCredito           float64\n",
            " 20  CuotaNumero            int64  \n",
            " 21  CuotaFechaVencimiento  object \n",
            " 22  CuotaFechaCancelacion  object \n",
            " 23  MontoCuota             float64\n",
            " 24  MontoCapital           float64\n",
            " 25  SaldoCapital           float64\n",
            " 26  EstatusCuota           object \n",
            " 27  DiasAtraso             float64\n",
            "dtypes: float64(6), int64(10), object(12)\n",
            "memory usage: 969.6+ MB\n"
          ]
        }
      ]
    },
    {
      "cell_type": "code",
      "source": [
        "grupal_df.isnull().values.any()"
      ],
      "metadata": {
        "colab": {
          "base_uri": "https://localhost:8080/"
        },
        "id": "EXcXtRRaKaKm",
        "outputId": "1ac36e81-6138-4348-f6d8-9419b945a59a"
      },
      "execution_count": 35,
      "outputs": [
        {
          "output_type": "execute_result",
          "data": {
            "text/plain": [
              "True"
            ]
          },
          "metadata": {},
          "execution_count": 35
        }
      ]
    },
    {
      "cell_type": "code",
      "source": [],
      "metadata": {
        "id": "7-Am5HWKYUCO"
      },
      "execution_count": null,
      "outputs": []
    }
  ]
}