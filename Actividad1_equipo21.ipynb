{
  "nbformat": 4,
  "nbformat_minor": 0,
  "metadata": {
    "colab": {
      "provenance": [],
      "mount_file_id": "1yMF_YmL_-qM0j9LDvF8X4-uG-jlPyavh",
      "authorship_tag": "ABX9TyMWTbpq4Uf4w1JrnVrSFz7e",
      "include_colab_link": true
    },
    "kernelspec": {
      "name": "python3",
      "display_name": "Python 3"
    },
    "language_info": {
      "name": "python"
    }
  },
  "cells": [
    {
      "cell_type": "markdown",
      "metadata": {
        "id": "view-in-github",
        "colab_type": "text"
      },
      "source": [
        "<a href=\"https://colab.research.google.com/github/bmijangos/ProyectoIntegrador/blob/main/Actividad1_equipo21.ipynb\" target=\"_parent\"><img src=\"https://colab.research.google.com/assets/colab-badge.svg\" alt=\"Open In Colab\"/></a>"
      ]
    },
    {
      "cell_type": "code",
      "execution_count": 1,
      "metadata": {
        "colab": {
          "base_uri": "https://localhost:8080/"
        },
        "id": "oQW9dqxBCoj5",
        "outputId": "9d76d280-35bb-4c27-b062-b61d4d7d42e4"
      },
      "outputs": [
        {
          "output_type": "stream",
          "name": "stdout",
          "text": [
            "Mounted at /content/drive\n"
          ]
        }
      ],
      "source": [
        "# conectamos al drive de google para la lectura de los archivos csv\n",
        "from google.colab import drive\n",
        "drive.mount('/content/drive')"
      ]
    },
    {
      "cell_type": "code",
      "source": [
        "import os\n",
        "import pandas as pd\n",
        "\n",
        "# Lectura de los archivos csv\n",
        "file_path = '/content/drive/MyDrive/DataSetProyecto/GrupalTodo.csv'\n",
        "\n",
        "label = [\"IdCliente\",\"FechaAltaCliente\",\"CodigoGrupo\",\"EdadCliente\",\"Genero\",\"EstadoCivil\",\"Escolaridad\",\"CapacidadPago\",\"Localidad\",\"CodigoSucursal\",\"CodigoASesor\",\"NumeroCredito\",\"CicloCliente\",\"FechaDesembolso\",\"FechaVencimiento\",\"FechaCancelacion\",\"Plazo\",\"PeriodoPago\",\"EstatusCredito\",\"MontoCredito\",\"CuotaNumero\",\"CuotaFechaVencimiento\",\"CuotaFechaCancelacion\",\"MontoCuota\",\"MontoCapital\",\"SaldoCapital\",\"EstatusCuota\",\"DiasAtraso\"]\n",
        "\n",
        "# Obtenemos el dataframe\n",
        "pagos_df = pd.read_csv(file_path, names=label)\n",
        "\n",
        "pagos_df.shape\n"
      ],
      "metadata": {
        "colab": {
          "base_uri": "https://localhost:8080/"
        },
        "id": "cryZp6GGEbmS",
        "outputId": "7782a4df-efea-4b0b-cf53-4bee57f88079"
      },
      "execution_count": 2,
      "outputs": [
        {
          "output_type": "execute_result",
          "data": {
            "text/plain": [
              "(4254537, 28)"
            ]
          },
          "metadata": {},
          "execution_count": 2
        }
      ]
    },
    {
      "cell_type": "code",
      "source": [
        "# Agregamos los datos del segundo archivo de castigos\n",
        "file_path = '/content/drive/MyDrive/DataSetProyecto/GrupalTodoCastigos.csv'\n",
        "\n",
        "castigos_df = pd.read_csv(file_path)\n",
        "\n",
        "castigos_df.shape"
      ],
      "metadata": {
        "colab": {
          "base_uri": "https://localhost:8080/"
        },
        "id": "wSutp6k-czNC",
        "outputId": "07b0b2a7-e976-45ce-aa0d-47efd01799bc"
      },
      "execution_count": 3,
      "outputs": [
        {
          "output_type": "execute_result",
          "data": {
            "text/plain": [
              "(127677, 28)"
            ]
          },
          "metadata": {},
          "execution_count": 3
        }
      ]
    },
    {
      "cell_type": "code",
      "source": [
        "# unimos los dos dataframes en uno solo\n",
        "grupal_df = pd.concat([pagos_df, castigos_df], axis=0)"
      ],
      "metadata": {
        "id": "biWyBf3adLOg"
      },
      "execution_count": 4,
      "outputs": []
    },
    {
      "cell_type": "code",
      "source": [
        "grupal_df.shape"
      ],
      "metadata": {
        "colab": {
          "base_uri": "https://localhost:8080/"
        },
        "id": "mhSCapJpdtSS",
        "outputId": "1c982587-799d-46af-b132-4b28f3a7661d"
      },
      "execution_count": 5,
      "outputs": [
        {
          "output_type": "execute_result",
          "data": {
            "text/plain": [
              "(4382214, 28)"
            ]
          },
          "metadata": {},
          "execution_count": 5
        }
      ]
    },
    {
      "cell_type": "code",
      "source": [
        "grupal_df.dtypes"
      ],
      "metadata": {
        "colab": {
          "base_uri": "https://localhost:8080/"
        },
        "id": "vVF-8APiJX4O",
        "outputId": "d587768c-f12f-4734-c1ad-877f00de4e87"
      },
      "execution_count": 8,
      "outputs": [
        {
          "output_type": "execute_result",
          "data": {
            "text/plain": [
              "IdCliente                  int64\n",
              "FechaAltaCliente          object\n",
              "CodigoGrupo                int64\n",
              "EdadCliente                int64\n",
              "Genero                    object\n",
              "EstadoCivil                int64\n",
              "Escolaridad               object\n",
              "CapacidadPago            float64\n",
              "Localidad                  int64\n",
              "CodigoSucursal             int64\n",
              "CodigoASesor              object\n",
              "NumeroCredito              int64\n",
              "CicloCliente               int64\n",
              "FechaDesembolso           object\n",
              "FechaVencimiento          object\n",
              "FechaCancelacion          object\n",
              "Plazo                      int64\n",
              "PeriodoPago               object\n",
              "EstatusCredito            object\n",
              "MontoCredito             float64\n",
              "CuotaNumero                int64\n",
              "CuotaFechaVencimiento     object\n",
              "CuotaFechaCancelacion     object\n",
              "MontoCuota               float64\n",
              "MontoCapital             float64\n",
              "SaldoCapital             float64\n",
              "EstatusCuota              object\n",
              "DiasAtraso               float64\n",
              "dtype: object"
            ]
          },
          "metadata": {},
          "execution_count": 8
        }
      ]
    },
    {
      "cell_type": "code",
      "source": [
        "grupal_df.info()"
      ],
      "metadata": {
        "colab": {
          "base_uri": "https://localhost:8080/"
        },
        "id": "eSsFsgolKJlJ",
        "outputId": "774bec06-528f-41c8-edb3-780668d87ac8"
      },
      "execution_count": 9,
      "outputs": [
        {
          "output_type": "stream",
          "name": "stdout",
          "text": [
            "<class 'pandas.core.frame.DataFrame'>\n",
            "Index: 4382214 entries, 0 to 127676\n",
            "Data columns (total 28 columns):\n",
            " #   Column                 Dtype  \n",
            "---  ------                 -----  \n",
            " 0   IdCliente              int64  \n",
            " 1   FechaAltaCliente       object \n",
            " 2   CodigoGrupo            int64  \n",
            " 3   EdadCliente            int64  \n",
            " 4   Genero                 object \n",
            " 5   EstadoCivil            int64  \n",
            " 6   Escolaridad            object \n",
            " 7   CapacidadPago          float64\n",
            " 8   Localidad              int64  \n",
            " 9   CodigoSucursal         int64  \n",
            " 10  CodigoASesor           object \n",
            " 11  NumeroCredito          int64  \n",
            " 12  CicloCliente           int64  \n",
            " 13  FechaDesembolso        object \n",
            " 14  FechaVencimiento       object \n",
            " 15  FechaCancelacion       object \n",
            " 16  Plazo                  int64  \n",
            " 17  PeriodoPago            object \n",
            " 18  EstatusCredito         object \n",
            " 19  MontoCredito           float64\n",
            " 20  CuotaNumero            int64  \n",
            " 21  CuotaFechaVencimiento  object \n",
            " 22  CuotaFechaCancelacion  object \n",
            " 23  MontoCuota             float64\n",
            " 24  MontoCapital           float64\n",
            " 25  SaldoCapital           float64\n",
            " 26  EstatusCuota           object \n",
            " 27  DiasAtraso             float64\n",
            "dtypes: float64(6), int64(10), object(12)\n",
            "memory usage: 969.6+ MB\n"
          ]
        }
      ]
    },
    {
      "cell_type": "markdown",
      "source": [
        "¿Hay valores faltantes en el conjunto de datos?\n",
        "Si existen valores nulos los cuales representan menos del 0.01 porciento del total de la base de datos por lo que se decide eliminar\n",
        "\n",
        "¿Se pueden identificar patrones de ausencia?\n",
        "Se decide eliminar los registros faltantes por no ser representativo para la muestra\n"
      ],
      "metadata": {
        "id": "dGZHDLoDWBCK"
      }
    },
    {
      "cell_type": "code",
      "source": [
        "grupal_df.isnull().values.any()"
      ],
      "metadata": {
        "colab": {
          "base_uri": "https://localhost:8080/"
        },
        "id": "EXcXtRRaKaKm",
        "outputId": "2d7a26bf-9e96-414c-f4b8-bef36ea69732"
      },
      "execution_count": 18,
      "outputs": [
        {
          "output_type": "execute_result",
          "data": {
            "text/plain": [
              "True"
            ]
          },
          "metadata": {},
          "execution_count": 18
        }
      ]
    },
    {
      "cell_type": "code",
      "source": [
        "grupal_df.isnull().sum()"
      ],
      "metadata": {
        "id": "7-Am5HWKYUCO",
        "outputId": "3e7e6972-14de-4ce9-842e-aaab13a860d1",
        "colab": {
          "base_uri": "https://localhost:8080/"
        }
      },
      "execution_count": 27,
      "outputs": [
        {
          "output_type": "execute_result",
          "data": {
            "text/plain": [
              "IdCliente                   0\n",
              "FechaAltaCliente            0\n",
              "CodigoGrupo                 0\n",
              "EdadCliente                 0\n",
              "Genero                      0\n",
              "EstadoCivil                 0\n",
              "Escolaridad              1243\n",
              "CapacidadPago               0\n",
              "Localidad                   0\n",
              "CodigoSucursal              0\n",
              "CodigoASesor                0\n",
              "NumeroCredito               0\n",
              "CicloCliente                0\n",
              "FechaDesembolso             0\n",
              "FechaVencimiento            0\n",
              "FechaCancelacion            0\n",
              "Plazo                       0\n",
              "PeriodoPago                 0\n",
              "EstatusCredito              0\n",
              "MontoCredito                0\n",
              "CuotaNumero                 0\n",
              "CuotaFechaVencimiento       0\n",
              "CuotaFechaCancelacion     128\n",
              "MontoCuota                  0\n",
              "MontoCapital                0\n",
              "SaldoCapital                0\n",
              "EstatusCuota                0\n",
              "DiasAtraso                128\n",
              "dtype: int64"
            ]
          },
          "metadata": {},
          "execution_count": 27
        }
      ]
    },
    {
      "cell_type": "code",
      "source": [
        "# eliminamos los valores nullo\n",
        "gpdf = grupal_df.dropna()"
      ],
      "metadata": {
        "id": "R2E-NNbeR0un"
      },
      "execution_count": 41,
      "outputs": []
    },
    {
      "cell_type": "code",
      "source": [
        "gpdf.isnull().values.any()"
      ],
      "metadata": {
        "id": "84QHq8A7Z_zN",
        "outputId": "e88ef820-35d7-470e-e30f-3e6db9a3bd66",
        "colab": {
          "base_uri": "https://localhost:8080/"
        }
      },
      "execution_count": 42,
      "outputs": [
        {
          "output_type": "execute_result",
          "data": {
            "text/plain": [
              "False"
            ]
          },
          "metadata": {},
          "execution_count": 42
        }
      ]
    },
    {
      "cell_type": "markdown",
      "source": [
        "¿Cuáles son las estadísticas resumidas del conjunto de datos?"
      ],
      "metadata": {
        "id": "ysOMN7OIXmLL"
      }
    },
    {
      "cell_type": "code",
      "source": [
        "print(gpdf.head())"
      ],
      "metadata": {
        "id": "zSHPUnHEdW_t",
        "outputId": "2ce8afed-55f0-4f96-a16f-18370d138db9",
        "colab": {
          "base_uri": "https://localhost:8080/"
        }
      },
      "execution_count": 44,
      "outputs": [
        {
          "output_type": "stream",
          "name": "stdout",
          "text": [
            "   IdCliente         FechaAltaCliente  CodigoGrupo  EdadCliente Genero  \\\n",
            "0        261  2004-02-16 00:00:00.000           56           40      F   \n",
            "1      30654  2004-02-01 00:00:00.000         1223           65      F   \n",
            "2        264  2004-02-16 00:00:00.000           57           68      F   \n",
            "3        263  2004-02-16 00:00:00.000           56           71      F   \n",
            "4        261  2004-02-16 00:00:00.000           56           40      F   \n",
            "\n",
            "   EstadoCivil Escolaridad  CapacidadPago  Localidad  CodigoSucursal  ...  \\\n",
            "0            2          1A            0.0       7181               1  ...   \n",
            "1            3          7A            0.0       7086               1  ...   \n",
            "2            5          7A            0.0       7181               1  ...   \n",
            "3            5          7A            0.0       7181               1  ...   \n",
            "4            2          1A            0.0       7181               1  ...   \n",
            "\n",
            "  EstatusCredito  MontoCredito  CuotaNumero    CuotaFechaVencimiento  \\\n",
            "0            CAN       20000.0            1  2012-01-16 00:00:00.000   \n",
            "1            CAN        7000.0            1  2012-01-16 00:00:00.000   \n",
            "2            CAN       20000.0            1  2012-01-16 00:00:00.000   \n",
            "3            CAN       15000.0            1  2012-01-16 00:00:00.000   \n",
            "4            CAN       20000.0            2  2012-01-30 00:00:00.000   \n",
            "\n",
            "     CuotaFechaCancelacion MontoCuota  MontoCapital SaldoCapital EstatusCuota  \\\n",
            "0  2012-01-16 10:04:10.000    1075.86         800.0          0.0            C   \n",
            "1  2012-01-16 11:33:11.000     400.69         280.0          0.0            C   \n",
            "2  2012-01-16 10:04:41.000    1075.86         800.0          0.0            C   \n",
            "3  2012-01-16 10:04:10.000     806.90         600.0          0.0            C   \n",
            "4  2012-01-30 10:56:22.000    1075.86         800.0          0.0            C   \n",
            "\n",
            "   DiasAtraso  \n",
            "0         0.0  \n",
            "1         0.0  \n",
            "2         0.0  \n",
            "3         0.0  \n",
            "4         0.0  \n",
            "\n",
            "[5 rows x 28 columns]\n"
          ]
        }
      ]
    },
    {
      "cell_type": "code",
      "source": [
        "gpdf.describe()"
      ],
      "metadata": {
        "id": "C703AVaWZvrY",
        "outputId": "0927909b-0604-4186-ea62-6cc4f37f6e1c",
        "colab": {
          "base_uri": "https://localhost:8080/",
          "height": 141
        }
      },
      "execution_count": 1,
      "outputs": [
        {
          "output_type": "error",
          "ename": "NameError",
          "evalue": "name 'gpdf' is not defined",
          "traceback": [
            "\u001b[0;31m---------------------------------------------------------------------------\u001b[0m",
            "\u001b[0;31mNameError\u001b[0m                                 Traceback (most recent call last)",
            "\u001b[0;32m<ipython-input-1-e3529f74c2e9>\u001b[0m in \u001b[0;36m<cell line: 1>\u001b[0;34m()\u001b[0m\n\u001b[0;32m----> 1\u001b[0;31m \u001b[0mgpdf\u001b[0m\u001b[0;34m.\u001b[0m\u001b[0mdescribe\u001b[0m\u001b[0;34m(\u001b[0m\u001b[0;34m)\u001b[0m\u001b[0;34m\u001b[0m\u001b[0;34m\u001b[0m\u001b[0m\n\u001b[0m",
            "\u001b[0;31mNameError\u001b[0m: name 'gpdf' is not defined"
          ]
        }
      ]
    },
    {
      "cell_type": "code",
      "source": [],
      "metadata": {
        "id": "dQYFB_f2eM1X"
      },
      "execution_count": null,
      "outputs": []
    }
  ]
}