{
  "cells": [
    {
      "cell_type": "markdown",
      "metadata": {
        "id": "view-in-github",
        "colab_type": "text"
      },
      "source": [
        "<a href=\"https://colab.research.google.com/github/vallesda/proyecto-integrador-2024/blob/main/Avance4_Equipo21.ipynb\" target=\"_parent\"><img src=\"https://colab.research.google.com/assets/colab-badge.svg\" alt=\"Open In Colab\"/></a>"
      ]
    },
    {
      "cell_type": "markdown",
      "metadata": {
        "id": "QrCr0JiVIrHc"
      },
      "source": [
        "#**Tecnológico de Monterrey**\n",
        "\n",
        "# **Proyecto Integrador**\n",
        "## Avance 4\n",
        "## Baseline\n",
        "###Dra. Grettel Barceló Alonso\n",
        "###EQUIPO 21\n",
        "###Bernardo Mijango Flores - A01793654\n",
        "###Dalia Isabel López Tapia - A01245026\n",
        "###David Valles Canedo - A01191310\n",
        "19 de mayo de 2024"
      ]
    },
    {
      "cell_type": "markdown",
      "metadata": {
        "id": "Kt_MYO-kSpx3"
      },
      "source": [
        "# Importaciones, Funciones, Dependencias y Pasos Iniciales"
      ]
    },
    {
      "cell_type": "code",
      "source": [
        "!pip install --upgrade nbformat nbconvert"
      ],
      "metadata": {
        "colab": {
          "base_uri": "https://localhost:8080/"
        },
        "id": "z4QOlAUWSrAW",
        "outputId": "8f105316-f2fa-4c4e-f131-db7f5e14c7fb"
      },
      "execution_count": null,
      "outputs": [
        {
          "output_type": "stream",
          "name": "stdout",
          "text": [
            "Requirement already satisfied: nbformat in /usr/local/lib/python3.10/dist-packages (5.10.4)\n",
            "Requirement already satisfied: nbconvert in /usr/local/lib/python3.10/dist-packages (7.16.4)\n",
            "Requirement already satisfied: fastjsonschema>=2.15 in /usr/local/lib/python3.10/dist-packages (from nbformat) (2.19.1)\n",
            "Requirement already satisfied: jsonschema>=2.6 in /usr/local/lib/python3.10/dist-packages (from nbformat) (4.19.2)\n",
            "Requirement already satisfied: jupyter-core!=5.0.*,>=4.12 in /usr/local/lib/python3.10/dist-packages (from nbformat) (5.7.2)\n",
            "Requirement already satisfied: traitlets>=5.1 in /usr/local/lib/python3.10/dist-packages (from nbformat) (5.7.1)\n",
            "Requirement already satisfied: beautifulsoup4 in /usr/local/lib/python3.10/dist-packages (from nbconvert) (4.12.3)\n",
            "Requirement already satisfied: bleach!=5.0.0 in /usr/local/lib/python3.10/dist-packages (from nbconvert) (6.1.0)\n",
            "Requirement already satisfied: defusedxml in /usr/local/lib/python3.10/dist-packages (from nbconvert) (0.7.1)\n",
            "Requirement already satisfied: jinja2>=3.0 in /usr/local/lib/python3.10/dist-packages (from nbconvert) (3.1.4)\n",
            "Requirement already satisfied: jupyterlab-pygments in /usr/local/lib/python3.10/dist-packages (from nbconvert) (0.3.0)\n",
            "Requirement already satisfied: markupsafe>=2.0 in /usr/local/lib/python3.10/dist-packages (from nbconvert) (2.1.5)\n",
            "Requirement already satisfied: mistune<4,>=2.0.3 in /usr/local/lib/python3.10/dist-packages (from nbconvert) (3.0.2)\n",
            "Requirement already satisfied: nbclient>=0.5.0 in /usr/local/lib/python3.10/dist-packages (from nbconvert) (0.10.0)\n",
            "Requirement already satisfied: packaging in /usr/local/lib/python3.10/dist-packages (from nbconvert) (24.0)\n",
            "Requirement already satisfied: pandocfilters>=1.4.1 in /usr/local/lib/python3.10/dist-packages (from nbconvert) (1.5.1)\n",
            "Requirement already satisfied: pygments>=2.4.1 in /usr/local/lib/python3.10/dist-packages (from nbconvert) (2.16.1)\n",
            "Requirement already satisfied: tinycss2 in /usr/local/lib/python3.10/dist-packages (from nbconvert) (1.3.0)\n",
            "Requirement already satisfied: six>=1.9.0 in /usr/local/lib/python3.10/dist-packages (from bleach!=5.0.0->nbconvert) (1.16.0)\n",
            "Requirement already satisfied: webencodings in /usr/local/lib/python3.10/dist-packages (from bleach!=5.0.0->nbconvert) (0.5.1)\n",
            "Requirement already satisfied: attrs>=22.2.0 in /usr/local/lib/python3.10/dist-packages (from jsonschema>=2.6->nbformat) (23.2.0)\n",
            "Requirement already satisfied: jsonschema-specifications>=2023.03.6 in /usr/local/lib/python3.10/dist-packages (from jsonschema>=2.6->nbformat) (2023.12.1)\n",
            "Requirement already satisfied: referencing>=0.28.4 in /usr/local/lib/python3.10/dist-packages (from jsonschema>=2.6->nbformat) (0.35.1)\n",
            "Requirement already satisfied: rpds-py>=0.7.1 in /usr/local/lib/python3.10/dist-packages (from jsonschema>=2.6->nbformat) (0.18.1)\n",
            "Requirement already satisfied: platformdirs>=2.5 in /usr/local/lib/python3.10/dist-packages (from jupyter-core!=5.0.*,>=4.12->nbformat) (4.2.1)\n",
            "Requirement already satisfied: jupyter-client>=6.1.12 in /usr/local/lib/python3.10/dist-packages (from nbclient>=0.5.0->nbconvert) (6.1.12)\n",
            "Requirement already satisfied: soupsieve>1.2 in /usr/local/lib/python3.10/dist-packages (from beautifulsoup4->nbconvert) (2.5)\n",
            "Requirement already satisfied: pyzmq>=13 in /usr/local/lib/python3.10/dist-packages (from jupyter-client>=6.1.12->nbclient>=0.5.0->nbconvert) (24.0.1)\n",
            "Requirement already satisfied: python-dateutil>=2.1 in /usr/local/lib/python3.10/dist-packages (from jupyter-client>=6.1.12->nbclient>=0.5.0->nbconvert) (2.8.2)\n",
            "Requirement already satisfied: tornado>=4.1 in /usr/local/lib/python3.10/dist-packages (from jupyter-client>=6.1.12->nbclient>=0.5.0->nbconvert) (6.3.3)\n"
          ]
        }
      ]
    },
    {
      "cell_type": "code",
      "execution_count": null,
      "metadata": {
        "colab": {
          "base_uri": "https://localhost:8080/"
        },
        "id": "EfSJoeGsI_Er",
        "outputId": "d9a863b5-5121-426b-de18-cea6d8f3c688"
      },
      "outputs": [
        {
          "output_type": "stream",
          "name": "stdout",
          "text": [
            "Drive already mounted at /content/drive; to attempt to forcibly remount, call drive.mount(\"/content/drive\", force_remount=True).\n"
          ]
        }
      ],
      "source": [
        "# conectamos al drive de google para la lectura de los archivos csv\n",
        "from google.colab import drive\n",
        "drive.mount('/content/drive')"
      ]
    },
    {
      "cell_type": "code",
      "execution_count": null,
      "metadata": {
        "id": "CqsusnODJGEE"
      },
      "outputs": [],
      "source": [
        "import os\n",
        "import pandas as pd\n",
        "import matplotlib.pyplot as plt\n",
        "import numpy as np\n",
        "import seaborn as sns   # para un mejor despliegue de los gráficos\n",
        "\n",
        "from sklearn.pipeline import Pipeline\n",
        "from sklearn.preprocessing import StandardScaler, LabelEncoder, OneHotEncoder\n",
        "from sklearn.decomposition import PCA\n",
        "from sklearn.feature_selection import VarianceThreshold\n",
        "from sklearn.compose import ColumnTransformer\n",
        "from sklearn.feature_selection import SelectKBest\n",
        "from sklearn.feature_selection import f_regression\n",
        "from sklearn.metrics import confusion_matrix\n",
        "from sklearn.metrics import accuracy_score  # Importar accuracy_score desde sklearn.metrics\n",
        "\n",
        "from sklearn.model_selection import train_test_split\n",
        "from sklearn.impute import SimpleImputer\n",
        "\n",
        "#Las siguientes librerías son los modelos que voy a entrenar y el método de validación cruzada k-fold\n",
        "from sklearn.linear_model import LogisticRegression\n",
        "from sklearn.tree import DecisionTreeClassifier\n",
        "from sklearn.ensemble import RandomForestClassifier\n",
        "from sklearn.neighbors import KNeighborsClassifier\n",
        "from sklearn import tree  # para el grafico de arbol de decision\n",
        "from IPython.display import Image\n",
        "\n",
        "import scipy.cluster.hierarchy as sch   # requerimos el módulo referente a la agrupamiento jerárquico.\n",
        "from sklearn.cluster import AgglomerativeClustering    # usaremos la técnica de agrupamiento llamada aglomerativa\n"
      ]
    },
    {
      "cell_type": "code",
      "execution_count": null,
      "metadata": {
        "id": "W_Lh-ZYK-1zf"
      },
      "outputs": [],
      "source": [
        "# función para mostrar un diagrama de caja encima de un histograma\n",
        "def plot_boxplot_hist(data, variable):\n",
        "  f,(ax_box, ax_hist) = plt.subplots(2,\n",
        "                                     sharex=True,\n",
        "                                     gridspec_kw={\"height_ratios\":(0.50,0.85)})\n",
        "  sns.boxplot(x=data[variable],ax=ax_box)\n",
        "  sns.histplot(data=data, x=variable, ax=ax_hist)\n",
        "  ax_box.set(xlabel=\"\")\n",
        "  plt.title(variable)\n",
        "  plt.show()\n"
      ]
    },
    {
      "cell_type": "code",
      "execution_count": null,
      "metadata": {
        "id": "1cK8_eS4C1Y2"
      },
      "outputs": [],
      "source": [
        "# función para encontrar los límites de una distribución variable usando la regla de proximidad del rango intercuartil:\n",
        "\n",
        "def find_limits(df,variable,fold):\n",
        "  IQR = df[variable].quantile(0.75)-df[variable].quantile(0.25)\n",
        "  lower_limit = df[variable].quantile(0.25)-(IQR * fold)\n",
        "  upper_limit = df[variable].quantile(0.75)+(IQR * fold)\n",
        "  return lower_limit, upper_limit"
      ]
    },
    {
      "cell_type": "code",
      "source": [
        "def get_models():\n",
        "\n",
        "    models = list()\n",
        "    names = list()\n",
        "\n",
        "    # LR - Regresión Logística:\n",
        "    models.append(LogisticRegression(solver='liblinear'))\n",
        "    names.append('Logistic Regression')\n",
        "\n",
        "    # DT - Árbol de Decisión:\n",
        "    models.append(DecisionTreeClassifier())\n",
        "    names.append('Decision Tree')\n",
        "\n",
        "    # RFC - Random forest classifier\n",
        "    models.append(RandomForestClassifier())\n",
        "    names.append('Random Forest Classifier')\n",
        "\n",
        "    return models, names"
      ],
      "metadata": {
        "id": "0A599O6KJAzl"
      },
      "execution_count": null,
      "outputs": []
    },
    {
      "cell_type": "code",
      "source": [
        "def mi_accuracy (y_real, y_pred):\n",
        "  VN, FP, FN, VP = confusion_matrix(y_real, y_pred).ravel()\n",
        "  mi_accuracy = (VP + VN) / (VP + VN + FP + FN)\n",
        "  return mi_accuracy\n",
        "\n",
        "def mi_precision (y_real, y_pred):\n",
        "  VN, FP, FN, VP = confusion_matrix(y_real, y_pred).ravel()\n",
        "  mi_precision = VP / (VP + FP)\n",
        "  return mi_precision\n",
        "\n",
        "def mi_recall (y_real, y_pred):\n",
        "  VN, FP, FN, VP = confusion_matrix(y_real, y_pred).ravel()\n",
        "  mi_recall = VP / (VP + FN)\n",
        "  return mi_recall\n",
        "\n",
        "def mi_f1_score (y_real, y_pred):\n",
        "  VN, FP, FN, VP = confusion_matrix(y_real, y_pred).ravel()\n",
        "  mi_f1_score = (2*VP) / (2*VP + FP + FN)\n",
        "  return mi_f1_score\n",
        "\n",
        "def mi_G_mean (y_real, y_pred):\n",
        "  VN, FP, FN, VP = confusion_matrix(y_real, y_pred).ravel()\n",
        "  mi_G_mean = np.sqrt((VP / (VP + FN))*(VN / (VN + FP)))\n",
        "  return mi_G_mean"
      ],
      "metadata": {
        "id": "4Lf5RMx-Jrxf"
      },
      "execution_count": null,
      "outputs": []
    },
    {
      "cell_type": "code",
      "source": [
        "def plot_roc(fpr_svc, tpr_svc, roc_auc_svc):\n",
        "  plt.figure()\n",
        "  plt.plot(fpr_svc, tpr_svc, color='darkorange', lw=2, label='ROC curve (area = %0.2f)' % roc_auc_svc)\n",
        "  plt.plot([0, 1], [0, 1], color='navy', lw=2, linestyle='--')\n",
        "  plt.xlim([0.0, 1.0])\n",
        "  plt.ylim([0.0, 1.05])\n",
        "  plt.xlabel('False Positive Rate')\n",
        "  plt.ylabel('True Positive Rate')\n",
        "  plt.title('Receiver Operating Characteristic')\n",
        "  plt.legend(loc=\"lower right\")\n",
        "  plt.show()"
      ],
      "metadata": {
        "id": "eLygO1BzB-3I"
      },
      "execution_count": null,
      "outputs": []
    },
    {
      "cell_type": "code",
      "source": [
        "def calculate_print_metrics(model, y_test, y_pred):\n",
        "  accuracy = accuracy_score(y_test, y_pred)\n",
        "  precision = precision_score(y_test, y_pred, pos_label='CAN')\n",
        "  recall = recall_score(y_test, y_pred, pos_label='CAN')\n",
        "  f1 = f1_score(y_test, y_pred, pos_label='CAN')\n",
        "  confusion_matrixs = confusion_matrix(y_test, y_pred)\n",
        "\n",
        "  print(model)\n",
        "  print(\"Accuracy:\", accuracy)\n",
        "  print(\"Precision:\", precision)\n",
        "  print(\"Recall:\", recall)\n",
        "  print(\"F1-Score:\", f1)\n",
        "  print(\"Confusion Matrix:\\n\", confusion_matrixs)"
      ],
      "metadata": {
        "id": "qt72C8GlzLjV"
      },
      "execution_count": null,
      "outputs": []
    },
    {
      "cell_type": "markdown",
      "source": [
        "# Lectura de los datos"
      ],
      "metadata": {
        "id": "biAgacCO6w6v"
      }
    },
    {
      "cell_type": "markdown",
      "metadata": {
        "id": "ZdCRuqnJW1vW"
      },
      "source": [
        "Se realizo una corrección en la consulta de la base de datos para obtener la edad del cliente al momento del desembolso del crédito, en el avance 1 nos dimos cuenta de este error, además se agregaron los castigos en el mismo archivo dando un total de 4,382,214 registros resultado de los 4,254,537 del archivo de pagos mas 127,677 del archivo de castigos"
      ]
    },
    {
      "cell_type": "code",
      "execution_count": null,
      "metadata": {
        "colab": {
          "base_uri": "https://localhost:8080/"
        },
        "id": "eBsDSw1bKzhK",
        "outputId": "b7c8dc9f-9f29-4749-af27-3b768e3cf1fc"
      },
      "outputs": [
        {
          "output_type": "execute_result",
          "data": {
            "text/plain": [
              "(4382214, 28)"
            ]
          },
          "metadata": {},
          "execution_count": 10
        }
      ],
      "source": [
        "# Lectura de los archivos csv\n",
        "file_path = '/content/drive/MyDrive/DataSetProyecto/GrupalTodoCorregido.csv'\n",
        "\n",
        "label = [\"IdCliente\",\"FechaAltaCliente\",\"CodigoGrupo\",\"EdadCliente\",\"Genero\",\"EstadoCivil\",\"Escolaridad\",\"CapacidadPago\",\"Localidad\",\"CodigoSucursal\",\"CodigoASesor\",\"NumeroCredito\",\"CicloCliente\",\"FechaDesembolso\",\"FechaVencimiento\",\"FechaCancelacion\",\"Plazo\",\"PeriodoPago\",\"EstatusCredito\",\"MontoCredito\",\"CuotaNumero\",\"CuotaFechaVencimiento\",\"CuotaFechaCancelacion\",\"MontoCuota\",\"MontoCapital\",\"SaldoCapital\",\"EstatusCuota\",\"DiasAtraso\"]\n",
        "\n",
        "# Obtenemos el dataframe\n",
        "grupal_df = pd.read_csv(file_path, names=label)\n",
        "\n",
        "grupal_df.shape"
      ]
    },
    {
      "cell_type": "code",
      "execution_count": null,
      "metadata": {
        "colab": {
          "base_uri": "https://localhost:8080/"
        },
        "id": "mO1ea5OBNyYj",
        "outputId": "1ee76e4e-5498-4416-9839-f031b7f75f1f"
      },
      "outputs": [
        {
          "output_type": "execute_result",
          "data": {
            "text/plain": [
              "IdCliente                   0\n",
              "FechaAltaCliente            0\n",
              "CodigoGrupo                 0\n",
              "EdadCliente                 0\n",
              "Genero                      0\n",
              "EstadoCivil                 0\n",
              "Escolaridad              1243\n",
              "CapacidadPago               0\n",
              "Localidad                   0\n",
              "CodigoSucursal              0\n",
              "CodigoASesor                0\n",
              "NumeroCredito               0\n",
              "CicloCliente                0\n",
              "FechaDesembolso             0\n",
              "FechaVencimiento            0\n",
              "FechaCancelacion            0\n",
              "Plazo                       0\n",
              "PeriodoPago                 0\n",
              "EstatusCredito              0\n",
              "MontoCredito                0\n",
              "CuotaNumero                 0\n",
              "CuotaFechaVencimiento       0\n",
              "CuotaFechaCancelacion     128\n",
              "MontoCuota                  0\n",
              "MontoCapital                0\n",
              "SaldoCapital                0\n",
              "EstatusCuota                0\n",
              "DiasAtraso                128\n",
              "dtype: int64"
            ]
          },
          "metadata": {},
          "execution_count": 11
        }
      ],
      "source": [
        "grupal_df.isnull().sum()"
      ]
    },
    {
      "cell_type": "code",
      "execution_count": null,
      "metadata": {
        "colab": {
          "base_uri": "https://localhost:8080/"
        },
        "id": "T0bRo9D2a8i7",
        "outputId": "de0be0db-a933-4f95-fa0a-266964fb8b23"
      },
      "outputs": [
        {
          "output_type": "execute_result",
          "data": {
            "text/plain": [
              "Text(0.5, 1.0, 'Proporcion de datos faltantes por variable')"
            ]
          },
          "metadata": {},
          "execution_count": 12
        },
        {
          "output_type": "display_data",
          "data": {
            "text/plain": [
              "<Figure size 800x550 with 1 Axes>"
            ],
            "image/png": "[encoded data removed]"
          },
          "metadata": {}
        }
      ],
      "source": [
        "# visualizamos la proporcion de los datos faltantes\n",
        "\n",
        "with plt.style.context(\"seaborn\"):\n",
        "  grupal_df.isnull().mean().sort_values(ascending=False).plot.bar(rot=90)\n",
        "\n",
        "plt.ylabel(\"Proporcion de datos faltantes\")\n",
        "plt.title(\"Proporcion de datos faltantes por variable\")\n"
      ]
    },
    {
      "cell_type": "markdown",
      "metadata": {
        "id": "pGtQc6iSetVJ"
      },
      "source": [
        "Al ser un procentaje menor al 0.028 % se decide eliminarlos de la muestra"
      ]
    },
    {
      "cell_type": "code",
      "execution_count": null,
      "metadata": {
        "id": "CDUVh80uN18N"
      },
      "outputs": [],
      "source": [
        "# eliminamos los valores nulos\n",
        "gpdf = grupal_df.dropna()"
      ]
    },
    {
      "cell_type": "code",
      "execution_count": null,
      "metadata": {
        "colab": {
          "base_uri": "https://localhost:8080/"
        },
        "id": "XXIqYlpbfkLO",
        "outputId": "6f036518-616f-47d5-fd42-374717b309f1"
      },
      "outputs": [
        {
          "output_type": "execute_result",
          "data": {
            "text/plain": [
              "False"
            ]
          },
          "metadata": {},
          "execution_count": 14
        }
      ],
      "source": [
        "gpdf.isnull().values.any()"
      ]
    },
    {
      "cell_type": "code",
      "execution_count": null,
      "metadata": {
        "colab": {
          "base_uri": "https://localhost:8080/"
        },
        "id": "xXNdl2M0h4hA",
        "outputId": "b2fd79f7-618e-4298-9f3a-8ac7db945856"
      },
      "outputs": [
        {
          "output_type": "stream",
          "name": "stdout",
          "text": [
            "<class 'pandas.core.frame.DataFrame'>\n",
            "Index: 4380844 entries, 0 to 4382213\n",
            "Data columns (total 28 columns):\n",
            " #   Column                 Dtype  \n",
            "---  ------                 -----  \n",
            " 0   IdCliente              int64  \n",
            " 1   FechaAltaCliente       object \n",
            " 2   CodigoGrupo            int64  \n",
            " 3   EdadCliente            int64  \n",
            " 4   Genero                 object \n",
            " 5   EstadoCivil            int64  \n",
            " 6   Escolaridad            object \n",
            " 7   CapacidadPago          float64\n",
            " 8   Localidad              int64  \n",
            " 9   CodigoSucursal         int64  \n",
            " 10  CodigoASesor           object \n",
            " 11  NumeroCredito          int64  \n",
            " 12  CicloCliente           int64  \n",
            " 13  FechaDesembolso        object \n",
            " 14  FechaVencimiento       object \n",
            " 15  FechaCancelacion       object \n",
            " 16  Plazo                  int64  \n",
            " 17  PeriodoPago            object \n",
            " 18  EstatusCredito         object \n",
            " 19  MontoCredito           float64\n",
            " 20  CuotaNumero            int64  \n",
            " 21  CuotaFechaVencimiento  object \n",
            " 22  CuotaFechaCancelacion  object \n",
            " 23  MontoCuota             float64\n",
            " 24  MontoCapital           float64\n",
            " 25  SaldoCapital           float64\n",
            " 26  EstatusCuota           object \n",
            " 27  DiasAtraso             float64\n",
            "dtypes: float64(6), int64(10), object(12)\n",
            "memory usage: 969.3+ MB\n"
          ]
        }
      ],
      "source": [
        "gpdf.info()"
      ]
    },
    {
      "cell_type": "code",
      "execution_count": null,
      "metadata": {
        "colab": {
          "base_uri": "https://localhost:8080/"
        },
        "id": "HJRyqbEhi4kR",
        "outputId": "4b87fabb-2528-4192-a363-23a333a88f51"
      },
      "outputs": [
        {
          "output_type": "execute_result",
          "data": {
            "text/plain": [
              "(4380844, 28)"
            ]
          },
          "metadata": {},
          "execution_count": 16
        }
      ],
      "source": [
        "gpdf.shape"
      ]
    },
    {
      "cell_type": "code",
      "execution_count": null,
      "metadata": {
        "id": "j4kohN5sLNoI"
      },
      "outputs": [],
      "source": [
        "# Reemplazamos los valores negativos de la variable DiasAtraso por 0 ya que son pagos anticipados\n",
        "gpdf.loc[gpdf['DiasAtraso'] < 1,'DiasAtraso'] = 0\n"
      ]
    },
    {
      "cell_type": "code",
      "execution_count": null,
      "metadata": {
        "colab": {
          "base_uri": "https://localhost:8080/"
        },
        "id": "Peeop_uPg9UB",
        "outputId": "eccc3dc5-c851-4002-c4d6-7440815d3008"
      },
      "outputs": [
        {
          "output_type": "stream",
          "name": "stdout",
          "text": [
            "          IdCliente   CodigoGrupo   EdadCliente   EstadoCivil  CapacidadPago  \\\n",
            "count  4.380844e+06  4.380844e+06  4.380844e+06  4.380844e+06   4.380844e+06   \n",
            "mean   5.902005e+04  8.415457e+02  3.944503e+01  3.268472e+00   7.633413e+03   \n",
            "std    3.836093e+04  5.770191e+02  1.305678e+01  1.669057e+00   3.069242e+04   \n",
            "min    4.000000e+00  0.000000e+00  1.500000e+01  1.000000e+00  -6.391200e+06   \n",
            "25%    2.367200e+04  3.130000e+02  2.900000e+01  2.000000e+00   2.400000e+03   \n",
            "50%    5.530600e+04  8.230000e+02  3.800000e+01  3.000000e+00   6.000000e+03   \n",
            "75%    9.229100e+04  1.244000e+03  4.800000e+01  5.000000e+00   1.017600e+04   \n",
            "max    1.376940e+05  2.594000e+03  1.010000e+02  7.000000e+00   8.000400e+06   \n",
            "\n",
            "          Localidad  CodigoSucursal  NumeroCredito  CicloCliente  \\\n",
            "count  4.380844e+06    4.380844e+06   4.380844e+06  4.380844e+06   \n",
            "mean   7.607020e+03    6.142390e+00   6.143053e+09  5.265920e+00   \n",
            "std    3.124029e+03    4.096959e+00   4.096748e+09  4.991101e+00   \n",
            "min    1.878000e+03    0.000000e+00   7.000000e+02  1.000000e+00   \n",
            "25%    7.065000e+03    3.000000e+00   3.000495e+09  2.000000e+00   \n",
            "50%    7.089000e+03    6.000000e+00   6.000648e+09  3.000000e+00   \n",
            "75%    7.131000e+03    9.000000e+00   9.000350e+09  7.000000e+00   \n",
            "max    3.068000e+04    2.100000e+01   2.100005e+10  4.300000e+01   \n",
            "\n",
            "              Plazo  MontoCredito   CuotaNumero    MontoCuota  MontoCapital  \\\n",
            "count  4.380844e+06  4.380844e+06  4.380844e+06  4.380844e+06  4.380844e+06   \n",
            "mean   1.210345e+01  7.982243e+03  6.551549e+00  8.140315e+02  6.644447e+02   \n",
            "std    2.916643e+00  7.905486e+03  3.867682e+00  8.199406e+02  6.668485e+02   \n",
            "min    3.000000e+00  5.000000e+02  1.000000e+00  7.880000e+00  7.010000e+00   \n",
            "25%    1.200000e+01  3.000000e+03  3.000000e+00  3.705500e+02  2.929900e+02   \n",
            "50%    1.200000e+01  5.000000e+03  6.000000e+00  5.652800e+02  4.638900e+02   \n",
            "75%    1.200000e+01  1.000000e+04  9.000000e+00  9.685500e+02  7.769400e+02   \n",
            "max    3.600000e+01  1.200000e+05  3.600000e+01  2.678669e+04  2.580999e+04   \n",
            "\n",
            "       SaldoCapital    DiasAtraso  \n",
            "count  4.380844e+06  4.380844e+06  \n",
            "mean   7.455159e+00  3.517472e+00  \n",
            "std    1.043779e+02  1.905960e+01  \n",
            "min    0.000000e+00  0.000000e+00  \n",
            "25%    0.000000e+00  0.000000e+00  \n",
            "50%    0.000000e+00  0.000000e+00  \n",
            "75%    0.000000e+00  1.000000e+00  \n",
            "max    1.086918e+04  1.977000e+03  \n"
          ]
        }
      ],
      "source": [
        "print(gpdf.describe(exclude=[object]))"
      ]
    },
    {
      "cell_type": "code",
      "execution_count": null,
      "metadata": {
        "colab": {
          "base_uri": "https://localhost:8080/"
        },
        "id": "NdcJEfI0M1Ml",
        "outputId": "e3758fd6-d286-400f-f383-45b87d8475fb"
      },
      "outputs": [
        {
          "output_type": "stream",
          "name": "stdout",
          "text": [
            "               FechaAltaCliente   Genero Escolaridad CodigoASesor  \\\n",
            "count                   4380844  4380844     4380844      4380844   \n",
            "unique                    15962        2          14          528   \n",
            "top     2004-02-05 00:00:00.000        F          1A       ACORZO   \n",
            "freq                       7669  4378507     1302653        98613   \n",
            "\n",
            "                FechaDesembolso         FechaVencimiento  \\\n",
            "count                   4380844                  4380844   \n",
            "unique                     3268                     2816   \n",
            "top     2013-04-30 00:00:00.000  2019-06-04 00:00:00.000   \n",
            "freq                       6944                     4869   \n",
            "\n",
            "               FechaCancelacion   PeriodoPago EstatusCredito  \\\n",
            "count                   4380844       4380844        4380844   \n",
            "unique                     3303             3              2   \n",
            "top     2015-12-08 00:00:00.000  CATORCENA(S)            CAN   \n",
            "freq                       7115       3816897        4253254   \n",
            "\n",
            "          CuotaFechaVencimiento    CuotaFechaCancelacion EstatusCuota  \n",
            "count                   4380844                  4380844      4380844  \n",
            "unique                     3162                    74635            2  \n",
            "top     2019-01-01 00:00:00.000  2015-12-08 00:00:00.000            C  \n",
            "freq                       3284                     6000      4380837  \n"
          ]
        }
      ],
      "source": [
        "print(gpdf.describe(include=[object]))"
      ]
    },
    {
      "cell_type": "code",
      "execution_count": null,
      "metadata": {
        "colab": {
          "base_uri": "https://localhost:8080/"
        },
        "id": "2oLHxrp6NSKJ",
        "outputId": "32750f0b-168f-485f-b3c5-db532cc4bf47"
      },
      "outputs": [
        {
          "output_type": "stream",
          "name": "stdout",
          "text": [
            "<class 'pandas.core.frame.DataFrame'>\n",
            "Index: 4380844 entries, 0 to 4382213\n",
            "Data columns (total 28 columns):\n",
            " #   Column                 Dtype  \n",
            "---  ------                 -----  \n",
            " 0   IdCliente              int64  \n",
            " 1   FechaAltaCliente       object \n",
            " 2   CodigoGrupo            int64  \n",
            " 3   EdadCliente            int64  \n",
            " 4   Genero                 object \n",
            " 5   EstadoCivil            int64  \n",
            " 6   Escolaridad            object \n",
            " 7   CapacidadPago          float64\n",
            " 8   Localidad              int64  \n",
            " 9   CodigoSucursal         int64  \n",
            " 10  CodigoASesor           object \n",
            " 11  NumeroCredito          int64  \n",
            " 12  CicloCliente           int64  \n",
            " 13  FechaDesembolso        object \n",
            " 14  FechaVencimiento       object \n",
            " 15  FechaCancelacion       object \n",
            " 16  Plazo                  int64  \n",
            " 17  PeriodoPago            object \n",
            " 18  EstatusCredito         object \n",
            " 19  MontoCredito           float64\n",
            " 20  CuotaNumero            int64  \n",
            " 21  CuotaFechaVencimiento  object \n",
            " 22  CuotaFechaCancelacion  object \n",
            " 23  MontoCuota             float64\n",
            " 24  MontoCapital           float64\n",
            " 25  SaldoCapital           float64\n",
            " 26  EstatusCuota           object \n",
            " 27  DiasAtraso             float64\n",
            "dtypes: float64(6), int64(10), object(12)\n",
            "memory usage: 969.3+ MB\n"
          ]
        }
      ],
      "source": [
        "gpdf.info()"
      ]
    },
    {
      "cell_type": "markdown",
      "metadata": {
        "id": "oVfqhxDjyohT"
      },
      "source": [
        "### Se agregan los valores Maximos, la Media y la Mediana de la variable DiasAtraso por cliente y por credito"
      ]
    },
    {
      "cell_type": "code",
      "execution_count": null,
      "metadata": {
        "colab": {
          "base_uri": "https://localhost:8080/"
        },
        "id": "59HNFX-vyohT",
        "outputId": "2fdc7d55-b5e6-435a-e94f-b0649115ec55"
      },
      "outputs": [
        {
          "output_type": "stream",
          "name": "stdout",
          "text": [
            "<class 'pandas.core.frame.DataFrame'>\n",
            "RangeIndex: 380284 entries, 0 to 380283\n",
            "Data columns (total 8 columns):\n",
            " #   Column          Non-Null Count   Dtype  \n",
            "---  ------          --------------   -----  \n",
            " 0   IdCliente       380284 non-null  int64  \n",
            " 1   EdadCliente     380284 non-null  int64  \n",
            " 2   NumeroCredito   380284 non-null  int64  \n",
            " 3   CicloCliente    380284 non-null  int64  \n",
            " 4   Plazo           380284 non-null  int64  \n",
            " 5   EstadoCivil     380284 non-null  int64  \n",
            " 6   EstatusCredito  380284 non-null  object \n",
            " 7   DAMax           380284 non-null  float64\n",
            "dtypes: float64(1), int64(6), object(1)\n",
            "memory usage: 23.2+ MB\n"
          ]
        }
      ],
      "source": [
        "# obtenemos el Maximo Dias de Atraso y las siguientes variables numericas\n",
        "gpmdadf = gpdf.groupby(['IdCliente','EdadCliente','NumeroCredito','CicloCliente','Plazo','EstadoCivil','EstatusCredito'])['DiasAtraso'].max().reset_index()\n",
        "\n",
        "# renombramos la columna de la media\n",
        "gpmdadf.rename(columns={'DiasAtraso':'DAMax'}, inplace=True)\n",
        "\n",
        "gpmdadf.info()"
      ]
    },
    {
      "cell_type": "code",
      "execution_count": null,
      "metadata": {
        "id": "ErNpKQ1wyohT"
      },
      "outputs": [],
      "source": [
        "# obtenemos media de los Dias de Atraso por credito\n",
        "gpmeandf = gpdf.groupby(['IdCliente','NumeroCredito'])['DiasAtraso'].mean().reset_index()\n",
        "\n",
        "# obtenemos mediana de los Dias de Atraso por credito\n",
        "gpmediandf = gpdf.groupby(['IdCliente','NumeroCredito'])['DiasAtraso'].median().reset_index()\n",
        "\n",
        "# renombramos la columna de la media\n",
        "gpmeandf.rename(columns={'DiasAtraso':'DAMean'}, inplace=True)\n",
        "\n",
        "# renombramos la columna de la mediana\n",
        "gpmediandf.rename(columns={'DiasAtraso':'DAMedian'}, inplace=True)\n"
      ]
    },
    {
      "cell_type": "code",
      "execution_count": null,
      "metadata": {
        "colab": {
          "base_uri": "https://localhost:8080/"
        },
        "id": "a5DDftEdyohT",
        "outputId": "28b0554b-5e55-4eb5-8479-bd86a8d43e8d"
      },
      "outputs": [
        {
          "output_type": "stream",
          "name": "stdout",
          "text": [
            "<class 'pandas.core.frame.DataFrame'>\n",
            "RangeIndex: 380284 entries, 0 to 380283\n",
            "Data columns (total 3 columns):\n",
            " #   Column         Non-Null Count   Dtype  \n",
            "---  ------         --------------   -----  \n",
            " 0   IdCliente      380284 non-null  int64  \n",
            " 1   NumeroCredito  380284 non-null  int64  \n",
            " 2   DAMean         380284 non-null  float64\n",
            "dtypes: float64(1), int64(2)\n",
            "memory usage: 8.7 MB\n"
          ]
        }
      ],
      "source": [
        "gpmeandf.info()\n"
      ]
    },
    {
      "cell_type": "code",
      "execution_count": null,
      "metadata": {
        "colab": {
          "base_uri": "https://localhost:8080/"
        },
        "id": "5XvJh9l2yohU",
        "outputId": "27fd8eca-f6c9-424f-aea4-f9cdde354ee2"
      },
      "outputs": [
        {
          "output_type": "stream",
          "name": "stdout",
          "text": [
            "<class 'pandas.core.frame.DataFrame'>\n",
            "RangeIndex: 380284 entries, 0 to 380283\n",
            "Data columns (total 3 columns):\n",
            " #   Column         Non-Null Count   Dtype  \n",
            "---  ------         --------------   -----  \n",
            " 0   IdCliente      380284 non-null  int64  \n",
            " 1   NumeroCredito  380284 non-null  int64  \n",
            " 2   DAMedian       380284 non-null  float64\n",
            "dtypes: float64(1), int64(2)\n",
            "memory usage: 8.7 MB\n"
          ]
        }
      ],
      "source": [
        "gpmediandf.info()"
      ]
    },
    {
      "cell_type": "code",
      "execution_count": null,
      "metadata": {
        "colab": {
          "base_uri": "https://localhost:8080/"
        },
        "id": "4Rwn7Tz0yohU",
        "outputId": "59cf18f0-3e1a-4264-cc0c-aed7ff18ceba"
      },
      "outputs": [
        {
          "output_type": "stream",
          "name": "stdout",
          "text": [
            "   IdCliente  EdadCliente  NumeroCredito  CicloCliente  Plazo  EstadoCivil  \\\n",
            "1          6           34     1000539201             1     15            5   \n",
            "2          6           34     1000619301             2     15            5   \n",
            "3          6           35     1000696601             3     15            5   \n",
            "4          6           36     1000835501             4     25            5   \n",
            "\n",
            "  EstatusCredito  DAMax  \n",
            "1            CAN    0.0  \n",
            "2            CAN    2.0  \n",
            "3            CAN    2.0  \n",
            "4            CAN  185.0  \n"
          ]
        }
      ],
      "source": [
        "print(gpmdadf[gpmdadf['IdCliente']==6])"
      ]
    },
    {
      "cell_type": "code",
      "execution_count": null,
      "metadata": {
        "colab": {
          "base_uri": "https://localhost:8080/"
        },
        "id": "qkJNCiH_yohU",
        "outputId": "364836e9-e436-4412-d32f-1a641c10c903"
      },
      "outputs": [
        {
          "output_type": "stream",
          "name": "stdout",
          "text": [
            "   IdCliente  NumeroCredito     DAMean\n",
            "1          6     1000539201   0.000000\n",
            "2          6     1000619301   0.333333\n",
            "3          6     1000696601   0.466667\n",
            "4          6     1000835501  23.400000\n"
          ]
        }
      ],
      "source": [
        "print(gpmeandf[gpmeandf['IdCliente']==6])"
      ]
    },
    {
      "cell_type": "code",
      "execution_count": null,
      "metadata": {
        "colab": {
          "base_uri": "https://localhost:8080/"
        },
        "id": "aAxNPiEnyohU",
        "outputId": "880fd516-3e00-4ec3-bc1d-34f7cb1430d7"
      },
      "outputs": [
        {
          "output_type": "stream",
          "name": "stdout",
          "text": [
            "   IdCliente  NumeroCredito  DAMedian\n",
            "1          6     1000539201       0.0\n",
            "2          6     1000619301       0.0\n",
            "3          6     1000696601       0.0\n",
            "4          6     1000835501       1.0\n"
          ]
        }
      ],
      "source": [
        "print(gpmediandf[gpmediandf['IdCliente']==6])"
      ]
    },
    {
      "cell_type": "code",
      "execution_count": null,
      "metadata": {
        "scrolled": true,
        "id": "QS76c8CEyohU"
      },
      "outputs": [],
      "source": [
        "# agregamos la columan de la media\n",
        "newdf = pd.merge(gpmdadf, gpmeandf[['IdCliente','NumeroCredito','DAMean']], on=['IdCliente','NumeroCredito'], how='left')\n",
        "\n",
        "# agregamos la columna de la mediana\n",
        "newdf = pd.merge(newdf, gpmediandf[['IdCliente','NumeroCredito','DAMedian']], on=['IdCliente','NumeroCredito'], how='left')"
      ]
    },
    {
      "cell_type": "code",
      "execution_count": null,
      "metadata": {
        "colab": {
          "base_uri": "https://localhost:8080/"
        },
        "id": "45QkvJewyohU",
        "outputId": "f6dcaaf2-4a23-4b11-912d-d15287177147"
      },
      "outputs": [
        {
          "output_type": "stream",
          "name": "stdout",
          "text": [
            "   IdCliente  EdadCliente  NumeroCredito  CicloCliente  Plazo  EstadoCivil  \\\n",
            "1          6           34     1000539201             1     15            5   \n",
            "2          6           34     1000619301             2     15            5   \n",
            "3          6           35     1000696601             3     15            5   \n",
            "4          6           36     1000835501             4     25            5   \n",
            "\n",
            "  EstatusCredito  DAMax     DAMean  DAMedian  \n",
            "1            CAN    0.0   0.000000       0.0  \n",
            "2            CAN    2.0   0.333333       0.0  \n",
            "3            CAN    2.0   0.466667       0.0  \n",
            "4            CAN  185.0  23.400000       1.0  \n"
          ]
        }
      ],
      "source": [
        "# mostramos los datos del cliente 6\n",
        "print(newdf[newdf['IdCliente']==6])"
      ]
    },
    {
      "cell_type": "code",
      "execution_count": null,
      "metadata": {
        "colab": {
          "base_uri": "https://localhost:8080/"
        },
        "id": "lm9CJGBgyohU",
        "outputId": "1abc8261-b172-423e-9f46-2fcd452f3682"
      },
      "outputs": [
        {
          "output_type": "stream",
          "name": "stdout",
          "text": [
            "<class 'pandas.core.frame.DataFrame'>\n",
            "RangeIndex: 380284 entries, 0 to 380283\n",
            "Data columns (total 10 columns):\n",
            " #   Column          Non-Null Count   Dtype  \n",
            "---  ------          --------------   -----  \n",
            " 0   IdCliente       380284 non-null  int64  \n",
            " 1   EdadCliente     380284 non-null  int64  \n",
            " 2   NumeroCredito   380284 non-null  int64  \n",
            " 3   CicloCliente    380284 non-null  int64  \n",
            " 4   Plazo           380284 non-null  int64  \n",
            " 5   EstadoCivil     380284 non-null  int64  \n",
            " 6   EstatusCredito  380284 non-null  object \n",
            " 7   DAMax           380284 non-null  float64\n",
            " 8   DAMean          380284 non-null  float64\n",
            " 9   DAMedian        380284 non-null  float64\n",
            "dtypes: float64(3), int64(6), object(1)\n",
            "memory usage: 29.0+ MB\n"
          ]
        }
      ],
      "source": [
        "newdf.info()"
      ]
    },
    {
      "cell_type": "code",
      "execution_count": null,
      "metadata": {
        "colab": {
          "base_uri": "https://localhost:8080/"
        },
        "id": "zm9W4dMOyohU",
        "outputId": "3b56ba03-a314-4c63-b857-55945b1690d5"
      },
      "outputs": [
        {
          "output_type": "execute_result",
          "data": {
            "text/plain": [
              "   IdCliente  EdadCliente  NumeroCredito  CicloCliente  Plazo  EstadoCivil  \\\n",
              "0          4           65     1000353601             1     15            4   \n",
              "1          6           34     1000539201             1     15            5   \n",
              "2          6           34     1000619301             2     15            5   \n",
              "3          6           35     1000696601             3     15            5   \n",
              "4          6           36     1000835501             4     25            5   \n",
              "\n",
              "  EstatusCredito  DAMax     DAMean  DAMedian  \n",
              "0            CAN    2.0   0.266667       0.0  \n",
              "1            CAN    0.0   0.000000       0.0  \n",
              "2            CAN    2.0   0.333333       0.0  \n",
              "3            CAN    2.0   0.466667       0.0  \n",
              "4            CAN  185.0  23.400000       1.0  "
            ],
            "text/html": [
              "\n",
              "  <div id=\"df-fdb7f683-6280-4fdd-af94-8454ab666cf5\" class=\"colab-df-container\">\n",
              "    <div>\n",
              "<style scoped>\n",
              "    .dataframe tbody tr th:only-of-type {\n",
              "        vertical-align: middle;\n",
              "    }\n",
              "\n",
              "    .dataframe tbody tr th {\n",
              "        vertical-align: top;\n",
              "    }\n",
              "\n",
              "    .dataframe thead th {\n",
              "        text-align: right;\n",
              "    }\n",
              "</style>\n",
              "<table border=\"1\" class=\"dataframe\">\n",
              "  <thead>\n",
              "    <tr style=\"text-align: right;\">\n",
              "      <th></th>\n",
              "      <th>IdCliente</th>\n",
              "      <th>EdadCliente</th>\n",
              "      <th>NumeroCredito</th>\n",
              "      <th>CicloCliente</th>\n",
              "      <th>Plazo</th>\n",
              "      <th>EstadoCivil</th>\n",
              "      <th>EstatusCredito</th>\n",
              "      <th>DAMax</th>\n",
              "      <th>DAMean</th>\n",
              "      <th>DAMedian</th>\n",
              "    </tr>\n",
              "  </thead>\n",
              "  <tbody>\n",
              "    <tr>\n",
              "      <th>0</th>\n",
              "      <td>4</td>\n",
              "      <td>65</td>\n",
              "      <td>1000353601</td>\n",
              "      <td>1</td>\n",
              "      <td>15</td>\n",
              "      <td>4</td>\n",
              "      <td>CAN</td>\n",
              "      <td>2.0</td>\n",
              "      <td>0.266667</td>\n",
              "      <td>0.0</td>\n",
              "    </tr>\n",
              "    <tr>\n",
              "      <th>1</th>\n",
              "      <td>6</td>\n",
              "      <td>34</td>\n",
              "      <td>1000539201</td>\n",
              "      <td>1</td>\n",
              "      <td>15</td>\n",
              "      <td>5</td>\n",
              "      <td>CAN</td>\n",
              "      <td>0.0</td>\n",
              "      <td>0.000000</td>\n",
              "      <td>0.0</td>\n",
              "    </tr>\n",
              "    <tr>\n",
              "      <th>2</th>\n",
              "      <td>6</td>\n",
              "      <td>34</td>\n",
              "      <td>1000619301</td>\n",
              "      <td>2</td>\n",
              "      <td>15</td>\n",
              "      <td>5</td>\n",
              "      <td>CAN</td>\n",
              "      <td>2.0</td>\n",
              "      <td>0.333333</td>\n",
              "      <td>0.0</td>\n",
              "    </tr>\n",
              "    <tr>\n",
              "      <th>3</th>\n",
              "      <td>6</td>\n",
              "      <td>35</td>\n",
              "      <td>1000696601</td>\n",
              "      <td>3</td>\n",
              "      <td>15</td>\n",
              "      <td>5</td>\n",
              "      <td>CAN</td>\n",
              "      <td>2.0</td>\n",
              "      <td>0.466667</td>\n",
              "      <td>0.0</td>\n",
              "    </tr>\n",
              "    <tr>\n",
              "      <th>4</th>\n",
              "      <td>6</td>\n",
              "      <td>36</td>\n",
              "      <td>1000835501</td>\n",
              "      <td>4</td>\n",
              "      <td>25</td>\n",
              "      <td>5</td>\n",
              "      <td>CAN</td>\n",
              "      <td>185.0</td>\n",
              "      <td>23.400000</td>\n",
              "      <td>1.0</td>\n",
              "    </tr>\n",
              "  </tbody>\n",
              "</table>\n",
              "</div>\n",
              "    <div class=\"colab-df-buttons\">\n",
              "\n",
              "  <div class=\"colab-df-container\">\n",
              "    <button class=\"colab-df-convert\" onclick=\"convertToInteractive('df-fdb7f683-6280-4fdd-af94-8454ab666cf5')\"\n",
              "            title=\"Convert this dataframe to an interactive table.\"\n",
              "            style=\"display:none;\">\n",
              "\n",
              "  <svg xmlns=\"http://www.w3.org/2000/svg\" height=\"24px\" viewBox=\"0 -960 960 960\">\n",
              "    <path d=\"M120-120v-720h720v720H120Zm60-500h600v-160H180v160Zm220 220h160v-160H400v160Zm0 220h160v-160H400v160ZM180-400h160v-160H180v160Zm440 0h160v-160H620v160ZM180-180h160v-160H180v160Zm440 0h160v-160H620v160Z\"/>\n",
              "  </svg>\n",
              "    </button>\n",
              "\n",
              "  <style>\n",
              "    .colab-df-container {\n",
              "      display:flex;\n",
              "      gap: 12px;\n",
              "    }\n",
              "\n",
              "    .colab-df-convert {\n",
              "      background-color: #E8F0FE;\n",
              "      border: none;\n",
              "      border-radius: 50%;\n",
              "      cursor: pointer;\n",
              "      display: none;\n",
              "      fill: #1967D2;\n",
              "      height: 32px;\n",
              "      padding: 0 0 0 0;\n",
              "      width: 32px;\n",
              "    }\n",
              "\n",
              "    .colab-df-convert:hover {\n",
              "      background-color: #E2EBFA;\n",
              "      box-shadow: 0px 1px 2px rgba(60, 64, 67, 0.3), 0px 1px 3px 1px rgba(60, 64, 67, 0.15);\n",
              "      fill: #174EA6;\n",
              "    }\n",
              "\n",
              "    .colab-df-buttons div {\n",
              "      margin-bottom: 4px;\n",
              "    }\n",
              "\n",
              "    [theme=dark] .colab-df-convert {\n",
              "      background-color: #3B4455;\n",
              "      fill: #D2E3FC;\n",
              "    }\n",
              "\n",
              "    [theme=dark] .colab-df-convert:hover {\n",
              "      background-color: #434B5C;\n",
              "      box-shadow: 0px 1px 3px 1px rgba(0, 0, 0, 0.15);\n",
              "      filter: drop-shadow(0px 1px 2px rgba(0, 0, 0, 0.3));\n",
              "      fill: #FFFFFF;\n",
              "    }\n",
              "  </style>\n",
              "\n",
              "    <script>\n",
              "      const buttonEl =\n",
              "        document.querySelector('#df-fdb7f683-6280-4fdd-af94-8454ab666cf5 button.colab-df-convert');\n",
              "      buttonEl.style.display =\n",
              "        google.colab.kernel.accessAllowed ? 'block' : 'none';\n",
              "\n",
              "      async function convertToInteractive(key) {\n",
              "        const element = document.querySelector('#df-fdb7f683-6280-4fdd-af94-8454ab666cf5');\n",
              "        const dataTable =\n",
              "          await google.colab.kernel.invokeFunction('convertToInteractive',\n",
              "                                                    [key], {});\n",
              "        if (!dataTable) return;\n",
              "\n",
              "        const docLinkHtml = 'Like what you see? Visit the ' +\n",
              "          '<a target=\"_blank\" href=https://colab.research.google.com/notebooks/data_table.ipynb>data table notebook</a>'\n",
              "          + ' to learn more about interactive tables.';\n",
              "        element.innerHTML = '';\n",
              "        dataTable['output_type'] = 'display_data';\n",
              "        await google.colab.output.renderOutput(dataTable, element);\n",
              "        const docLink = document.createElement('div');\n",
              "        docLink.innerHTML = docLinkHtml;\n",
              "        element.appendChild(docLink);\n",
              "      }\n",
              "    </script>\n",
              "  </div>\n",
              "\n",
              "\n",
              "<div id=\"df-da1d41a3-1207-431a-8b2c-ea5e00de8c5b\">\n",
              "  <button class=\"colab-df-quickchart\" onclick=\"quickchart('df-da1d41a3-1207-431a-8b2c-ea5e00de8c5b')\"\n",
              "            title=\"Suggest charts\"\n",
              "            style=\"display:none;\">\n",
              "\n",
              "<svg xmlns=\"http://www.w3.org/2000/svg\" height=\"24px\"viewBox=\"0 0 24 24\"\n",
              "     width=\"24px\">\n",
              "    <g>\n",
              "        <path d=\"M19 3H5c-1.1 0-2 .9-2 2v14c0 1.1.9 2 2 2h14c1.1 0 2-.9 2-2V5c0-1.1-.9-2-2-2zM9 17H7v-7h2v7zm4 0h-2V7h2v10zm4 0h-2v-4h2v4z\"/>\n",
              "    </g>\n",
              "</svg>\n",
              "  </button>\n",
              "\n",
              "<style>\n",
              "  .colab-df-quickchart {\n",
              "      --bg-color: #E8F0FE;\n",
              "      --fill-color: #1967D2;\n",
              "      --hover-bg-color: #E2EBFA;\n",
              "      --hover-fill-color: #174EA6;\n",
              "      --disabled-fill-color: #AAA;\n",
              "      --disabled-bg-color: #DDD;\n",
              "  }\n",
              "\n",
              "  [theme=dark] .colab-df-quickchart {\n",
              "      --bg-color: #3B4455;\n",
              "      --fill-color: #D2E3FC;\n",
              "      --hover-bg-color: #434B5C;\n",
              "      --hover-fill-color: #FFFFFF;\n",
              "      --disabled-bg-color: #3B4455;\n",
              "      --disabled-fill-color: #666;\n",
              "  }\n",
              "\n",
              "  .colab-df-quickchart {\n",
              "    background-color: var(--bg-color);\n",
              "    border: none;\n",
              "    border-radius: 50%;\n",
              "    cursor: pointer;\n",
              "    display: none;\n",
              "    fill: var(--fill-color);\n",
              "    height: 32px;\n",
              "    padding: 0;\n",
              "    width: 32px;\n",
              "  }\n",
              "\n",
              "  .colab-df-quickchart:hover {\n",
              "    background-color: var(--hover-bg-color);\n",
              "    box-shadow: 0 1px 2px rgba(60, 64, 67, 0.3), 0 1px 3px 1px rgba(60, 64, 67, 0.15);\n",
              "    fill: var(--button-hover-fill-color);\n",
              "  }\n",
              "\n",
              "  .colab-df-quickchart-complete:disabled,\n",
              "  .colab-df-quickchart-complete:disabled:hover {\n",
              "    background-color: var(--disabled-bg-color);\n",
              "    fill: var(--disabled-fill-color);\n",
              "    box-shadow: none;\n",
              "  }\n",
              "\n",
              "  .colab-df-spinner {\n",
              "    border: 2px solid var(--fill-color);\n",
              "    border-color: transparent;\n",
              "    border-bottom-color: var(--fill-color);\n",
              "    animation:\n",
              "      spin 1s steps(1) infinite;\n",
              "  }\n",
              "\n",
              "  @keyframes spin {\n",
              "    0% {\n",
              "      border-color: transparent;\n",
              "      border-bottom-color: var(--fill-color);\n",
              "      border-left-color: var(--fill-color);\n",
              "    }\n",
              "    20% {\n",
              "      border-color: transparent;\n",
              "      border-left-color: var(--fill-color);\n",
              "      border-top-color: var(--fill-color);\n",
              "    }\n",
              "    30% {\n",
              "      border-color: transparent;\n",
              "      border-left-color: var(--fill-color);\n",
              "      border-top-color: var(--fill-color);\n",
              "      border-right-color: var(--fill-color);\n",
              "    }\n",
              "    40% {\n",
              "      border-color: transparent;\n",
              "      border-right-color: var(--fill-color);\n",
              "      border-top-color: var(--fill-color);\n",
              "    }\n",
              "    60% {\n",
              "      border-color: transparent;\n",
              "      border-right-color: var(--fill-color);\n",
              "    }\n",
              "    80% {\n",
              "      border-color: transparent;\n",
              "      border-right-color: var(--fill-color);\n",
              "      border-bottom-color: var(--fill-color);\n",
              "    }\n",
              "    90% {\n",
              "      border-color: transparent;\n",
              "      border-bottom-color: var(--fill-color);\n",
              "    }\n",
              "  }\n",
              "</style>\n",
              "\n",
              "  <script>\n",
              "    async function quickchart(key) {\n",
              "      const quickchartButtonEl =\n",
              "        document.querySelector('#' + key + ' button');\n",
              "      quickchartButtonEl.disabled = true;  // To prevent multiple clicks.\n",
              "      quickchartButtonEl.classList.add('colab-df-spinner');\n",
              "      try {\n",
              "        const charts = await google.colab.kernel.invokeFunction(\n",
              "            'suggestCharts', [key], {});\n",
              "      } catch (error) {\n",
              "        console.error('Error during call to suggestCharts:', error);\n",
              "      }\n",
              "      quickchartButtonEl.classList.remove('colab-df-spinner');\n",
              "      quickchartButtonEl.classList.add('colab-df-quickchart-complete');\n",
              "    }\n",
              "    (() => {\n",
              "      let quickchartButtonEl =\n",
              "        document.querySelector('#df-da1d41a3-1207-431a-8b2c-ea5e00de8c5b button');\n",
              "      quickchartButtonEl.style.display =\n",
              "        google.colab.kernel.accessAllowed ? 'block' : 'none';\n",
              "    })();\n",
              "  </script>\n",
              "</div>\n",
              "    </div>\n",
              "  </div>\n"
            ],
            "application/vnd.google.colaboratory.intrinsic+json": {
              "type": "dataframe",
              "variable_name": "newdf"
            }
          },
          "metadata": {},
          "execution_count": 31
        }
      ],
      "source": [
        "newdf.head()"
      ]
    },
    {
      "cell_type": "markdown",
      "source": [
        "#Baseline"
      ],
      "metadata": {
        "id": "6p-PdWdCzhFp"
      }
    },
    {
      "cell_type": "markdown",
      "source": [
        "# Avance 4\n"
      ],
      "metadata": {
        "id": "q4IfWjNXxMHJ"
      }
    },
    {
      "cell_type": "code",
      "source": [
        "from sklearn.linear_model import LogisticRegression\n",
        "from sklearn.neighbors import KNeighborsClassifier\n",
        "from sklearn.tree import DecisionTreeClassifier\n",
        "from sklearn.ensemble import RandomForestClassifier\n",
        "from xgboost import XGBClassifier\n",
        "from sklearn.neural_network import MLPClassifier\n",
        "from sklearn.svm import SVC\n",
        "from sklearn.model_selection import RepeatedStratifiedKFold\n",
        "from sklearn.model_selection import cross_validate\n",
        "from sklearn.metrics import make_scorer, accuracy_score, precision_score, recall_score, f1_score, roc_auc_score\n",
        "from sklearn.compose import ColumnTransformer\n",
        "from sklearn.pipeline import Pipeline\n",
        "from sklearn.preprocessing import FunctionTransformer, MinMaxScaler, OneHotEncoder\n",
        "from sklearn.preprocessing import LabelEncoder\n",
        "import time"
      ],
      "metadata": {
        "id": "9N_IG_Fe2Kii"
      },
      "execution_count": null,
      "outputs": []
    },
    {
      "cell_type": "markdown",
      "source": [
        "Preprocesamiento de variables"
      ],
      "metadata": {
        "id": "s8gx1NBDGI3b"
      }
    },
    {
      "cell_type": "code",
      "source": [
        "# Definir la variable objetivo y las características\n",
        "newdf['EstatusCredito'] = newdf['EstatusCredito'].map({'CAI': 0, 'CAN': 1})\n",
        "X = newdf.drop('EstatusCredito', axis=1)  # Todas las columnas excepto 'EstatusCredito' son características independientes\n",
        "y = newdf['EstatusCredito']  # 'EstatusCredito' es la variable objetivo\n",
        "\n",
        "# Dividir los datos en conjunto de entrenamiento y prueba\n",
        "X_train, X_test, y_train, y_test = train_test_split(X, y, test_size=0.20, random_state=42)\n",
        "\n",
        "# Verificar las dimensiones de los conjuntos de entrenamiento y prueba\n",
        "print(\"Dimensiones del conjunto de entrenamiento (X):\", X_train.shape)\n",
        "print(\"Dimensiones del conjunto de prueba (X):\", X_test.shape)\n",
        "print(\"Dimensiones del conjunto de entrenamiento (y):\", y_train.shape)\n",
        "print(\"Dimensiones del conjunto de prueba (y):\", y_test.shape)"
      ],
      "metadata": {
        "colab": {
          "base_uri": "https://localhost:8080/"
        },
        "id": "zsdGo1jVxOli",
        "outputId": "0730da74-2b95-42af-895e-feb475110d69"
      },
      "execution_count": null,
      "outputs": [
        {
          "output_type": "stream",
          "name": "stdout",
          "text": [
            "Dimensiones del conjunto de entrenamiento (X): (304227, 9)\n",
            "Dimensiones del conjunto de prueba (X): (76057, 9)\n",
            "Dimensiones del conjunto de entrenamiento (y): (304227,)\n",
            "Dimensiones del conjunto de prueba (y): (76057,)\n"
          ]
        }
      ]
    },
    {
      "cell_type": "code",
      "source": [
        "# Transformaciones que se aplicarán a las variables numéricas usando la clase Pipeline de sklearn:\n",
        "\n",
        "# Variables numéricas:\n",
        "num_pipe = Pipeline([\n",
        "    ('log_transform', FunctionTransformer(np.log1p)),  # Transformación logarítmica\n",
        "    ('min_max_scaler', MinMaxScaler())  # Escalado Min-Max\n",
        "])\n",
        "num_pipe_nombres = ['DAMax', 'DAMean', 'EdadCliente']\n",
        "\n",
        "# Variables categóricas:\n",
        "cat_pipe = Pipeline([\n",
        "    ('one_hot_encoding', OneHotEncoder())  # Codificación One-Hot\n",
        "])\n",
        "cat_pipe_nombres = ['CicloCliente', 'Plazo', 'EstadoCivil']\n",
        "\n",
        "\n",
        "# Variables sin transformar:\n",
        "no_trans_pipe = 'passthrough'\n",
        "no_trans_nombres = ['IdCliente', 'NumeroCredito']\n",
        "\n",
        "# Conjuntemos las transformaciones de todo tipo de variable y en dado caso\n",
        "# deja inalteradas aquellas que hayas decidido no transformar:\n",
        "\n",
        "columnasTransformer = ColumnTransformer([\n",
        "    ('num', num_pipe, num_pipe_nombres),  # Variables numéricas\n",
        "    ('cat', cat_pipe, cat_pipe_nombres),  # Variables categóricas\n",
        "    ('notrans', no_trans_pipe, no_trans_nombres)  # Variables sin tranformar\n",
        "])\n"
      ],
      "metadata": {
        "id": "GuEPTGsi8cV5"
      },
      "execution_count": null,
      "outputs": []
    },
    {
      "cell_type": "code",
      "source": [
        "# Como se va a utilizar Validación-Cruzada, concatena los conjuntos de entrenamiento y validación\n",
        "# en uno nuevo aumentado que llamaremos trainval para utilizar como entrenamiento:\n",
        "\n",
        "# Concatenar los conjuntos de entrenamiento y validación\n",
        "Xtrainval = pd.concat([X_train, X_test], ignore_index=True)\n",
        "ytrainval = pd.concat([y_train, y_test], ignore_index=True)\n",
        "\n",
        "# Mostrar las dimensiones del nuevo conjunto trainval\n",
        "print(Xtrainval.shape, ytrainval.shape)"
      ],
      "metadata": {
        "colab": {
          "base_uri": "https://localhost:8080/"
        },
        "id": "9OrOGPFX4Eek",
        "outputId": "40024876-6f30-42ac-b885-851284e0074e"
      },
      "execution_count": null,
      "outputs": [
        {
          "output_type": "stream",
          "name": "stdout",
          "text": [
            "(380284, 9) (380284,)\n"
          ]
        }
      ]
    },
    {
      "cell_type": "markdown",
      "source": [
        "Construir al menos 6 modelos diferentes, utilizando algoritmos variados."
      ],
      "metadata": {
        "id": "DEFy5pPY168K"
      }
    },
    {
      "cell_type": "code",
      "source": [
        "def mis_modelos():\n",
        "  modelos, nombres = list(), list()\n",
        "\n",
        "  # Regresión Logística:\n",
        "  modelos.append(LogisticRegression(max_iter=10000, random_state=15, solver='lbfgs'))\n",
        "  nombres.append('LR')\n",
        "\n",
        "  # k-Vecinos más Cercanos:\n",
        "  modelos.append(KNeighborsClassifier(n_neighbors=10, weights='distance'))\n",
        "  nombres.append('kNN')\n",
        "\n",
        "  # Árbol de decisiones:\n",
        "  modelos.append(DecisionTreeClassifier(max_depth=5, criterion='entropy', random_state=15))\n",
        "  nombres.append('DTree')\n",
        "\n",
        "  # XGBoosting:\n",
        "  modelos.append(XGBClassifier(n_estimators=100, learning_rate=0.1, random_state=15))\n",
        "  nombres.append('XGBoost')\n",
        "\n",
        "  # Red neuronal de Perceptrón Multicapa:\n",
        "  modelos.append(MLPClassifier(max_iter=10000, hidden_layer_sizes=(100,50), activation='relu', random_state=15))\n",
        "  nombres.append('MLP')\n",
        "\n",
        "  # Máquina de Vectores de Soporte:\n",
        "  modelos.append(SVC(kernel='rbf', C=1.0, random_state=15))\n",
        "  nombres.append('SVM')\n",
        "\n",
        "  return modelos, nombres"
      ],
      "metadata": {
        "id": "kSmXugbP0jb1"
      },
      "execution_count": null,
      "outputs": []
    },
    {
      "cell_type": "markdown",
      "source": [
        "Comparar el rendimiento de los modelos obtenidos."
      ],
      "metadata": {
        "id": "VcSyOIYbCV-E"
      }
    },
    {
      "cell_type": "code",
      "source": [
        "#Entrenemos cada uno de los modelos y desplegamos la métricas de Train y Val.\n",
        "\n",
        "modelos, nombres = mis_modelos()\n",
        "resultados = list()\n",
        "\n",
        "for i in range(len(modelos)):\n",
        "\n",
        "  # Definimos nuestro pipeline con las transformaciones y los modelos:\n",
        "  #\n",
        "  #\n",
        "  # TODO: ('ct',columnasTransformer),\n",
        "  pipeline = Pipeline(steps=[('m',modelos[i])])\n",
        "\n",
        "  # Aplicaremos validación-cruzada:\n",
        "  micv = RepeatedStratifiedKFold(n_splits=5, n_repeats=3)\n",
        "\n",
        "  # Definimos las métricas que desamos recuperar:\n",
        "  mismetricas = {'accuracy','precision','recall','f1','roc_auc'}\n",
        "\n",
        "  # Iniciamos timer\n",
        "  start_time = time.time()\n",
        "\n",
        "  # Llevamos a cabo el entrenamiento:\n",
        "  scores = cross_validate(pipeline,\n",
        "                          Xtrainval,\n",
        "                          ytrainval,\n",
        "                          scoring=mismetricas,\n",
        "                          cv=micv,\n",
        "                          return_train_score=True,\n",
        "                          )\n",
        "\n",
        "  # Detenemos el temporizador\n",
        "  end_time = time.time()\n",
        "\n",
        "  # Guardemos el resultado de cada modelopara análisis posteriores.\n",
        "  resultados.append(scores)\n",
        "\n",
        "  # Desplegamos los valores de las métricas para verificar si no hay\n",
        "  # subentrenamiento o sobreentrenamiento:\n",
        "  print('>> %s' % nombres[i])\n",
        "  print('\\t Training time: %.3f seconds' % (end_time - start_time))\n",
        "  for j,k in enumerate(list(scores.keys())):\n",
        "    if j>1:\n",
        "      print('\\t %s %.3f (%.3f)' % (k, np.mean(scores[k]),np.std(scores[k])))"
      ],
      "metadata": {
        "colab": {
          "base_uri": "https://localhost:8080/"
        },
        "id": "VfIr5fjO2-YP",
        "outputId": "d4f88854-ddcf-4730-c10f-974a5b7e817c"
      },
      "execution_count": null,
      "outputs": [
        {
          "metadata": {
            "tags": null
          },
          "name": "stdout",
          "output_type": "stream",
          "text": [
            ">> LR\n",
            "\t Training time: 29.398 seconds\n",
            "\t test_roc_auc 0.381 (0.005)\n",
            "\t train_roc_auc 0.381 (0.001)\n",
            "\t test_accuracy 0.968 (0.000)\n",
            "\t train_accuracy 0.968 (0.000)\n",
            "\t test_f1 0.984 (0.000)\n",
            "\t train_f1 0.984 (0.000)\n",
            "\t test_precision 0.968 (0.000)\n",
            "\t train_precision 0.968 (0.000)\n",
            "\t test_recall 1.000 (0.000)\n",
            "\t train_recall 1.000 (0.000)\n",
            ">> kNN\n",
            "\t Training time: 255.751 seconds\n",
            "\t test_roc_auc 0.867 (0.005)\n",
            "\t train_roc_auc 1.000 (0.000)\n",
            "\t test_accuracy 0.984 (0.000)\n",
            "\t train_accuracy 1.000 (0.000)\n",
            "\t test_f1 0.992 (0.000)\n",
            "\t train_f1 1.000 (0.000)\n",
            "\t test_precision 0.987 (0.000)\n",
            "\t train_precision 1.000 (0.000)\n",
            "\t test_recall 0.997 (0.000)\n",
            "\t train_recall 1.000 (0.000)\n",
            ">> DTree\n",
            "\t Training time: 27.827 seconds\n",
            "\t test_roc_auc 0.993 (0.002)\n",
            "\t train_roc_auc 0.995 (0.000)\n",
            "\t test_accuracy 0.996 (0.000)\n",
            "\t train_accuracy 0.996 (0.000)\n",
            "\t test_f1 0.998 (0.000)\n",
            "\t train_f1 0.998 (0.000)\n",
            "\t test_precision 0.998 (0.000)\n",
            "\t train_precision 0.998 (0.000)\n",
            "\t test_recall 0.998 (0.000)\n",
            "\t train_recall 0.998 (0.000)\n",
            ">> XGBoost\n",
            "\t Training time: 85.606 seconds\n",
            "\t test_roc_auc 0.995 (0.001)\n",
            "\t train_roc_auc 0.998 (0.000)\n",
            "\t test_accuracy 0.997 (0.000)\n",
            "\t train_accuracy 0.998 (0.000)\n",
            "\t test_f1 0.999 (0.000)\n",
            "\t train_f1 0.999 (0.000)\n",
            "\t test_precision 0.999 (0.000)\n",
            "\t train_precision 0.999 (0.000)\n",
            "\t test_recall 0.999 (0.000)\n",
            "\t train_recall 0.999 (0.000)\n",
            ">> MLP\n",
            "\t Training time: 3707.386 seconds\n",
            "\t test_roc_auc 0.500 (0.000)\n",
            "\t train_roc_auc 0.500 (0.000)\n",
            "\t test_accuracy 0.968 (0.000)\n",
            "\t train_accuracy 0.968 (0.000)\n",
            "\t test_f1 0.984 (0.000)\n",
            "\t train_f1 0.984 (0.000)\n",
            "\t test_precision 0.968 (0.000)\n",
            "\t train_precision 0.968 (0.000)\n",
            "\t test_recall 1.000 (0.000)\n",
            "\t train_recall 1.000 (0.000)\n"
          ]
        }
      ]
    },
    {
      "cell_type": "code",
      "source": [
        "def plot_metric_scores(metric_scores, metric_name, color_palette):\n",
        "    df = pd.DataFrame(metric_scores)\n",
        "\n",
        "    plt.figure(figsize=(10, 6))\n",
        "    sns.boxplot(data=df, palette=color_palette)\n",
        "    plt.title(f'{metric_name} Scores de los Modelos')\n",
        "    plt.ylabel(metric_name)\n",
        "    plt.xlabel('Modelos')\n",
        "    plt.xticks(rotation=45)\n",
        "    plt.show()\n",
        "\n",
        "# Recolectar recall y plotear\n",
        "recall_scores = {nombres[i]: resultados[i]['test_recall'] for i in range(len(modelos))}\n",
        "plot_metric_scores(recall_scores, 'Recall', 'Blues')\n",
        "\n",
        "# Recolectar F1-score y plotear\n",
        "f1_scores = {nombres[i]: resultados[i]['test_f1'] for i in range(len(modelos))}\n",
        "plot_metric_scores(f1_scores, 'F1 Score', 'Reds')\n"
      ],
      "metadata": {
        "colab": {
          "base_uri": "https://localhost:8080/",
          "height": 211
        },
        "id": "37TOvID9CEbE",
        "outputId": "f66c3ed7-a558-48f8-d9fe-c18c2e44a63a"
      },
      "execution_count": null,
      "outputs": [
        {
          "output_type": "error",
          "ename": "NameError",
          "evalue": "name 'modelos' is not defined",
          "traceback": [
            "\u001b[0;31m---------------------------------------------------------------------------\u001b[0m",
            "\u001b[0;31mNameError\u001b[0m                                 Traceback (most recent call last)",
            "\u001b[0;32m<ipython-input-1-cf9d00043439>\u001b[0m in \u001b[0;36m<cell line: 13>\u001b[0;34m()\u001b[0m\n\u001b[1;32m     11\u001b[0m \u001b[0;34m\u001b[0m\u001b[0m\n\u001b[1;32m     12\u001b[0m \u001b[0;31m# Recolectar recall y plotear\u001b[0m\u001b[0;34m\u001b[0m\u001b[0;34m\u001b[0m\u001b[0m\n\u001b[0;32m---> 13\u001b[0;31m \u001b[0mrecall_scores\u001b[0m \u001b[0;34m=\u001b[0m \u001b[0;34m{\u001b[0m\u001b[0mnombres\u001b[0m\u001b[0;34m[\u001b[0m\u001b[0mi\u001b[0m\u001b[0;34m]\u001b[0m\u001b[0;34m:\u001b[0m \u001b[0mresultados\u001b[0m\u001b[0;34m[\u001b[0m\u001b[0mi\u001b[0m\u001b[0;34m]\u001b[0m\u001b[0;34m[\u001b[0m\u001b[0;34m'test_recall'\u001b[0m\u001b[0;34m]\u001b[0m \u001b[0;32mfor\u001b[0m \u001b[0mi\u001b[0m \u001b[0;32min\u001b[0m \u001b[0mrange\u001b[0m\u001b[0;34m(\u001b[0m\u001b[0mlen\u001b[0m\u001b[0;34m(\u001b[0m\u001b[0mmodelos\u001b[0m\u001b[0;34m)\u001b[0m\u001b[0;34m)\u001b[0m\u001b[0;34m}\u001b[0m\u001b[0;34m\u001b[0m\u001b[0;34m\u001b[0m\u001b[0m\n\u001b[0m\u001b[1;32m     14\u001b[0m \u001b[0mplot_metric_scores\u001b[0m\u001b[0;34m(\u001b[0m\u001b[0mrecall_scores\u001b[0m\u001b[0;34m,\u001b[0m \u001b[0;34m'Recall'\u001b[0m\u001b[0;34m,\u001b[0m \u001b[0;34m'Blues'\u001b[0m\u001b[0;34m)\u001b[0m\u001b[0;34m\u001b[0m\u001b[0;34m\u001b[0m\u001b[0m\n\u001b[1;32m     15\u001b[0m \u001b[0;34m\u001b[0m\u001b[0m\n",
            "\u001b[0;31mNameError\u001b[0m: name 'modelos' is not defined"
          ]
        }
      ]
    },
    {
      "cell_type": "markdown",
      "source": [
        "Seleccionar los dos modelos que proporcionen el mejor rendimiento."
      ],
      "metadata": {
        "id": "BhA22vNGCZqW"
      }
    },
    {
      "cell_type": "code",
      "source": [
        "#SMOTE para clases no balanceadas\n",
        "from imblearn.over_sampling import SMOTE"
      ],
      "metadata": {
        "id": "2tnWrm6kffkZ"
      },
      "execution_count": null,
      "outputs": []
    },
    {
      "cell_type": "code",
      "source": [
        "def mis_modelos2():\n",
        "    modelos, nombres = list(), list()\n",
        "\n",
        "    # Regresión Logística:\n",
        "    modelos.append(LogisticRegression(max_iter=10000, random_state=15, solver='lbfgs'))\n",
        "    nombres.append('LR')\n",
        "\n",
        "    # Árbol de decisiones:\n",
        "    modelos.append(DecisionTreeClassifier(max_depth=5, criterion='entropy', random_state=15))\n",
        "    nombres.append('DTree')\n",
        "    return modelos, nombres"
      ],
      "metadata": {
        "id": "5PNS7y4seqSI"
      },
      "execution_count": null,
      "outputs": []
    },
    {
      "cell_type": "code",
      "source": [
        "modelos, nombres = mis_modelos2()\n",
        "resultados = list()\n",
        "sampling_strategy = 0.75\n",
        "\n",
        "for i in range(len(modelos)):\n",
        "    # Definimos nuestro pipeline con las transformaciones y los modelos:\n",
        "    pipeline = Pipeline(steps=[('sampling', SMOTE(sampling_strategy=sampling_strategy)),\n",
        "                                #('ct', columnasTransformer),\n",
        "                                ('m', modelos[i])])\n",
        "\n",
        "    # Aplicaremos validación-cruzada:\n",
        "    micv = RepeatedStratifiedKFold(n_splits=5, n_repeats=3)\n",
        "\n",
        "    # Definimos las métricas que deseamos recuperar:\n",
        "    mismetricas = {'accuracy', 'precision', 'recall', 'f1', 'roc_auc'}\n",
        "\n",
        "    # Iniciamos timer\n",
        "    start_time = time.time()\n",
        "\n",
        "    # Llevamos a cabo el entrenamiento:\n",
        "    scores = cross_validate(pipeline,\n",
        "                            Xtrainval,\n",
        "                            ytrainval,\n",
        "                            scoring=mismetricas,\n",
        "                            cv=micv,\n",
        "                            return_train_score=True)\n",
        "\n",
        "    # Detenemos el temporizador\n",
        "    end_time = time.time()\n",
        "\n",
        "    # Guardamos el resultado de cada modelo para análisis posteriores.\n",
        "    resultados.append(scores)\n",
        "\n",
        "    # Desplegamos los valores de las métricas para verificar si no hay\n",
        "    # subentrenamiento o sobreentrenamiento:\n",
        "    print('>> %s' % nombres[i])\n",
        "    print('\\t Training time: %.3f seconds' % (end_time - start_time))\n",
        "    for j, k in enumerate(list(scores.keys())):\n",
        "        if j > 1:\n",
        "            print('\\t %s %.3f (%.3f)' % (k, np.mean(scores[k]), np.std(scores[k])))"
      ],
      "metadata": {
        "id": "Y_pQAzizfDKO"
      },
      "execution_count": null,
      "outputs": []
    },
    {
      "cell_type": "markdown",
      "source": [
        "Ajustar los dos mejores modelos."
      ],
      "metadata": {
        "id": "DMXPnMxQCbT1"
      }
    },
    {
      "cell_type": "code",
      "source": [
        "# Con dicho mejor modelo y utilizando la técnica de validación cruzada, busca\n",
        "# los mejores hiperparámetros de dicho modelo\n",
        "from sklearn.model_selection import GridSearchCV\n",
        "\n",
        "# Definimos el Pipeline con SMOTE, transformaciones y Regresión Logística\n",
        "pipeline = Pipeline([\n",
        "    ('balanceo', SMOTE(sampling_strategy=0.75)),\n",
        "    #('transformaciones', columnasTransformer),\n",
        "    ('regresion_logistica', LogisticRegression(max_iter=10000, random_state=15))\n",
        "])\n",
        "\n",
        "# Definimos el espacio de búsqueda para GridSearchCV\n",
        "parametros_grid = {\n",
        "    'regresion_logistica__penalty': ['l2'],\n",
        "    'regresion_logistica__C': [0.001, 0.01, 0.1, 1, 10],\n",
        "    'regresion_logistica__solver': ['liblinear', 'saga', 'lbfgs']\n",
        "}\n",
        "\n",
        "# Utilizamos GridSearchCV para buscar hiperparámetros óptimos\n",
        "busqueda_grid = GridSearchCV(estimator=pipeline, param_grid=parametros_grid, scoring='f1', cv=5)\n",
        "busqueda_grid.fit(Xtrainval, ytrainval)\n",
        "\n",
        "print(\"Mejores hiperparámetros:\")\n",
        "print(busqueda_grid.best_params_)\n",
        "\n",
        "# Seleccionamos el mejor modelo encontrado por GridSearchCV\n",
        "mejor_modelo = busqueda_grid.best_estimator_\n",
        "\n",
        "# Aplicamos Validación-Cruzada y mostramos los resultados\n",
        "micv = RepeatedStratifiedKFold(n_splits=5, n_repeats=3)\n",
        "mismetricas = {'accuracy', 'precision', 'recall', 'f1', 'roc_auc'}\n",
        "resultados_validacion = cross_validate(mejor_modelo, Xtrainval, ytrainval, scoring=mismetricas, cv=micv, return_train_score=True)\n",
        "\n",
        "print('Resultados de validación cruzada:')\n",
        "for metrica in mismetricas:\n",
        "    print(f\"{metrica.capitalize()} promedio:\", np.mean(resultados_validacion[f\"test_{metrica}\"]),\n",
        "          f\"({np.std(resultados_validacion[f'test_{metrica}']):.3f})\")\n"
      ],
      "metadata": {
        "id": "3kGsYLJtgAvF"
      },
      "execution_count": null,
      "outputs": []
    },
    {
      "cell_type": "markdown",
      "source": [
        "Elegir el modelo individual final."
      ],
      "metadata": {
        "id": "lhdp2tOKCc85"
      }
    },
    {
      "cell_type": "code",
      "source": [
        "#### TODO"
      ],
      "metadata": {
        "id": "Q9Lg-f7TRtVq"
      },
      "execution_count": null,
      "outputs": []
    },
    {
      "cell_type": "code",
      "source": [
        "# el mejor modelo y los mejores hiperparámetros encontrados en el ejercicio anterior,\n",
        "# utiliza ahora (por primera vez en la actividad) el conjunto de prueba (test set) para:\n",
        "\n",
        "y_pred_test = mejor_modelo.predict(Xtest)\n",
        "\n",
        "print(\"Métricas en el conjunto de prueba:\")\n",
        "print(classification_report(ytest, y_pred_test))\n"
      ],
      "metadata": {
        "id": "tA8vPPEdg3nl"
      },
      "execution_count": null,
      "outputs": []
    },
    {
      "cell_type": "code",
      "source": [
        "# b.\tObtener la matriz de confusión.\n",
        "\n",
        "from sklearn.metrics import confusion_matrix\n",
        "\n",
        "# Realizar predicciones en el conjunto de prueba\n",
        "y_pred_test = mejor_modelo.predict(Xtest)\n",
        "\n",
        "# Calcular la matriz de confusión\n",
        "conf_matrix = confusion_matrix(ytest, y_pred_test)\n",
        "\n",
        "# Mostrar la matriz de confusión\n",
        "print(\"Matriz de confusión en el conjunto de prueba:\")\n",
        "print(conf_matrix)\n"
      ],
      "metadata": {
        "id": "5WCPhDOpg5nk"
      },
      "execution_count": null,
      "outputs": []
    }
  ],
  "metadata": {
    "colab": {
      "gpuType": "T4",
      "provenance": [],
      "include_colab_link": true
    },
    "kernelspec": {
      "display_name": "Python 3",
      "name": "python3"
    },
    "language_info": {
      "codemirror_mode": {
        "name": "ipython",
        "version": 3
      },
      "file_extension": ".py",
      "mimetype": "text/x-python",
      "name": "python",
      "nbconvert_exporter": "python",
      "pygments_lexer": "ipython3",
      "version": "3.9.13"
    },
    "accelerator": "GPU"
  },
  "nbformat": 4,
  "nbformat_minor": 0
}