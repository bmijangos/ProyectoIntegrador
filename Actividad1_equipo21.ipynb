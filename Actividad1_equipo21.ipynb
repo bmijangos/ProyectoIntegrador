{
  "nbformat": 4,
  "nbformat_minor": 0,
  "metadata": {
    "colab": {
      "provenance": [],
      "mount_file_id": "1yMF_YmL_-qM0j9LDvF8X4-uG-jlPyavh",
      "authorship_tag": "ABX9TyPk87zvo4cFUZ/ZOquebOUh",
      "include_colab_link": true
    },
    "kernelspec": {
      "name": "python3",
      "display_name": "Python 3"
    },
    "language_info": {
      "name": "python"
    }
  },
  "cells": [
    {
      "cell_type": "markdown",
      "metadata": {
        "id": "view-in-github",
        "colab_type": "text"
      },
      "source": [
        "<a href=\"https://colab.research.google.com/github/bmijangos/ProyectoIntegrador/blob/main/Actividad1_equipo21.ipynb\" target=\"_parent\"><img src=\"https://colab.research.google.com/assets/colab-badge.svg\" alt=\"Open In Colab\"/></a>"
      ]
    },
    {
      "cell_type": "code",
      "execution_count": 4,
      "metadata": {
        "colab": {
          "base_uri": "https://localhost:8080/"
        },
        "id": "oQW9dqxBCoj5",
        "outputId": "2cca0b58-149f-4ba5-9214-cb9bb6510881"
      },
      "outputs": [
        {
          "output_type": "stream",
          "name": "stdout",
          "text": [
            "Drive already mounted at /content/drive; to attempt to forcibly remount, call drive.mount(\"/content/drive\", force_remount=True).\n"
          ]
        }
      ],
      "source": [
        "# conectamos al drive de google para la lectura de los archivos csv\n",
        "from google.colab import drive\n",
        "drive.mount('/content/drive')"
      ]
    },
    {
      "cell_type": "code",
      "source": [
        "import os\n",
        "import pandas as pd\n",
        "import matplotlib.pyplot as plt\n",
        "import numpy as np"
      ],
      "metadata": {
        "id": "H-q2rxNGqS-N"
      },
      "execution_count": 45,
      "outputs": []
    },
    {
      "cell_type": "code",
      "source": [
        "\n",
        "# Lectura de los archivos csv\n",
        "file_path = '/content/drive/MyDrive/DataSetProyecto/GrupalTodo.csv'\n",
        "\n",
        "label = [\"IdCliente\",\"FechaAltaCliente\",\"CodigoGrupo\",\"EdadCliente\",\"Genero\",\"EstadoCivil\",\"Escolaridad\",\"CapacidadPago\",\"Localidad\",\"CodigoSucursal\",\"CodigoASesor\",\"NumeroCredito\",\"CicloCliente\",\"FechaDesembolso\",\"FechaVencimiento\",\"FechaCancelacion\",\"Plazo\",\"PeriodoPago\",\"EstatusCredito\",\"MontoCredito\",\"CuotaNumero\",\"CuotaFechaVencimiento\",\"CuotaFechaCancelacion\",\"MontoCuota\",\"MontoCapital\",\"SaldoCapital\",\"EstatusCuota\",\"DiasAtraso\"]\n",
        "\n",
        "# Obtenemos el dataframe\n",
        "pagos_df = pd.read_csv(file_path, names=label)\n",
        "\n",
        "pagos_df.shape\n"
      ],
      "metadata": {
        "colab": {
          "base_uri": "https://localhost:8080/"
        },
        "id": "cryZp6GGEbmS",
        "outputId": "c44c489b-e527-400c-f9f6-f63b2a4aad69"
      },
      "execution_count": 5,
      "outputs": [
        {
          "output_type": "execute_result",
          "data": {
            "text/plain": [
              "(4254537, 28)"
            ]
          },
          "metadata": {},
          "execution_count": 5
        }
      ]
    },
    {
      "cell_type": "code",
      "source": [
        "# Agregamos los datos del segundo archivo de castigos\n",
        "file_path = '/content/drive/MyDrive/DataSetProyecto/GrupalTodoCastigos.csv'\n",
        "\n",
        "castigos_df = pd.read_csv(file_path)\n",
        "\n",
        "castigos_df.shape"
      ],
      "metadata": {
        "colab": {
          "base_uri": "https://localhost:8080/"
        },
        "id": "wSutp6k-czNC",
        "outputId": "a665f5c1-5592-4612-ad8b-ce501c1ff212"
      },
      "execution_count": 6,
      "outputs": [
        {
          "output_type": "execute_result",
          "data": {
            "text/plain": [
              "(127677, 28)"
            ]
          },
          "metadata": {},
          "execution_count": 6
        }
      ]
    },
    {
      "cell_type": "code",
      "source": [
        "# unimos los dos dataframes en uno solo\n",
        "grupal_df = pd.concat([pagos_df, castigos_df], axis=0)"
      ],
      "metadata": {
        "id": "biWyBf3adLOg"
      },
      "execution_count": 7,
      "outputs": []
    },
    {
      "cell_type": "code",
      "source": [
        "grupal_df.shape"
      ],
      "metadata": {
        "colab": {
          "base_uri": "https://localhost:8080/"
        },
        "id": "mhSCapJpdtSS",
        "outputId": "63efadab-c832-4115-c52e-40fbeb026fe1"
      },
      "execution_count": 8,
      "outputs": [
        {
          "output_type": "execute_result",
          "data": {
            "text/plain": [
              "(4382214, 28)"
            ]
          },
          "metadata": {},
          "execution_count": 8
        }
      ]
    },
    {
      "cell_type": "markdown",
      "source": [
        "¿Hay valores faltantes en el conjunto de datos?\n",
        "Si existen valores nulos los cuales representan menos del 0.01 porciento del total de la base de datos por lo que se decide eliminar\n",
        "\n",
        "¿Se pueden identificar patrones de ausencia?\n",
        "Se decide eliminar los registros faltantes por no ser representativo para la muestra\n"
      ],
      "metadata": {
        "id": "dGZHDLoDWBCK"
      }
    },
    {
      "cell_type": "code",
      "source": [
        "grupal_df.isnull().values.any()"
      ],
      "metadata": {
        "colab": {
          "base_uri": "https://localhost:8080/"
        },
        "id": "EXcXtRRaKaKm",
        "outputId": "5e7f6a0d-877a-4f62-d783-5256665412a7"
      },
      "execution_count": 9,
      "outputs": [
        {
          "output_type": "execute_result",
          "data": {
            "text/plain": [
              "True"
            ]
          },
          "metadata": {},
          "execution_count": 9
        }
      ]
    },
    {
      "cell_type": "code",
      "source": [
        "grupal_df.isnull().sum()"
      ],
      "metadata": {
        "id": "7-Am5HWKYUCO",
        "colab": {
          "base_uri": "https://localhost:8080/"
        },
        "outputId": "ec45c693-7b4b-4857-cf64-3df8117fe77e"
      },
      "execution_count": 10,
      "outputs": [
        {
          "output_type": "execute_result",
          "data": {
            "text/plain": [
              "IdCliente                   0\n",
              "FechaAltaCliente            0\n",
              "CodigoGrupo                 0\n",
              "EdadCliente                 0\n",
              "Genero                      0\n",
              "EstadoCivil                 0\n",
              "Escolaridad              1243\n",
              "CapacidadPago               0\n",
              "Localidad                   0\n",
              "CodigoSucursal              0\n",
              "CodigoASesor                0\n",
              "NumeroCredito               0\n",
              "CicloCliente                0\n",
              "FechaDesembolso             0\n",
              "FechaVencimiento            0\n",
              "FechaCancelacion            0\n",
              "Plazo                       0\n",
              "PeriodoPago                 0\n",
              "EstatusCredito              0\n",
              "MontoCredito                0\n",
              "CuotaNumero                 0\n",
              "CuotaFechaVencimiento       0\n",
              "CuotaFechaCancelacion     128\n",
              "MontoCuota                  0\n",
              "MontoCapital                0\n",
              "SaldoCapital                0\n",
              "EstatusCuota                0\n",
              "DiasAtraso                128\n",
              "dtype: int64"
            ]
          },
          "metadata": {},
          "execution_count": 10
        }
      ]
    },
    {
      "cell_type": "code",
      "source": [
        "# eliminamos los valores nullo\n",
        "gpdf = grupal_df.dropna()"
      ],
      "metadata": {
        "id": "R2E-NNbeR0un"
      },
      "execution_count": 11,
      "outputs": []
    },
    {
      "cell_type": "code",
      "source": [
        "gpdf.isnull().values.any()"
      ],
      "metadata": {
        "colab": {
          "base_uri": "https://localhost:8080/"
        },
        "id": "84QHq8A7Z_zN",
        "outputId": "fae2c9d1-b14a-401b-b73c-86e4e2956df0"
      },
      "execution_count": 12,
      "outputs": [
        {
          "output_type": "execute_result",
          "data": {
            "text/plain": [
              "False"
            ]
          },
          "metadata": {},
          "execution_count": 12
        }
      ]
    },
    {
      "cell_type": "markdown",
      "source": [
        "¿Cuáles son las estadísticas resumidas del conjunto de datos?"
      ],
      "metadata": {
        "id": "ysOMN7OIXmLL"
      }
    },
    {
      "cell_type": "code",
      "source": [
        "print(gpdf.describe(exclude=[object]))"
      ],
      "metadata": {
        "colab": {
          "base_uri": "https://localhost:8080/"
        },
        "id": "C703AVaWZvrY",
        "outputId": "2e270e14-0c43-4dca-c241-5861084e5a66"
      },
      "execution_count": 23,
      "outputs": [
        {
          "output_type": "stream",
          "name": "stdout",
          "text": [
            "          IdCliente   CodigoGrupo   EdadCliente   EstadoCivil  CapacidadPago  \\\n",
            "count  4.380844e+06  4.380844e+06  4.380844e+06  4.380844e+06   4.380844e+06   \n",
            "mean   5.902005e+04  8.415457e+02  4.615864e+01  3.268472e+00   7.633413e+03   \n",
            "std    3.836093e+04  5.770191e+02  1.334739e+01  1.669057e+00   3.069242e+04   \n",
            "min    4.000000e+00  0.000000e+00  1.900000e+01  1.000000e+00  -6.391200e+06   \n",
            "25%    2.367200e+04  3.130000e+02  3.600000e+01  2.000000e+00   2.400000e+03   \n",
            "50%    5.530600e+04  8.230000e+02  4.500000e+01  3.000000e+00   6.000000e+03   \n",
            "75%    9.229100e+04  1.244000e+03  5.500000e+01  5.000000e+00   1.017600e+04   \n",
            "max    1.376940e+05  2.594000e+03  1.130000e+02  7.000000e+00   8.000400e+06   \n",
            "\n",
            "          Localidad  CodigoSucursal  NumeroCredito  CicloCliente  \\\n",
            "count  4.380844e+06    4.380844e+06   4.380844e+06  4.380844e+06   \n",
            "mean   7.607020e+03    6.142390e+00   6.143053e+09  5.265920e+00   \n",
            "std    3.124029e+03    4.096959e+00   4.096748e+09  4.991101e+00   \n",
            "min    1.878000e+03    0.000000e+00   7.000000e+02  1.000000e+00   \n",
            "25%    7.065000e+03    3.000000e+00   3.000495e+09  2.000000e+00   \n",
            "50%    7.089000e+03    6.000000e+00   6.000648e+09  3.000000e+00   \n",
            "75%    7.131000e+03    9.000000e+00   9.000350e+09  7.000000e+00   \n",
            "max    3.068000e+04    2.100000e+01   2.100005e+10  4.300000e+01   \n",
            "\n",
            "              Plazo  MontoCredito   CuotaNumero    MontoCuota  MontoCapital  \\\n",
            "count  4.380844e+06  4.380844e+06  4.380844e+06  4.380844e+06  4.380844e+06   \n",
            "mean   1.210345e+01  7.982243e+03  6.551549e+00  8.140315e+02  6.644447e+02   \n",
            "std    2.916643e+00  7.905486e+03  3.867682e+00  8.199406e+02  6.668485e+02   \n",
            "min    3.000000e+00  5.000000e+02  1.000000e+00  7.880000e+00  7.010000e+00   \n",
            "25%    1.200000e+01  3.000000e+03  3.000000e+00  3.705500e+02  2.929900e+02   \n",
            "50%    1.200000e+01  5.000000e+03  6.000000e+00  5.652800e+02  4.638900e+02   \n",
            "75%    1.200000e+01  1.000000e+04  9.000000e+00  9.685500e+02  7.769400e+02   \n",
            "max    3.600000e+01  1.200000e+05  3.600000e+01  2.678669e+04  2.580999e+04   \n",
            "\n",
            "       SaldoCapital    DiasAtraso  \n",
            "count  4.380844e+06  4.380844e+06  \n",
            "mean   7.455159e+00  2.969777e+00  \n",
            "std    1.043779e+02  1.974099e+01  \n",
            "min    0.000000e+00 -4.660000e+02  \n",
            "25%    0.000000e+00  0.000000e+00  \n",
            "50%    0.000000e+00  0.000000e+00  \n",
            "75%    0.000000e+00  1.000000e+00  \n",
            "max    1.086918e+04  1.977000e+03  \n"
          ]
        }
      ]
    },
    {
      "cell_type": "code",
      "source": [
        "print(gpdf.Genero.describe())\n",
        "print(gpdf.Escolaridad.describe())\n",
        "print(gpdf.PeriodoPago.describe())\n",
        "print(gpdf.EstatusCredito.describe())"
      ],
      "metadata": {
        "id": "bkuhylt2m7DU",
        "outputId": "e1bb03cf-b204-4694-d222-de79d33f4811",
        "colab": {
          "base_uri": "https://localhost:8080/"
        }
      },
      "execution_count": 44,
      "outputs": [
        {
          "output_type": "stream",
          "name": "stdout",
          "text": [
            "count     4380844\n",
            "unique          2\n",
            "top             F\n",
            "freq      4378507\n",
            "Name: Genero, dtype: object\n",
            "count     4380844\n",
            "unique         14\n",
            "top            1A\n",
            "freq      1302653\n",
            "Name: Escolaridad, dtype: object\n",
            "count          4380844\n",
            "unique               3\n",
            "top       CATORCENA(S)\n",
            "freq           3816897\n",
            "Name: PeriodoPago, dtype: object\n",
            "count     4380844\n",
            "unique          2\n",
            "top           CAN\n",
            "freq      4253254\n",
            "Name: EstatusCredito, dtype: object\n"
          ]
        }
      ]
    },
    {
      "cell_type": "code",
      "source": [
        "gpdf.info()"
      ],
      "metadata": {
        "id": "OTg0QyMonyR0",
        "outputId": "58b8fc35-ef64-42f7-b3da-902f0475770c",
        "colab": {
          "base_uri": "https://localhost:8080/"
        }
      },
      "execution_count": 28,
      "outputs": [
        {
          "output_type": "stream",
          "name": "stdout",
          "text": [
            "<class 'pandas.core.frame.DataFrame'>\n",
            "Index: 4380844 entries, 0 to 127676\n",
            "Data columns (total 28 columns):\n",
            " #   Column                 Dtype  \n",
            "---  ------                 -----  \n",
            " 0   IdCliente              int64  \n",
            " 1   FechaAltaCliente       object \n",
            " 2   CodigoGrupo            int64  \n",
            " 3   EdadCliente            int64  \n",
            " 4   Genero                 object \n",
            " 5   EstadoCivil            int64  \n",
            " 6   Escolaridad            object \n",
            " 7   CapacidadPago          float64\n",
            " 8   Localidad              int64  \n",
            " 9   CodigoSucursal         int64  \n",
            " 10  CodigoASesor           object \n",
            " 11  NumeroCredito          int64  \n",
            " 12  CicloCliente           int64  \n",
            " 13  FechaDesembolso        object \n",
            " 14  FechaVencimiento       object \n",
            " 15  FechaCancelacion       object \n",
            " 16  Plazo                  int64  \n",
            " 17  PeriodoPago            object \n",
            " 18  EstatusCredito         object \n",
            " 19  MontoCredito           float64\n",
            " 20  CuotaNumero            int64  \n",
            " 21  CuotaFechaVencimiento  object \n",
            " 22  CuotaFechaCancelacion  object \n",
            " 23  MontoCuota             float64\n",
            " 24  MontoCapital           float64\n",
            " 25  SaldoCapital           float64\n",
            " 26  EstatusCuota           object \n",
            " 27  DiasAtraso             float64\n",
            "dtypes: float64(6), int64(10), object(12)\n",
            "memory usage: 969.3+ MB\n"
          ]
        }
      ]
    },
    {
      "cell_type": "code",
      "source": [
        "print(gpdf.head())"
      ],
      "metadata": {
        "colab": {
          "base_uri": "https://localhost:8080/"
        },
        "id": "zSHPUnHEdW_t",
        "outputId": "faba7f8d-234d-4ad5-8eb8-1c47220feac0"
      },
      "execution_count": 13,
      "outputs": [
        {
          "output_type": "stream",
          "name": "stdout",
          "text": [
            "   IdCliente         FechaAltaCliente  CodigoGrupo  EdadCliente Genero  \\\n",
            "0        261  2004-02-16 00:00:00.000           56           40      F   \n",
            "1      30654  2004-02-01 00:00:00.000         1223           65      F   \n",
            "2        264  2004-02-16 00:00:00.000           57           68      F   \n",
            "3        263  2004-02-16 00:00:00.000           56           71      F   \n",
            "4        261  2004-02-16 00:00:00.000           56           40      F   \n",
            "\n",
            "   EstadoCivil Escolaridad  CapacidadPago  Localidad  CodigoSucursal  ...  \\\n",
            "0            2          1A            0.0       7181               1  ...   \n",
            "1            3          7A            0.0       7086               1  ...   \n",
            "2            5          7A            0.0       7181               1  ...   \n",
            "3            5          7A            0.0       7181               1  ...   \n",
            "4            2          1A            0.0       7181               1  ...   \n",
            "\n",
            "  EstatusCredito  MontoCredito  CuotaNumero    CuotaFechaVencimiento  \\\n",
            "0            CAN       20000.0            1  2012-01-16 00:00:00.000   \n",
            "1            CAN        7000.0            1  2012-01-16 00:00:00.000   \n",
            "2            CAN       20000.0            1  2012-01-16 00:00:00.000   \n",
            "3            CAN       15000.0            1  2012-01-16 00:00:00.000   \n",
            "4            CAN       20000.0            2  2012-01-30 00:00:00.000   \n",
            "\n",
            "     CuotaFechaCancelacion MontoCuota  MontoCapital SaldoCapital EstatusCuota  \\\n",
            "0  2012-01-16 10:04:10.000    1075.86         800.0          0.0            C   \n",
            "1  2012-01-16 11:33:11.000     400.69         280.0          0.0            C   \n",
            "2  2012-01-16 10:04:41.000    1075.86         800.0          0.0            C   \n",
            "3  2012-01-16 10:04:10.000     806.90         600.0          0.0            C   \n",
            "4  2012-01-30 10:56:22.000    1075.86         800.0          0.0            C   \n",
            "\n",
            "   DiasAtraso  \n",
            "0         0.0  \n",
            "1         0.0  \n",
            "2         0.0  \n",
            "3         0.0  \n",
            "4         0.0  \n",
            "\n",
            "[5 rows x 28 columns]\n"
          ]
        }
      ]
    },
    {
      "cell_type": "markdown",
      "source": [
        "¿Hay valores atípicos en el conjunto de datos?"
      ],
      "metadata": {
        "id": "Pf5Zgjc4mjDS"
      }
    },
    {
      "cell_type": "markdown",
      "source": [
        "¿Existen distribuciones sesgadas en el conjunto de datos? ¿Necesitamos aplicar alguna transformación no lineal?\n",
        "¿Se identifican tendencias temporales? (En caso de que el conjunto incluya una dimensión de tiempo).\n",
        "¿Hay correlación entre las variables dependientes e independientes?\n",
        "¿Cómo se distribuyen los datos en función de diferentes categorías?\n",
        "¿Existen patrones o agrupaciones (clusters) en los datos con características similares?\n",
        "¿Se deberían normalizar las imágenes para visualizarlas mejor?\n",
        "¿Hay desequilibrio en las clases de la variable objetivo?"
      ],
      "metadata": {
        "id": "GuNZJA5RmiPb"
      }
    },
    {
      "cell_type": "code",
      "source": [],
      "metadata": {
        "id": "hR1dplwUhQ3M"
      },
      "execution_count": null,
      "outputs": []
    }
  ]
}