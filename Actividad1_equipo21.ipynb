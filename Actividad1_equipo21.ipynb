{
  "nbformat": 4,
  "nbformat_minor": 0,
  "metadata": {
    "colab": {
      "provenance": [],
      "mount_file_id": "1yMF_YmL_-qM0j9LDvF8X4-uG-jlPyavh",
      "authorship_tag": "ABX9TyMkXBqwKzTQqjNSNvjknep+",
      "include_colab_link": true
    },
    "kernelspec": {
      "name": "python3",
      "display_name": "Python 3"
    },
    "language_info": {
      "name": "python"
    }
  },
  "cells": [
    {
      "cell_type": "markdown",
      "metadata": {
        "id": "view-in-github",
        "colab_type": "text"
      },
      "source": [
        "<a href=\"https://colab.research.google.com/github/bmijangos/ProyectoIntegrador/blob/main/Actividad1_equipo21.ipynb\" target=\"_parent\"><img src=\"https://colab.research.google.com/assets/colab-badge.svg\" alt=\"Open In Colab\"/></a>"
      ]
    },
    {
      "cell_type": "code",
      "execution_count": 1,
      "metadata": {
        "colab": {
          "base_uri": "https://localhost:8080/"
        },
        "id": "oQW9dqxBCoj5",
        "outputId": "f1d1c950-23ce-438c-9a29-ecd9da60337f"
      },
      "outputs": [
        {
          "output_type": "stream",
          "name": "stdout",
          "text": [
            "Drive already mounted at /content/drive; to attempt to forcibly remount, call drive.mount(\"/content/drive\", force_remount=True).\n"
          ]
        }
      ],
      "source": [
        "from google.colab import drive\n",
        "drive.mount('/content/drive')"
      ]
    },
    {
      "cell_type": "code",
      "source": [
        "import os\n",
        "import pandas as pd\n",
        "\n",
        "# Change the path to the folder containing your CSV file\n",
        "# PASO 1: PONER NOMBRE DE LA CARPETA CON TODOS LOS ARCHIVOS A JUNTAR\n",
        "file_path = '/content/drive/MyDrive/DataSetProyecto/GrupalTodo.csv'\n",
        "\n",
        "label = [\"IdCliente\",\"FechaAltaCliente\",\"CodigoGrupo\",\"EdadCliente\",\"Genero\",\"EstadoCivil\",\"Escolaridad\",\"CapacidadPago\",\"Localidad\",\"CodigoSucursal\",\"CodigoASesor\",\"NumeroCredito\",\"CicloCliente\",\"FechaDesembolso\",\"FechaVencimiento\",\"FechaCancelacion\",\"Plazo\",\"PeriodoPago\",\"EstatusCredito\",\"MontoCredito\",\"CuotaNumero\",\"CuotaFechaVencimiento\",\"CuotaFechaCancelacion\",\"MontoCuota\",\"MontoCapital\",\"SaldoCapital\",\"EstatusCuota\",\"DiasAtraso\"]\n",
        "\n",
        "# List all CSV files in the folder\n",
        "#files_csv = [file for file in os.listdir(folder_path) if file.endswith('.csv')]\n",
        "\n",
        "# Initialize merged_df with the first CSV file\n",
        "#first_file_path = os.path.join(folder_path, csv_files[0])\n",
        "pagos_df = pd.read_csv(file_path, names=label)\n",
        "\n",
        "pagos_df.shape\n"
      ],
      "metadata": {
        "colab": {
          "base_uri": "https://localhost:8080/"
        },
        "id": "cryZp6GGEbmS",
        "outputId": "43c4fd28-8aa2-44e4-f860-21e62cd03587"
      },
      "execution_count": 19,
      "outputs": [
        {
          "output_type": "execute_result",
          "data": {
            "text/plain": [
              "(4254537, 28)"
            ]
          },
          "metadata": {},
          "execution_count": 19
        }
      ]
    },
    {
      "cell_type": "code",
      "source": [
        "\n",
        "print(pagos_df.describe())\n"
      ],
      "metadata": {
        "colab": {
          "base_uri": "https://localhost:8080/"
        },
        "id": "Du-SOhpEGQTR",
        "outputId": "97911f5b-600c-4232-edfd-761a5ede6117"
      },
      "execution_count": 20,
      "outputs": [
        {
          "output_type": "stream",
          "name": "stdout",
          "text": [
            "          IdCliente   CodigoGrupo   EdadCliente   EstadoCivil  CapacidadPago  \\\n",
            "count  4.254537e+06  4.254537e+06  4.254537e+06  4.254537e+06   4.254537e+06   \n",
            "mean   5.815281e+04  8.321097e+02  4.623789e+01  3.270870e+00   7.621685e+03   \n",
            "std    3.812177e+04  5.732285e+02  1.334067e+01  1.666330e+00   3.071014e+04   \n",
            "min    4.000000e+00  0.000000e+00  1.900000e+01  1.000000e+00  -6.391200e+06   \n",
            "25%    2.311600e+04  3.090000e+02  3.600000e+01  2.000000e+00   2.400000e+03   \n",
            "50%    5.382500e+04  8.080000e+02  4.500000e+01  3.000000e+00   6.000000e+03   \n",
            "75%    9.091700e+04  1.224000e+03  5.500000e+01  5.000000e+00   1.017600e+04   \n",
            "max    1.376940e+05  2.594000e+03  1.130000e+02  7.000000e+00   8.000400e+06   \n",
            "\n",
            "          Localidad  CodigoSucursal  NumeroCredito  CicloCliente  \\\n",
            "count  4.254537e+06    4.254537e+06   4.254537e+06  4.254537e+06   \n",
            "mean   7.611124e+03    6.100910e+00   6.101569e+09  5.277144e+00   \n",
            "std    3.138630e+03    4.080507e+00   4.080299e+09  4.996898e+00   \n",
            "min    1.878000e+03    0.000000e+00   7.000000e+02  1.000000e+00   \n",
            "25%    7.065000e+03    3.000000e+00   3.000471e+09  2.000000e+00   \n",
            "50%    7.090000e+03    6.000000e+00   6.000590e+09  3.000000e+00   \n",
            "75%    7.132000e+03    9.000000e+00   9.000319e+09  7.000000e+00   \n",
            "max    3.068000e+04    2.100000e+01   2.100005e+10  4.300000e+01   \n",
            "\n",
            "              Plazo  MontoCredito   CuotaNumero    MontoCuota  MontoCapital  \\\n",
            "count  4.254537e+06  4.254537e+06  4.254537e+06  4.254537e+06  4.254537e+06   \n",
            "mean   1.214222e+01  7.981172e+03  6.571055e+00  8.118715e+02  6.626905e+02   \n",
            "std    2.922418e+00  7.887641e+03  3.879344e+00  8.183431e+02  6.657718e+02   \n",
            "min    3.000000e+00  5.000000e+02  1.000000e+00  7.880000e+00  7.010000e+00   \n",
            "25%    1.200000e+01  3.000000e+03  3.000000e+00  3.705500e+02  2.914000e+02   \n",
            "50%    1.200000e+01  5.000000e+03  6.000000e+00  5.633400e+02  4.624900e+02   \n",
            "75%    1.200000e+01  1.000000e+04  9.000000e+00  9.655200e+02  7.748700e+02   \n",
            "max    3.600000e+01  1.200000e+05  3.600000e+01  2.678669e+04  2.580999e+04   \n",
            "\n",
            "       SaldoCapital    DiasAtraso  \n",
            "count  4.254537e+06  4.254496e+06  \n",
            "mean   1.927354e-07  1.177131e+00  \n",
            "std    8.939482e-05  1.172359e+01  \n",
            "min    0.000000e+00 -4.660000e+02  \n",
            "25%    0.000000e+00  0.000000e+00  \n",
            "50%    0.000000e+00  0.000000e+00  \n",
            "75%    0.000000e+00  1.000000e+00  \n",
            "max    7.000000e-02  1.977000e+03  \n"
          ]
        }
      ]
    },
    {
      "cell_type": "code",
      "source": [
        "\n",
        "print(pagos_df.head())\n"
      ],
      "metadata": {
        "colab": {
          "base_uri": "https://localhost:8080/"
        },
        "id": "PUwNBbcCJWLz",
        "outputId": "a5e44b4f-bbd7-4e3b-ed96-104203035d4b"
      },
      "execution_count": 21,
      "outputs": [
        {
          "output_type": "stream",
          "name": "stdout",
          "text": [
            "   IdCliente         FechaAltaCliente  CodigoGrupo  EdadCliente Genero  \\\n",
            "0        261  2004-02-16 00:00:00.000           56           40      F   \n",
            "1      30654  2004-02-01 00:00:00.000         1223           65      F   \n",
            "2        264  2004-02-16 00:00:00.000           57           68      F   \n",
            "3        263  2004-02-16 00:00:00.000           56           71      F   \n",
            "4        261  2004-02-16 00:00:00.000           56           40      F   \n",
            "\n",
            "   EstadoCivil Escolaridad  CapacidadPago  Localidad  CodigoSucursal  ...  \\\n",
            "0            2          1A            0.0       7181               1  ...   \n",
            "1            3          7A            0.0       7086               1  ...   \n",
            "2            5          7A            0.0       7181               1  ...   \n",
            "3            5          7A            0.0       7181               1  ...   \n",
            "4            2          1A            0.0       7181               1  ...   \n",
            "\n",
            "  EstatusCredito  MontoCredito  CuotaNumero    CuotaFechaVencimiento  \\\n",
            "0            CAN       20000.0            1  2012-01-16 00:00:00.000   \n",
            "1            CAN        7000.0            1  2012-01-16 00:00:00.000   \n",
            "2            CAN       20000.0            1  2012-01-16 00:00:00.000   \n",
            "3            CAN       15000.0            1  2012-01-16 00:00:00.000   \n",
            "4            CAN       20000.0            2  2012-01-30 00:00:00.000   \n",
            "\n",
            "     CuotaFechaCancelacion MontoCuota  MontoCapital SaldoCapital EstatusCuota  \\\n",
            "0  2012-01-16 10:04:10.000    1075.86         800.0          0.0            C   \n",
            "1  2012-01-16 11:33:11.000     400.69         280.0          0.0            C   \n",
            "2  2012-01-16 10:04:41.000    1075.86         800.0          0.0            C   \n",
            "3  2012-01-16 10:04:10.000     806.90         600.0          0.0            C   \n",
            "4  2012-01-30 10:56:22.000    1075.86         800.0          0.0            C   \n",
            "\n",
            "   DiasAtraso  \n",
            "0         0.0  \n",
            "1         0.0  \n",
            "2         0.0  \n",
            "3         0.0  \n",
            "4         0.0  \n",
            "\n",
            "[5 rows x 28 columns]\n"
          ]
        }
      ]
    },
    {
      "cell_type": "code",
      "source": [
        "pagos_df.dtypes"
      ],
      "metadata": {
        "colab": {
          "base_uri": "https://localhost:8080/"
        },
        "id": "vVF-8APiJX4O",
        "outputId": "f4ce34be-5152-4f18-c891-e5f018b8ca4e"
      },
      "execution_count": 22,
      "outputs": [
        {
          "output_type": "execute_result",
          "data": {
            "text/plain": [
              "IdCliente                  int64\n",
              "FechaAltaCliente          object\n",
              "CodigoGrupo                int64\n",
              "EdadCliente                int64\n",
              "Genero                    object\n",
              "EstadoCivil                int64\n",
              "Escolaridad               object\n",
              "CapacidadPago            float64\n",
              "Localidad                  int64\n",
              "CodigoSucursal             int64\n",
              "CodigoASesor              object\n",
              "NumeroCredito              int64\n",
              "CicloCliente               int64\n",
              "FechaDesembolso           object\n",
              "FechaVencimiento          object\n",
              "FechaCancelacion          object\n",
              "Plazo                      int64\n",
              "PeriodoPago               object\n",
              "EstatusCredito            object\n",
              "MontoCredito             float64\n",
              "CuotaNumero                int64\n",
              "CuotaFechaVencimiento     object\n",
              "CuotaFechaCancelacion     object\n",
              "MontoCuota               float64\n",
              "MontoCapital             float64\n",
              "SaldoCapital             float64\n",
              "EstatusCuota              object\n",
              "DiasAtraso               float64\n",
              "dtype: object"
            ]
          },
          "metadata": {},
          "execution_count": 22
        }
      ]
    },
    {
      "cell_type": "code",
      "source": [
        "pagos_df.info()"
      ],
      "metadata": {
        "colab": {
          "base_uri": "https://localhost:8080/"
        },
        "id": "eSsFsgolKJlJ",
        "outputId": "441d6d36-6c92-4097-d89a-2c43946dcba1"
      },
      "execution_count": 23,
      "outputs": [
        {
          "output_type": "stream",
          "name": "stdout",
          "text": [
            "<class 'pandas.core.frame.DataFrame'>\n",
            "RangeIndex: 4254537 entries, 0 to 4254536\n",
            "Data columns (total 28 columns):\n",
            " #   Column                 Dtype  \n",
            "---  ------                 -----  \n",
            " 0   IdCliente              int64  \n",
            " 1   FechaAltaCliente       object \n",
            " 2   CodigoGrupo            int64  \n",
            " 3   EdadCliente            int64  \n",
            " 4   Genero                 object \n",
            " 5   EstadoCivil            int64  \n",
            " 6   Escolaridad            object \n",
            " 7   CapacidadPago          float64\n",
            " 8   Localidad              int64  \n",
            " 9   CodigoSucursal         int64  \n",
            " 10  CodigoASesor           object \n",
            " 11  NumeroCredito          int64  \n",
            " 12  CicloCliente           int64  \n",
            " 13  FechaDesembolso        object \n",
            " 14  FechaVencimiento       object \n",
            " 15  FechaCancelacion       object \n",
            " 16  Plazo                  int64  \n",
            " 17  PeriodoPago            object \n",
            " 18  EstatusCredito         object \n",
            " 19  MontoCredito           float64\n",
            " 20  CuotaNumero            int64  \n",
            " 21  CuotaFechaVencimiento  object \n",
            " 22  CuotaFechaCancelacion  object \n",
            " 23  MontoCuota             float64\n",
            " 24  MontoCapital           float64\n",
            " 25  SaldoCapital           float64\n",
            " 26  EstatusCuota           object \n",
            " 27  DiasAtraso             float64\n",
            "dtypes: float64(6), int64(10), object(12)\n",
            "memory usage: 908.9+ MB\n"
          ]
        }
      ]
    },
    {
      "cell_type": "code",
      "source": [],
      "metadata": {
        "id": "EXcXtRRaKaKm"
      },
      "execution_count": null,
      "outputs": []
    }
  ]
}